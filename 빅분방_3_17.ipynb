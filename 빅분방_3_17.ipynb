{
  "nbformat": 4,
  "nbformat_minor": 0,
  "metadata": {
    "colab": {
      "name": "빅분방_3/17",
      "provenance": [],
      "authorship_tag": "ABX9TyNTdYPuH5jG9OLBuTE5ATTF",
      "include_colab_link": true
    },
    "kernelspec": {
      "name": "python3",
      "display_name": "Python 3"
    },
    "language_info": {
      "name": "python"
    }
  },
  "cells": [
    {
      "cell_type": "markdown",
      "metadata": {
        "id": "view-in-github",
        "colab_type": "text"
      },
      "source": [
        "<a href=\"https://colab.research.google.com/github/sbbwoy/ESAA/blob/main/%EB%B9%85%EB%B6%84%EB%B0%A9_3_17.ipynb\" target=\"_parent\"><img src=\"https://colab.research.google.com/assets/colab-badge.svg\" alt=\"Open In Colab\"/></a>"
      ]
    },
    {
      "cell_type": "markdown",
      "source": [
        "##함수"
      ],
      "metadata": {
        "id": "l0u2nlj_9lmq"
      }
    },
    {
      "cell_type": "code",
      "source": [
        "# 피보나치 수열 출력 함수 예제 1\n",
        "\n",
        "def fib(n):\n",
        "    '''Print a Fibonacci series up to n'''\n",
        "    a, b = 0, 1 \n",
        "    while a < n:\n",
        "        print(a, end = ' ')\n",
        "        a, b = b, a+b\n",
        "\n",
        "fib(2000)"
      ],
      "metadata": {
        "colab": {
          "base_uri": "https://localhost:8080/"
        },
        "id": "or5UMtLJ-zEO",
        "outputId": "338cc9a4-7b5f-4276-a385-10c3de710d7c"
      },
      "execution_count": null,
      "outputs": [
        {
          "output_type": "stream",
          "name": "stdout",
          "text": [
            "0 1 1 2 3 5 8 13 21 34 55 89 144 233 377 610 987 1597 "
          ]
        }
      ]
    },
    {
      "cell_type": "code",
      "execution_count": null,
      "metadata": {
        "colab": {
          "base_uri": "https://localhost:8080/"
        },
        "id": "qjnQAB5N9cun",
        "outputId": "47cdaab8-75df-4eca-b3b6-7d4979a5b1fb"
      },
      "outputs": [
        {
          "output_type": "execute_result",
          "data": {
            "text/plain": [
              "[0, 1, 1, 2, 3, 5, 8, 13, 21, 34, 55, 89, 144, 233, 377, 610, 987, 1597]"
            ]
          },
          "metadata": {},
          "execution_count": 1
        }
      ],
      "source": [
        "# 피보나치 수열 출력 함수 예제 2\n",
        "\n",
        "def fib2(n):\n",
        "    '''Return a list containing the Fibonacci series up to n'''\n",
        "    res = []\n",
        "    a, b = 0, 1\n",
        "    while a < n:\n",
        "        res.append(a)\n",
        "        a, b = b, a+b\n",
        "    return res\n",
        "\n",
        "fib2(2000)"
      ]
    },
    {
      "cell_type": "markdown",
      "source": [
        "lambda arguments: expression\n",
        "\n",
        "- 람다 함수는 lambda라는 키워드로 생성.\n",
        "- 함수에 이름이 없고, 저장된 변수가 없어 재사용 X"
      ],
      "metadata": {
        "id": "8Gfp1O5d-BHe"
      }
    },
    {
      "cell_type": "code",
      "source": [
        "# lambda를 이용한 피보나치\n",
        "fib = lambda n: n if n < 2 else fib(n-1) + fib(n-2)\n",
        "for i in range(1, 10):\n",
        "    print(fib(i), end=' ')"
      ],
      "metadata": {
        "colab": {
          "base_uri": "https://localhost:8080/"
        },
        "id": "B5f7WGLy-NHf",
        "outputId": "c5cb18d5-7432-4fbd-b01f-fcd940db5f95"
      },
      "execution_count": null,
      "outputs": [
        {
          "output_type": "stream",
          "name": "stdout",
          "text": [
            "1 1 2 3 5 8 13 21 34 "
          ]
        }
      ]
    },
    {
      "cell_type": "code",
      "source": [
        "#map() 이용\n",
        "in1 = [1, 3, 5, 7]\n",
        "in2 = [2, 4, 6, 8]\n",
        "list(map(lambda x, y: x+y, in1, in2))"
      ],
      "metadata": {
        "colab": {
          "base_uri": "https://localhost:8080/"
        },
        "id": "eSPRMX7o_GLG",
        "outputId": "e1432afe-22e5-4299-ca3c-36310971e2af"
      },
      "execution_count": null,
      "outputs": [
        {
          "output_type": "execute_result",
          "data": {
            "text/plain": [
              "[3, 7, 11, 15]"
            ]
          },
          "metadata": {},
          "execution_count": 4
        }
      ]
    },
    {
      "cell_type": "code",
      "source": [
        "def sum_one_to_n(n):\n",
        "    result = 0\n",
        "    for i in range(1, (n+1)):\n",
        "        result += i\n",
        "    return result\n",
        "\n",
        "sum_one_to_n(10)"
      ],
      "metadata": {
        "colab": {
          "base_uri": "https://localhost:8080/"
        },
        "id": "r9AXNEXB_Sdq",
        "outputId": "2cac1b36-af09-47ee-d5af-521002c5838f"
      },
      "execution_count": null,
      "outputs": [
        {
          "output_type": "execute_result",
          "data": {
            "text/plain": [
              "55"
            ]
          },
          "metadata": {},
          "execution_count": 5
        }
      ]
    },
    {
      "cell_type": "code",
      "source": [
        "def sum_one_to_n_2(n):\n",
        "    result = 0\n",
        "    i = 1\n",
        "    while i < (n+1):\n",
        "        result += i\n",
        "        i += 1\n",
        "    return result\n",
        "\n",
        "sum_one_to_n_2(10)"
      ],
      "metadata": {
        "colab": {
          "base_uri": "https://localhost:8080/"
        },
        "id": "3mxkOZcO_iMG",
        "outputId": "4651ebe5-5503-41a0-c3dc-c8234d5c2afa"
      },
      "execution_count": null,
      "outputs": [
        {
          "output_type": "execute_result",
          "data": {
            "text/plain": [
              "55"
            ]
          },
          "metadata": {},
          "execution_count": 6
        }
      ]
    },
    {
      "cell_type": "markdown",
      "source": [
        "##모듈"
      ],
      "metadata": {
        "id": "jEJGxHcvAFB5"
      }
    },
    {
      "cell_type": "code",
      "source": [
        "def normplt(m, s):\n",
        "    import numpy as np\n",
        "    import matplotlib.pyplot as plt\n",
        "    from scipy.stats import norm\n",
        "    x = np.arange(m-3*s, m+3*s, 0.1)\n",
        "    plt.plot(x, norm.pdf(x, m, s), 'b')\n",
        "    plt.title('Normal (Mean=' + str(m) + ', STD=' + str(s) + ')PDF')\n",
        "    plt.show()\n",
        "\n",
        "def gamplt(a, b):\n",
        "    import numpy as np\n",
        "    import matplotlib.pyplot as plt\n",
        "    from scipy.stats import gamma\n",
        "    x = np.arange(0, a*b+6*a*b*b, 0.1)\n",
        "    plt.plot(x, gamma.pdf(x, a, b), 'b')\n",
        "    plt.title('Gamma(Alpha=' + str(a) + ', Beta=' + str(b) + ')PDF')\n",
        "    plt.show()"
      ],
      "metadata": {
        "id": "RkFV_LpQAGvX"
      },
      "execution_count": null,
      "outputs": []
    },
    {
      "cell_type": "markdown",
      "source": [
        "#CH2"
      ],
      "metadata": {
        "id": "py3m3nMNDjjH"
      }
    },
    {
      "cell_type": "markdown",
      "source": [
        "##1. 기본 통계량 계산"
      ],
      "metadata": {
        "id": "Tm9OF8SpDmbM"
      }
    },
    {
      "cell_type": "code",
      "source": [
        "import numpy as np\n",
        "import pandas as pandas\n",
        "import scipy as sp\n",
        "\n",
        "#예제 데이터 생성\n",
        "fish_data = np.array([2, 3, 3, 4, 4, 4, 4, 5, 5, 6])"
      ],
      "metadata": {
        "id": "JJqNt_KsDqH6"
      },
      "execution_count": null,
      "outputs": []
    },
    {
      "cell_type": "code",
      "source": [
        "#sum\n",
        "print(sum(fish_data))\n",
        "\n",
        "#mean\n",
        "print(np.mean(fish_data))\n",
        "\n",
        "#variance\n",
        "sigma = np.var(fish_data, ddof = 1)     #ddof=0이면 잔차의 합을 1/n으로 나눈 경우. 1이면 1/(n-1)로 나눔\n",
        "\n",
        "#standard variance\n",
        "print(np.sqrt(sigma))\n",
        "print(np.std(fish_data, ddof = 1))\n",
        "\n",
        "#Max, Min\n",
        "print(np.max(fish_data))\n",
        "print(np.min(fish_data))\n",
        "\n",
        "#median\n",
        "print(np.median(fish_data))\n",
        "\n",
        "#quantile\n",
        "print(np.quantile(fish_data, .25))  #1st quartile\n",
        "print(np.quantile(fish_data, .5))   #2nd quartile\n",
        "print(np.quantile(fish_data, .75))  #3rd quartile"
      ],
      "metadata": {
        "colab": {
          "base_uri": "https://localhost:8080/"
        },
        "id": "84jsC6IdFcYh",
        "outputId": "670c8790-8ecd-48b6-893a-45b3328b2f80"
      },
      "execution_count": null,
      "outputs": [
        {
          "output_type": "stream",
          "name": "stdout",
          "text": [
            "40\n",
            "4.0\n",
            "1.1547005383792515\n",
            "1.1547005383792515\n",
            "6\n",
            "2\n",
            "4.0\n",
            "3.25\n",
            "4.0\n",
            "4.75\n"
          ]
        }
      ]
    },
    {
      "cell_type": "markdown",
      "source": [
        "##2. sklearn of machine learning"
      ],
      "metadata": {
        "id": "ANruphNPGjFS"
      }
    },
    {
      "cell_type": "code",
      "source": [
        ""
      ],
      "metadata": {
        "id": "HTy_Lo-KGm5e"
      },
      "execution_count": null,
      "outputs": []
    },
    {
      "cell_type": "markdown",
      "source": [
        "##3. Regression\n",
        "\n",
        "- regression은 Y가 numeric인 경우\n",
        "    \n",
        "    - simple linear regression\n",
        "    - multiple linear regression\n",
        "- classification은 Y가 categorical인 경우 "
      ],
      "metadata": {
        "id": "3Hqu8qo9G-C4"
      }
    },
    {
      "cell_type": "code",
      "source": [
        "from sklearn.linear_model import LinearRegression\n",
        "\n",
        "lrg = LinearRegression()"
      ],
      "metadata": {
        "id": "9QDFGMBDHc3k"
      },
      "execution_count": null,
      "outputs": []
    },
    {
      "cell_type": "markdown",
      "source": [
        "methods\n",
        "\n",
        "- fit(X, y[, sample_weight]): Fit linear model\n",
        "- get_parmas([deep]): Get parameters for this estimator\n",
        "- predict(X): Predict using the linear model\n",
        "- score(X, y[, sample_weight]): Returns the coefficient of determination R-squared of the prediction\n",
        "\n",
        "* R-squared(결정계수)는 회귀 모델에서 독립변수 x가 종속변수 Y를 얼마만큼 설명해 주는지를 가리키는 지표"
      ],
      "metadata": {
        "id": "uWQykSv5HpRz"
      }
    },
    {
      "cell_type": "code",
      "source": [
        "#intercept\n",
        "lrg.intercept_\n",
        "\n",
        "#coefficient\n",
        "lrg.coef_"
      ],
      "metadata": {
        "colab": {
          "base_uri": "https://localhost:8080/",
          "height": 211
        },
        "id": "QA2crrsrIFUy",
        "outputId": "30784baf-6d2e-4619-d36f-b75d1342f5fc"
      },
      "execution_count": null,
      "outputs": [
        {
          "output_type": "error",
          "ename": "AttributeError",
          "evalue": "ignored",
          "traceback": [
            "\u001b[0;31m---------------------------------------------------------------------------\u001b[0m",
            "\u001b[0;31mAttributeError\u001b[0m                            Traceback (most recent call last)",
            "\u001b[0;32m<ipython-input-14-7a1b405b27e3>\u001b[0m in \u001b[0;36m<module>\u001b[0;34m()\u001b[0m\n\u001b[1;32m      3\u001b[0m \u001b[0;34m\u001b[0m\u001b[0m\n\u001b[1;32m      4\u001b[0m \u001b[0;31m#coefficient\u001b[0m\u001b[0;34m\u001b[0m\u001b[0;34m\u001b[0m\u001b[0;34m\u001b[0m\u001b[0m\n\u001b[0;32m----> 5\u001b[0;31m \u001b[0mlrg\u001b[0m\u001b[0;34m.\u001b[0m\u001b[0mcoef_\u001b[0m\u001b[0;34m\u001b[0m\u001b[0;34m\u001b[0m\u001b[0m\n\u001b[0m",
            "\u001b[0;31mAttributeError\u001b[0m: 'LinearRegression' object has no attribute 'coef_'"
          ]
        }
      ]
    },
    {
      "cell_type": "markdown",
      "source": [
        "Y = B0 + B1X + e\n",
        "\n",
        "Residual\n",
        "\n",
        "r(i) = y(i) - y_hat(i) --> 추정치, 예측치(fitted)\n",
        "\n",
        "y(i): 관측치\n",
        "\n",
        "-----------------------------------------------\n",
        "\n",
        "RSS = sum(r(i)^2) = sum(y(i) -y_hat(i) 를 최소화하는\n",
        "B를 추정. 2B => B_hat\n",
        "\n",
        "R^2 = SSReg / SST = 1 - SSE/SST\n",
        "\n",
        "SST = sum((y(i) - y_bar)^2) --> Y의 변동량\n",
        "SSE = sum((y(i) - y_hat)^2) = RSS\n",
        "\n",
        "R^2 -> Y의 변동량 중에 모형이 설명할 수 있는 변동량의 비율\n",
        "\n",
        "------------------------------------------------\n",
        "\n",
        "SSE = 0 ==> R^2 = 1\n",
        "\n",
        "SSE = 0 <=> Y(i) = Y_hat(i)"
      ],
      "metadata": {
        "id": "BuBAha2mJxyT"
      }
    }
  ]
}