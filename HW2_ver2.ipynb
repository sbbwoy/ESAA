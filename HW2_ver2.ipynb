{
  "cells": [
    {
      "cell_type": "markdown",
      "metadata": {
        "id": "view-in-github",
        "colab_type": "text"
      },
      "source": [
        "<a href=\"https://colab.research.google.com/github/sbbwoy/calsci/blob/main/HW2_ver2.ipynb\" target=\"_parent\"><img src=\"https://colab.research.google.com/assets/colab-badge.svg\" alt=\"Open In Colab\"/></a>"
      ]
    },
    {
      "cell_type": "markdown",
      "metadata": {
        "id": "BB4wwgtOLIDL"
      },
      "source": [
        "# 과제 2. CNN : CIFAR-10 (다중분류)\n",
        "\n",
        "> 2029017 박지연    \n",
        " 계산과학 프로그래밍 및 실습\n",
        "\n",
        "\n",
        "---\n"
      ]
    },
    {
      "cell_type": "code",
      "execution_count": null,
      "metadata": {
        "colab": {
          "base_uri": "https://localhost:8080/"
        },
        "id": "pBWxv8aCGVbp",
        "outputId": "9d45102d-0934-4c52-aab2-32b0036fdbce"
      },
      "outputs": [
        {
          "output_type": "stream",
          "name": "stdout",
          "text": [
            "Mounted at /content/drive\n"
          ]
        }
      ],
      "source": [
        "from google.colab import drive\n",
        "drive.mount('/content/drive')"
      ]
    },
    {
      "cell_type": "code",
      "execution_count": null,
      "metadata": {
        "id": "ecPGj-1BLGKN"
      },
      "outputs": [],
      "source": [
        "import numpy as np\n",
        "import matplotlib.pyplot as plt\n",
        "import torch\n",
        "from torch import nn\n",
        "from torchvision import datasets, transforms\n",
        "from torch.utils.data import DataLoader, ConcatDataset"
      ]
    },
    {
      "cell_type": "code",
      "execution_count": null,
      "metadata": {
        "colab": {
          "base_uri": "https://localhost:8080/"
        },
        "id": "2oacrxO8GzmF",
        "outputId": "b2e05c9a-f6b0-40f3-ca47-52c6da62edaa"
      },
      "outputs": [
        {
          "output_type": "stream",
          "name": "stdout",
          "text": [
            "Current device is cuda\n"
          ]
        }
      ],
      "source": [
        "# device\n",
        "device = 'cuda' if torch.cuda.is_available() else 'cpu'\n",
        "\n",
        "print('Current device is', device)\n",
        "\n",
        "# for reproducibility\n",
        "torch.manual_seed(2023)\n",
        "if device == 'cuda':\n",
        "    torch.cuda.manual_seed_all(2023)"
      ]
    },
    {
      "cell_type": "markdown",
      "metadata": {
        "id": "4fOvverICObY"
      },
      "source": [
        "## 1. Data\n",
        "\n",
        "CIFAR-10"
      ]
    },
    {
      "cell_type": "code",
      "execution_count": null,
      "metadata": {
        "colab": {
          "base_uri": "https://localhost:8080/"
        },
        "id": "dxGzI_MACJVB",
        "outputId": "c59adc21-ddcd-404f-ddf2-f69141c20b05"
      },
      "outputs": [
        {
          "output_type": "stream",
          "name": "stdout",
          "text": [
            "Downloading https://www.cs.toronto.edu/~kriz/cifar-10-python.tar.gz to ./data/cifar-10-python.tar.gz\n"
          ]
        },
        {
          "output_type": "stream",
          "name": "stderr",
          "text": [
            "100%|██████████| 170498071/170498071 [00:08<00:00, 20720227.70it/s]\n"
          ]
        },
        {
          "output_type": "stream",
          "name": "stdout",
          "text": [
            "Extracting ./data/cifar-10-python.tar.gz to ./data\n"
          ]
        }
      ],
      "source": [
        "# Cifar10 dataset\n",
        "\n",
        "cifar10 = datasets.CIFAR10(root='./data', train=True, download=True,\n",
        "                           transform=transforms.ToTensor())"
      ]
    },
    {
      "cell_type": "code",
      "execution_count": null,
      "metadata": {
        "colab": {
          "base_uri": "https://localhost:8080/"
        },
        "id": "0bh-FqspqY04",
        "outputId": "11dfbc10-21c5-4540-f482-890fd9cbeca2"
      },
      "outputs": [
        {
          "output_type": "execute_result",
          "data": {
            "text/plain": [
              "50000"
            ]
          },
          "metadata": {},
          "execution_count": 6
        }
      ],
      "source": [
        "len(cifar10)"
      ]
    },
    {
      "cell_type": "code",
      "execution_count": null,
      "metadata": {
        "colab": {
          "base_uri": "https://localhost:8080/",
          "height": 983
        },
        "id": "JIdWZUuSCUFr",
        "outputId": "c999ea05-78cd-41dc-87fe-93d86a9d6795"
      },
      "outputs": [
        {
          "output_type": "display_data",
          "data": {
            "text/plain": [
              "<Figure size 1200x1200 with 16 Axes>"
            ],
            "image/png": "[encoded data removed]"
          },
          "metadata": {}
        }
      ],
      "source": [
        "classes = ('plane', 'car', 'bird', 'cat', 'deer', 'dog', 'frog', 'horse', 'ship', 'truck')\n",
        "\n",
        "# 이미지를 보여주기 위한 함수\n",
        "def imshow(img):\n",
        "    npimg = img.numpy()\n",
        "    plt.imshow(np.transpose(npimg, (1, 2, 0)))\n",
        "\n",
        "figure = plt.figure(figsize=(12, 12))\n",
        "cols, rows = 4, 4\n",
        "for i in range(1, cols * rows + 1):\n",
        "    sample_idx = torch.randint(len(cifar10), size=(1,)).item()\n",
        "    img, label = cifar10[sample_idx]\n",
        "    figure.add_subplot(rows, cols, i)\n",
        "    plt.title(classes[label])\n",
        "    plt.axis(\"off\")\n",
        "    imshow(img)\n",
        "plt.show()"
      ]
    },
    {
      "cell_type": "code",
      "execution_count": null,
      "metadata": {
        "colab": {
          "base_uri": "https://localhost:8080/"
        },
        "id": "vIObTXHno32a",
        "outputId": "d71c8f1c-5e31-45d4-a37c-87b2d2c9279d"
      },
      "outputs": [
        {
          "output_type": "stream",
          "name": "stdout",
          "text": [
            "평균: tensor([0.4914, 0.4822, 0.4465])\n",
            "표준 편차: tensor([0.2443, 0.2408, 0.2581])\n"
          ]
        }
      ],
      "source": [
        "batch_size = 16\n",
        "\n",
        "train_loader = DataLoader(cifar10, batch_size=batch_size, shuffle=True)\n",
        "\n",
        "# 배치 단위로 평균과 표준 편차 계산\n",
        "mean_list = []\n",
        "std_list = []\n",
        "\n",
        "for batch in train_loader:\n",
        "    images, _ = batch\n",
        "    batch_mean = torch.mean(images, dim=(0, 2, 3))\n",
        "    batch_std = torch.std(images, dim=(0, 2, 3))\n",
        "\n",
        "    mean_list.append(batch_mean)\n",
        "    std_list.append(batch_std)\n",
        "\n",
        "# 전체 데이터셋에 대한 평균과 표준 편차 계산\n",
        "cifar10_mean = torch.mean(torch.stack(mean_list), dim=0)\n",
        "cifar10_std = torch.mean(torch.stack(std_list), dim=0)\n",
        "\n",
        "print(\"평균:\", cifar10_mean)\n",
        "print(\"표준 편차:\", cifar10_std)"
      ]
    },
    {
      "cell_type": "code",
      "execution_count": null,
      "metadata": {
        "id": "cs0H0GxsrMX9"
      },
      "outputs": [],
      "source": [
        "trans_train = transforms.Compose([\n",
        "    transforms.RandomHorizontalFlip(),  # 랜덤으로 이미지를 수평으로 뒤집기\n",
        "    transforms.RandomRotation(10),  # 랜덤으로 이미지를 최대 10도 회전\n",
        "    transforms.ColorJitter(brightness=0.2, contrast=0.2, saturation=0.2, hue=0.2),  # 랜덤으로 밝기, 대조, 채도, 색상 조절\n",
        "    transforms.ToTensor(),  # 이미지를 PyTorch 텐서로 변환\n",
        "    transforms.RandomCrop(32, padding=4),\n",
        "    transforms.RandomHorizontalFlip(),\n",
        "    transforms.Normalize(cifar10_mean, cifar10_std)\n",
        "])\n",
        "trans_test = transforms.Compose([\n",
        "    transforms.ToTensor(),\n",
        "    transforms.Normalize(cifar10_mean, cifar10_std)\n",
        "])"
      ]
    },
    {
      "cell_type": "code",
      "execution_count": null,
      "metadata": {
        "colab": {
          "base_uri": "https://localhost:8080/"
        },
        "id": "KBsTdzz5yMjk",
        "outputId": "1e87600e-eb00-49b6-8e84-95e2bb8ce089"
      },
      "outputs": [
        {
          "output_type": "stream",
          "name": "stdout",
          "text": [
            "Files already downloaded and verified\n"
          ]
        }
      ],
      "source": [
        "cifar_test = datasets.CIFAR10(root='./data', train=False, download=True, transform=trans_test)"
      ]
    },
    {
      "cell_type": "code",
      "source": [
        "# train, validation set split\n",
        "train_data, val_data = torch.utils.data.random_split(cifar10, [40000, 10000])"
      ],
      "metadata": {
        "id": "IDm_rnXgTRnu"
      },
      "execution_count": null,
      "outputs": []
    },
    {
      "cell_type": "code",
      "source": [
        "from copy import deepcopy\n",
        "\n",
        "tr1_cifar10 = deepcopy(train_data)\n",
        "tr1_cifar10.dataset.transform = trans_train"
      ],
      "metadata": {
        "id": "T_TD9PHAANgF"
      },
      "execution_count": null,
      "outputs": []
    },
    {
      "cell_type": "code",
      "source": [
        "transform2 = transforms.Compose([\n",
        "    transforms.RandomResizedCrop(32),\n",
        "    transforms.RandomVerticalFlip(),\n",
        "    transforms.RandomGrayscale(p=0.1),\n",
        "    transforms.ToTensor(),\n",
        "    transforms.RandomHorizontalFlip(),\n",
        "    transforms.Normalize(cifar10_mean, cifar10_std)\n",
        "])\n",
        "tr2_cifar10 = deepcopy(train_data)\n",
        "tr2_cifar10.dataset.transform = transform2"
      ],
      "metadata": {
        "id": "8C48dGYI4lk3"
      },
      "execution_count": null,
      "outputs": []
    },
    {
      "cell_type": "code",
      "execution_count": null,
      "metadata": {
        "id": "Z3o1wGhBdw7k"
      },
      "outputs": [],
      "source": [
        "train_data = ConcatDataset([train_data, tr1_cifar10, tr2_cifar10])"
      ]
    },
    {
      "cell_type": "code",
      "execution_count": null,
      "metadata": {
        "colab": {
          "base_uri": "https://localhost:8080/"
        },
        "id": "UREhfS98eQfi",
        "outputId": "ead2df5c-190a-41cc-d363-8ebf7ad0c672"
      },
      "outputs": [
        {
          "output_type": "stream",
          "name": "stdout",
          "text": [
            "The number of training data:      120000\n",
            "The number of validataion data:   10000\n",
            "The number of test data:          10000\n"
          ]
        }
      ],
      "source": [
        "# print number of training/validation/test data\n",
        "print('The number of training data:     ', len(train_data))\n",
        "print('The number of validataion data:  ', len(val_data))\n",
        "print('The number of test data:         ', len(cifar_test))"
      ]
    },
    {
      "cell_type": "code",
      "execution_count": null,
      "metadata": {
        "colab": {
          "base_uri": "https://localhost:8080/",
          "height": 448
        },
        "id": "e1aI3knLVI2B",
        "outputId": "8f1324ef-d28c-4207-d38c-acaf313a4f30"
      },
      "outputs": [
        {
          "output_type": "stream",
          "name": "stdout",
          "text": [
            "8 ship\n"
          ]
        },
        {
          "output_type": "display_data",
          "data": {
            "text/plain": [
              "<Figure size 640x480 with 1 Axes>"
            ],
            "image/png": "[encoded data removed]"
          },
          "metadata": {}
        }
      ],
      "source": [
        "# train_data 첫번째 이미지 및 클래스 출력\n",
        "img, label = train_data[0]\n",
        "imshow(img)\n",
        "print(label, classes[label])"
      ]
    },
    {
      "cell_type": "code",
      "execution_count": null,
      "metadata": {
        "colab": {
          "base_uri": "https://localhost:8080/"
        },
        "id": "-YhOO4_ICqIb",
        "outputId": "1d59d48e-ba90-43f7-b773-f071222ee527"
      },
      "outputs": [
        {
          "output_type": "stream",
          "name": "stdout",
          "text": [
            "torch.Size([3, 32, 32])\n"
          ]
        }
      ],
      "source": [
        "# image size 확인\n",
        "print(img.shape)"
      ]
    },
    {
      "cell_type": "code",
      "execution_count": null,
      "metadata": {
        "id": "q8XeaIsmG5jm"
      },
      "outputs": [],
      "source": [
        "# set hyperparameters\n",
        "learning_rate = 0.001\n",
        "epochs = 500"
      ]
    },
    {
      "cell_type": "code",
      "execution_count": null,
      "metadata": {
        "id": "jMdb_xZqHFHK"
      },
      "outputs": [],
      "source": [
        "# train, validation, test dataset loader (for mini-batch training)\n",
        "# For test dataset loader, set 'batch_size=len(test_data), shuffle=False'.\n",
        "\n",
        "train_loader = torch.utils.data.DataLoader(dataset=train_data, batch_size=batch_size, shuffle=True)\n",
        "val_loader = torch.utils.data.DataLoader(dataset=val_data, batch_size=batch_size, shuffle=False)\n",
        "test_loader = torch.utils.data.DataLoader(dataset=cifar_test, batch_size=len(cifar_test), shuffle=False)"
      ]
    },
    {
      "cell_type": "markdown",
      "metadata": {
        "id": "jZHJH9pOl8PW"
      },
      "source": [
        "## 2. Model"
      ]
    },
    {
      "cell_type": "code",
      "execution_count": null,
      "metadata": {
        "id": "y9R4qV7AxrPn"
      },
      "outputs": [],
      "source": [
        "import torch.nn.functional as F"
      ]
    },
    {
      "cell_type": "markdown",
      "source": [
        "###내가만든쓰레기~"
      ],
      "metadata": {
        "id": "zkJVOZXJy2M2"
      }
    },
    {
      "cell_type": "code",
      "execution_count": null,
      "metadata": {
        "id": "one-u44fHqic"
      },
      "outputs": [],
      "source": [
        "# CNN Model class\n",
        "class CNNWithL1(nn.Module):\n",
        "    def __init__(self):\n",
        "        super(CNNWithL1, self).__init__()\n",
        "        # L1   (?, 3, 32, 32)\n",
        "        # Conv (?, 32, 32, 32)\n",
        "        # Pool (?, 32, 16, 16)\n",
        "        self.layer1 = torch.nn.Sequential(\n",
        "            nn.Conv2d(3, 32, kernel_size=3, stride=1, padding=1),\n",
        "            nn.ReLU(),\n",
        "            nn.BatchNorm2d(32),\n",
        "            nn.MaxPool2d(kernel_size=2, stride=2)\n",
        "            )\n",
        "        # L2   (?, 32, 16, 16)\n",
        "        # Conv (?, 32, 16, 16)\n",
        "        # Pool (?, 32, 8, 8)\n",
        "        self.layer2 = torch.nn.Sequential(\n",
        "            nn.Conv2d(32, 64, 3, stride=1, padding=1),\n",
        "            nn.ReLU(),\n",
        "            nn.BatchNorm2d(64),\n",
        "            nn.MaxPool2d(2, stride=2)\n",
        "            )\n",
        "        # L3   (?, 32, 8, 8)\n",
        "        # Conv (?, 32, 8, 8)\n",
        "        # Pool (?, 32, 4, 4)\n",
        "        self.layer3 = torch.nn.Sequential(\n",
        "            nn.Conv2d(64, 128, 3, stride=1, padding=1),\n",
        "            nn.ReLU(),\n",
        "            nn.BatchNorm2d(128),\n",
        "            nn.MaxPool2d(2, stride=2)\n",
        "            )\n",
        "\n",
        "        self.layer4 = torch.nn.Sequential(\n",
        "            nn.Conv2d(128, 256, 3, stride=1, padding=1),\n",
        "            nn.ReLU(),\n",
        "            nn.BatchNorm2d(256),\n",
        "            nn.MaxPool2d(2, stride=2)\n",
        "            )\n",
        "        self.dropout = nn.Dropout(0.5)\n",
        "\n",
        "        # FC Layer\n",
        "        self.fc = nn.Linear(256*2*2, 1024)\n",
        "        nn.init.kaiming_normal_(self.fc.weight)\n",
        "\n",
        "        self.fc2 = nn.Linear(1024, 512)\n",
        "        self.batch_norm_fc2 = nn.BatchNorm1d(512)\n",
        "        self.fc3 = nn.Linear(512, 10)\n",
        "\n",
        "\n",
        "    def forward(self, x, lambda_l1=0.001):\n",
        "        out = self.layer1(x)\n",
        "        out = self.layer2(out)\n",
        "        out = self.layer3(out)\n",
        "        out = self.layer4(out)\n",
        "        out = out.view(out.size(0), -1)\n",
        "\n",
        "        # L1 regularization\n",
        "        l1_penalty = 0\n",
        "        for param in self.parameters():\n",
        "            l1_penalty += torch.norm(param, 1)\n",
        "\n",
        "        out = self.fc(out)\n",
        "        out = self.fc2(out)\n",
        "        out = self.batch_norm_fc2(out)\n",
        "        out = self.fc3(out)\n",
        "\n",
        "        out = F.softmax(out, dim=1)\n",
        "\n",
        "        return out + lambda_l1 * l1_penalty"
      ]
    },
    {
      "cell_type": "markdown",
      "source": [
        "###CNNWithTree"
      ],
      "metadata": {
        "id": "sd3K4xTYy6Vf"
      }
    },
    {
      "cell_type": "code",
      "source": [
        "class Basic(nn.Module):\n",
        "    expansion = 1\n",
        "\n",
        "    def __init__(self, in_planes=3, planes=32, stride=1):\n",
        "        super(Basic, self).__init__()\n",
        "        self.conv1 = nn.Conv2d(\n",
        "            in_planes, planes, kernel_size=3, stride=stride, padding=1, bias=False)\n",
        "        self.bn1 = nn.BatchNorm2d(planes)\n",
        "        self.conv2 = nn.Conv2d(planes, planes, kernel_size=3, stride=1, padding=1, bias=False)\n",
        "        self.bn2 = nn.BatchNorm2d(planes)\n",
        "\n",
        "        self.shortcut = nn.Sequential()\n",
        "        if stride != 1 or in_planes != self.expansion*planes:\n",
        "            self.shortcut = nn.Sequential(\n",
        "                nn.Conv2d(in_planes, self.expansion*planes, kernel_size=1, stride=stride, bias=False),\n",
        "                nn.BatchNorm2d(self.expansion*planes)\n",
        "            )\n",
        "\n",
        "    def forward(self, x):\n",
        "        out = self.conv1(x)\n",
        "        out = self.bn1(out)\n",
        "        out = F.relu(out)\n",
        "\n",
        "        out = self.conv2(out)\n",
        "        out = self.bn2(out)\n",
        "\n",
        "        out += self.shortcut(x) #shortcut이 뭐지\n",
        "        out = F.relu(out)\n",
        "\n",
        "        return out\n",
        "\n",
        "class Root(nn.Module):\n",
        "    def __init__(self, in_channels, out_channels, kernel_size=1):\n",
        "        super(Root, self).__init__()\n",
        "        self.conv = nn.Conv2d(\n",
        "            in_channels, out_channels, kernel_size,\n",
        "            stride=1, padding=(kernel_size-1)//2, bias=False\n",
        "            )\n",
        "        self.bn = nn.BatchNorm2d(out_channels)\n",
        "\n",
        "    def forward(self, x):\n",
        "        out = torch.cat(x, 1) #cat 뭐지\n",
        "        out = self.conv(out)\n",
        "        out = self.bn(out)\n",
        "        out = F.relu(out)\n",
        "\n",
        "        return out\n",
        "\n",
        "class Tree(nn.Module):\n",
        "    def __init__(self, block, in_channels, out_channels, level=1, stride=1):\n",
        "        super(Tree, self).__init__()\n",
        "        self.root = Root(2*out_channels, out_channels) #왜 ?\n",
        "        if level == 1:\n",
        "            self.left = block(in_channels, out_channels, stride=stride)\n",
        "            self.right = block(out_channels, out_channels, stride=1) #왜 1 고정이지\n",
        "        else:\n",
        "            self.left = Tree(block, in_channels, out_channels, level=level-1, stride=stride)\n",
        "            self.right = Tree(block, out_channels, out_channels, level=level-1, stride=1)\n",
        "\n",
        "\n",
        "    def forward(self, x):\n",
        "        out1 = self.left(x)\n",
        "        out2 = self.right(out1)\n",
        "        out = self.root([out1, out2])\n",
        "        return out\n",
        "\n",
        "class CNNWithTree(nn.Module):\n",
        "    def __init__(self, block=Basic, num_classes=10):\n",
        "        super(CNNWithTree, self).__init__()\n",
        "        self.base = nn.Sequential(\n",
        "            nn.Conv2d(3, 16, kernel_size=3, stride=1, padding=1, bias=False),\n",
        "            nn.BatchNorm2d(16),\n",
        "            nn.ReLU(True)\n",
        "        )\n",
        "\n",
        "        self.layer1 = nn.Sequential(\n",
        "            nn.Conv2d(16, 32, kernel_size=3, stride=1, padding=1, bias=False),\n",
        "            nn.BatchNorm2d(32),\n",
        "            nn.ReLU(True)\n",
        "        )\n",
        "\n",
        "        self.layer2 = nn.Sequential(\n",
        "            nn.Conv2d(32, 64, kernel_size=3, stride=1, padding=1, bias=False),\n",
        "            nn.BatchNorm2d(64),\n",
        "            nn.ReLU(True)\n",
        "        )\n",
        "\n",
        "        #self.layer3 = Tree(block,  32,  64, level=1, stride=1)\n",
        "        self.layer4 = Tree(block,  64, 128, level=2, stride=2)\n",
        "        self.layer5 = Tree(block, 128, 256, level=2, stride=2)\n",
        "        self.layer6 = Tree(block, 256, 512, level=1, stride=2)\n",
        "        self.linear = nn.Linear(512, num_classes)\n",
        "        self.dropout = nn.Dropout(0.5)\n",
        "\n",
        "    def forward(self, x):\n",
        "        lambda_l1 = 0.001\n",
        "\n",
        "        out = self.base(x)\n",
        "        out = self.layer1(out)\n",
        "        out = self.layer2(out)\n",
        "        #out = self.layer3(out)\n",
        "        out = self.layer4(out)\n",
        "        out = self.layer5(out)\n",
        "        out = self.layer6(out)\n",
        "        out = F.avg_pool2d(out, 4)\n",
        "        out = out.view(out.size(0), -1)     #뭐지\n",
        "        out = self.linear(out)\n",
        "        out = F.softmax(out, dim=1)\n",
        "\n",
        "        # L1 regularization\n",
        "        l1_penalty = 0\n",
        "        for param in self.parameters():\n",
        "            l1_penalty += torch.norm(param, 1)\n",
        "\n",
        "        return out + lambda_l1 * l1_penalty"
      ],
      "metadata": {
        "id": "bXTZV4dfMkJF"
      },
      "execution_count": null,
      "outputs": []
    },
    {
      "cell_type": "markdown",
      "source": [
        "layer3 넣고 l1 규제까지 해서 돌리면 모델이 돌아가나... l2규제라고 다를 건 없는 거 같음... 오늘 res net 수업 들으면서 코드짜봐야지..."
      ],
      "metadata": {
        "id": "YRaVWYcwHAwX"
      }
    },
    {
      "cell_type": "markdown",
      "source": [
        "Nesterov Acceleated Gradient (NAG)는 momentum을 개선한 알고리즘으로, 현재 위치가 아닌 가까운 미래의 위치에서 가중치를 계산함. torch.optim.SGD(nesterov=True)로 구현"
      ],
      "metadata": {
        "id": "Qpr7jaswNkkk"
      }
    },
    {
      "cell_type": "code",
      "source": [
        "# instantiate CNN model\n",
        "model = CNNWithTree().to(device)\n",
        "\n",
        "# define loss & optimizer\n",
        "criterion = nn.CrossEntropyLoss().to(device)\n",
        "optimizer = torch.optim.SGD(model.parameters(), lr=learning_rate, momentum=0.9, nesterov=True) #weight_decay=5e-4)\n",
        "scheduler = torch.optim.lr_scheduler.StepLR(optimizer=optimizer, step_size=10, gamma=0.8)"
      ],
      "metadata": {
        "id": "ijHVUV5SzEh5"
      },
      "execution_count": null,
      "outputs": []
    },
    {
      "cell_type": "code",
      "source": [
        "print(model)"
      ],
      "metadata": {
        "colab": {
          "base_uri": "https://localhost:8080/"
        },
        "id": "8dE91TThzesy",
        "outputId": "f101a480-a56a-48e0-b0ac-cfd83f7e8485"
      },
      "execution_count": null,
      "outputs": [
        {
          "output_type": "stream",
          "name": "stdout",
          "text": [
            "CNNWithTree(\n",
            "  (base): Sequential(\n",
            "    (0): Conv2d(3, 16, kernel_size=(3, 3), stride=(1, 1), padding=(1, 1), bias=False)\n",
            "    (1): BatchNorm2d(16, eps=1e-05, momentum=0.1, affine=True, track_running_stats=True)\n",
            "    (2): ReLU(inplace=True)\n",
            "  )\n",
            "  (layer1): Sequential(\n",
            "    (0): Conv2d(16, 32, kernel_size=(3, 3), stride=(1, 1), padding=(1, 1), bias=False)\n",
            "    (1): BatchNorm2d(32, eps=1e-05, momentum=0.1, affine=True, track_running_stats=True)\n",
            "    (2): ReLU(inplace=True)\n",
            "  )\n",
            "  (layer2): Sequential(\n",
            "    (0): Conv2d(32, 64, kernel_size=(3, 3), stride=(1, 1), padding=(1, 1), bias=False)\n",
            "    (1): BatchNorm2d(64, eps=1e-05, momentum=0.1, affine=True, track_running_stats=True)\n",
            "    (2): ReLU(inplace=True)\n",
            "  )\n",
            "  (layer4): Tree(\n",
            "    (root): Root(\n",
            "      (conv): Conv2d(256, 128, kernel_size=(1, 1), stride=(1, 1), bias=False)\n",
            "      (bn): BatchNorm2d(128, eps=1e-05, momentum=0.1, affine=True, track_running_stats=True)\n",
            "    )\n",
            "    (left): Tree(\n",
            "      (root): Root(\n",
            "        (conv): Conv2d(256, 128, kernel_size=(1, 1), stride=(1, 1), bias=False)\n",
            "        (bn): BatchNorm2d(128, eps=1e-05, momentum=0.1, affine=True, track_running_stats=True)\n",
            "      )\n",
            "      (left): Basic(\n",
            "        (conv1): Conv2d(64, 128, kernel_size=(3, 3), stride=(2, 2), padding=(1, 1), bias=False)\n",
            "        (bn1): BatchNorm2d(128, eps=1e-05, momentum=0.1, affine=True, track_running_stats=True)\n",
            "        (conv2): Conv2d(128, 128, kernel_size=(3, 3), stride=(1, 1), padding=(1, 1), bias=False)\n",
            "        (bn2): BatchNorm2d(128, eps=1e-05, momentum=0.1, affine=True, track_running_stats=True)\n",
            "        (shortcut): Sequential(\n",
            "          (0): Conv2d(64, 128, kernel_size=(1, 1), stride=(2, 2), bias=False)\n",
            "          (1): BatchNorm2d(128, eps=1e-05, momentum=0.1, affine=True, track_running_stats=True)\n",
            "        )\n",
            "      )\n",
            "      (right): Basic(\n",
            "        (conv1): Conv2d(128, 128, kernel_size=(3, 3), stride=(1, 1), padding=(1, 1), bias=False)\n",
            "        (bn1): BatchNorm2d(128, eps=1e-05, momentum=0.1, affine=True, track_running_stats=True)\n",
            "        (conv2): Conv2d(128, 128, kernel_size=(3, 3), stride=(1, 1), padding=(1, 1), bias=False)\n",
            "        (bn2): BatchNorm2d(128, eps=1e-05, momentum=0.1, affine=True, track_running_stats=True)\n",
            "        (shortcut): Sequential()\n",
            "      )\n",
            "    )\n",
            "    (right): Tree(\n",
            "      (root): Root(\n",
            "        (conv): Conv2d(256, 128, kernel_size=(1, 1), stride=(1, 1), bias=False)\n",
            "        (bn): BatchNorm2d(128, eps=1e-05, momentum=0.1, affine=True, track_running_stats=True)\n",
            "      )\n",
            "      (left): Basic(\n",
            "        (conv1): Conv2d(128, 128, kernel_size=(3, 3), stride=(1, 1), padding=(1, 1), bias=False)\n",
            "        (bn1): BatchNorm2d(128, eps=1e-05, momentum=0.1, affine=True, track_running_stats=True)\n",
            "        (conv2): Conv2d(128, 128, kernel_size=(3, 3), stride=(1, 1), padding=(1, 1), bias=False)\n",
            "        (bn2): BatchNorm2d(128, eps=1e-05, momentum=0.1, affine=True, track_running_stats=True)\n",
            "        (shortcut): Sequential()\n",
            "      )\n",
            "      (right): Basic(\n",
            "        (conv1): Conv2d(128, 128, kernel_size=(3, 3), stride=(1, 1), padding=(1, 1), bias=False)\n",
            "        (bn1): BatchNorm2d(128, eps=1e-05, momentum=0.1, affine=True, track_running_stats=True)\n",
            "        (conv2): Conv2d(128, 128, kernel_size=(3, 3), stride=(1, 1), padding=(1, 1), bias=False)\n",
            "        (bn2): BatchNorm2d(128, eps=1e-05, momentum=0.1, affine=True, track_running_stats=True)\n",
            "        (shortcut): Sequential()\n",
            "      )\n",
            "    )\n",
            "  )\n",
            "  (layer5): Tree(\n",
            "    (root): Root(\n",
            "      (conv): Conv2d(512, 256, kernel_size=(1, 1), stride=(1, 1), bias=False)\n",
            "      (bn): BatchNorm2d(256, eps=1e-05, momentum=0.1, affine=True, track_running_stats=True)\n",
            "    )\n",
            "    (left): Tree(\n",
            "      (root): Root(\n",
            "        (conv): Conv2d(512, 256, kernel_size=(1, 1), stride=(1, 1), bias=False)\n",
            "        (bn): BatchNorm2d(256, eps=1e-05, momentum=0.1, affine=True, track_running_stats=True)\n",
            "      )\n",
            "      (left): Basic(\n",
            "        (conv1): Conv2d(128, 256, kernel_size=(3, 3), stride=(2, 2), padding=(1, 1), bias=False)\n",
            "        (bn1): BatchNorm2d(256, eps=1e-05, momentum=0.1, affine=True, track_running_stats=True)\n",
            "        (conv2): Conv2d(256, 256, kernel_size=(3, 3), stride=(1, 1), padding=(1, 1), bias=False)\n",
            "        (bn2): BatchNorm2d(256, eps=1e-05, momentum=0.1, affine=True, track_running_stats=True)\n",
            "        (shortcut): Sequential(\n",
            "          (0): Conv2d(128, 256, kernel_size=(1, 1), stride=(2, 2), bias=False)\n",
            "          (1): BatchNorm2d(256, eps=1e-05, momentum=0.1, affine=True, track_running_stats=True)\n",
            "        )\n",
            "      )\n",
            "      (right): Basic(\n",
            "        (conv1): Conv2d(256, 256, kernel_size=(3, 3), stride=(1, 1), padding=(1, 1), bias=False)\n",
            "        (bn1): BatchNorm2d(256, eps=1e-05, momentum=0.1, affine=True, track_running_stats=True)\n",
            "        (conv2): Conv2d(256, 256, kernel_size=(3, 3), stride=(1, 1), padding=(1, 1), bias=False)\n",
            "        (bn2): BatchNorm2d(256, eps=1e-05, momentum=0.1, affine=True, track_running_stats=True)\n",
            "        (shortcut): Sequential()\n",
            "      )\n",
            "    )\n",
            "    (right): Tree(\n",
            "      (root): Root(\n",
            "        (conv): Conv2d(512, 256, kernel_size=(1, 1), stride=(1, 1), bias=False)\n",
            "        (bn): BatchNorm2d(256, eps=1e-05, momentum=0.1, affine=True, track_running_stats=True)\n",
            "      )\n",
            "      (left): Basic(\n",
            "        (conv1): Conv2d(256, 256, kernel_size=(3, 3), stride=(1, 1), padding=(1, 1), bias=False)\n",
            "        (bn1): BatchNorm2d(256, eps=1e-05, momentum=0.1, affine=True, track_running_stats=True)\n",
            "        (conv2): Conv2d(256, 256, kernel_size=(3, 3), stride=(1, 1), padding=(1, 1), bias=False)\n",
            "        (bn2): BatchNorm2d(256, eps=1e-05, momentum=0.1, affine=True, track_running_stats=True)\n",
            "        (shortcut): Sequential()\n",
            "      )\n",
            "      (right): Basic(\n",
            "        (conv1): Conv2d(256, 256, kernel_size=(3, 3), stride=(1, 1), padding=(1, 1), bias=False)\n",
            "        (bn1): BatchNorm2d(256, eps=1e-05, momentum=0.1, affine=True, track_running_stats=True)\n",
            "        (conv2): Conv2d(256, 256, kernel_size=(3, 3), stride=(1, 1), padding=(1, 1), bias=False)\n",
            "        (bn2): BatchNorm2d(256, eps=1e-05, momentum=0.1, affine=True, track_running_stats=True)\n",
            "        (shortcut): Sequential()\n",
            "      )\n",
            "    )\n",
            "  )\n",
            "  (layer6): Tree(\n",
            "    (root): Root(\n",
            "      (conv): Conv2d(1024, 512, kernel_size=(1, 1), stride=(1, 1), bias=False)\n",
            "      (bn): BatchNorm2d(512, eps=1e-05, momentum=0.1, affine=True, track_running_stats=True)\n",
            "    )\n",
            "    (left): Basic(\n",
            "      (conv1): Conv2d(256, 512, kernel_size=(3, 3), stride=(2, 2), padding=(1, 1), bias=False)\n",
            "      (bn1): BatchNorm2d(512, eps=1e-05, momentum=0.1, affine=True, track_running_stats=True)\n",
            "      (conv2): Conv2d(512, 512, kernel_size=(3, 3), stride=(1, 1), padding=(1, 1), bias=False)\n",
            "      (bn2): BatchNorm2d(512, eps=1e-05, momentum=0.1, affine=True, track_running_stats=True)\n",
            "      (shortcut): Sequential(\n",
            "        (0): Conv2d(256, 512, kernel_size=(1, 1), stride=(2, 2), bias=False)\n",
            "        (1): BatchNorm2d(512, eps=1e-05, momentum=0.1, affine=True, track_running_stats=True)\n",
            "      )\n",
            "    )\n",
            "    (right): Basic(\n",
            "      (conv1): Conv2d(512, 512, kernel_size=(3, 3), stride=(1, 1), padding=(1, 1), bias=False)\n",
            "      (bn1): BatchNorm2d(512, eps=1e-05, momentum=0.1, affine=True, track_running_stats=True)\n",
            "      (conv2): Conv2d(512, 512, kernel_size=(3, 3), stride=(1, 1), padding=(1, 1), bias=False)\n",
            "      (bn2): BatchNorm2d(512, eps=1e-05, momentum=0.1, affine=True, track_running_stats=True)\n",
            "      (shortcut): Sequential()\n",
            "    )\n",
            "  )\n",
            "  (linear): Linear(in_features=512, out_features=10, bias=True)\n",
            "  (dropout): Dropout(p=0.5, inplace=False)\n",
            ")\n"
          ]
        }
      ]
    },
    {
      "cell_type": "markdown",
      "source": [
        "##모델성능테스트"
      ],
      "metadata": {
        "id": "EvTQ-Bxv9ZHW"
      }
    },
    {
      "cell_type": "code",
      "source": [
        "import torch\n",
        "import numpy as np\n",
        "from torch import nn\n",
        "import torch.autograd.profiler as profiler"
      ],
      "metadata": {
        "id": "1_pUOfZC9nMr"
      },
      "execution_count": null,
      "outputs": []
    },
    {
      "cell_type": "code",
      "source": [
        "model = CNNWithTree().cuda()\n",
        "input = torch.rand(1, 3, 32, 32).cuda()\n",
        "\n",
        "# 워밍업(warm-up)\n",
        "model(input)\n",
        "\n",
        "with profiler.profile(with_stack=True, profile_memory=True) as prof:\n",
        "    out = model(input)\n",
        "\n",
        "print(prof.key_averages(group_by_stack_n=5).table(sort_by='self_cpu_time_total', row_limit=5))"
      ],
      "metadata": {
        "id": "v7ixwU2z9ngY"
      },
      "execution_count": null,
      "outputs": []
    },
    {
      "cell_type": "markdown",
      "metadata": {
        "id": "fKHcPGhrl_Fj"
      },
      "source": [
        "## 3. Training"
      ]
    },
    {
      "cell_type": "code",
      "execution_count": null,
      "metadata": {
        "colab": {
          "base_uri": "https://localhost:8080/"
        },
        "id": "Nso_y8yYaGlA",
        "outputId": "b8526776-e3b0-4fe3-fc2e-08562e859c71"
      },
      "outputs": [
        {
          "output_type": "stream",
          "name": "stdout",
          "text": [
            "7500\n",
            "625\n"
          ]
        }
      ],
      "source": [
        "train_batch = len(train_loader)\n",
        "val_batch = len(val_loader)\n",
        "print(train_batch, val_batch, sep='\\n')"
      ]
    },
    {
      "cell_type": "markdown",
      "source": [
        "- 그냥 모델 구조 자체를 갈아엎어야되는 문제임... 일단 B3랑 DLA 모델 분석해서 비슷하게라도 만들어보는 게 목표\n",
        "- 지금 train < val, test 상태인데 이게 train data에 argmented data가 너무 많아서 (original:argmented = 20000:40000) 줄이는 게 필요할수도...  \n",
        "- SimpleDLA를 참조하는 것도 ㄱㅊ은듯.. DLA 코드가 너무너무너무너무 많음\n",
        "\n",
        "- B3의 경우 train:test = 40000:10000에 epoch 10 lr 0.001로 87%까지 나옴... 장난치나\n",
        "\n",
        "- 1115) 데이터를 더 늘려야겠다... bias도 true 하고 돌려보기"
      ],
      "metadata": {
        "id": "ZeGjwiT2WQTM"
      }
    },
    {
      "cell_type": "markdown",
      "source": [
        "bias\n",
        "\n",
        "- bias는 해당 레이어의 모든 뉴런에 더해지는 상수로, 모델이 입력 데이터를 더 잘 적합하게 만든다.\n",
        "- 표현 능력 향상, 원점에서의 offset(=입력 특성이 0일 때도 뉴런이 활성화)\n",
        "\n",
        "bias=False(0)의 이유?\n",
        "- 모델 파라미터 수 감소 -> 모델의 복잡도를 낮추고 과적합을 예방\n",
        "- 계산 효율성 -> 예측 속도 향상"
      ],
      "metadata": {
        "id": "RAE7T9eWLxvP"
      }
    },
    {
      "cell_type": "markdown",
      "source": [
        "집 가서 https://tutorials.pytorch.kr/beginner/profiler.html 이거 해보기"
      ],
      "metadata": {
        "id": "Ny4H7kykOL8r"
      }
    },
    {
      "cell_type": "code",
      "execution_count": null,
      "metadata": {
        "colab": {
          "base_uri": "https://localhost:8080/"
        },
        "id": "UGgK7-QaIw31",
        "outputId": "65c522c9-8dc7-4db2-bdee-acf9af042f05"
      },
      "outputs": [
        {
          "output_type": "stream",
          "name": "stdout",
          "text": [
            "Learning started.\n",
            "[Epoch  1] loss 2.1774  acc 27.15, val loss 2.0599  val acc 39.77  Learning Rate 0.0010  patience 0\n",
            "[Epoch  2] loss 2.0470  acc 41.06, val loss 1.9239  val acc 54.04  Learning Rate 0.0010  patience 0\n",
            "[Epoch  3] loss 1.9629  acc 49.68, val loss 1.8579  val acc 60.77  Learning Rate 0.0010  patience 0\n",
            "[Epoch  4] loss 1.9102  acc 54.99, val loss 1.8150  val acc 64.72  Learning Rate 0.0010  patience 0\n",
            "[Epoch  5] loss 1.8661  acc 59.65, val loss 1.7671  val acc 69.75  Learning Rate 0.0010  patience 0\n",
            "[Epoch  6] loss 1.8301  acc 63.17, val loss 1.7493  val acc 71.61  Learning Rate 0.0010  patience 0\n",
            "[Epoch  7] loss 1.8057  acc 65.65, val loss 1.7091  val acc 75.48  Learning Rate 0.0010  patience 0\n",
            "[Epoch  8] loss 1.7871  acc 67.51, val loss 1.7012  val acc 76.13  Learning Rate 0.0010  patience 0\n",
            "[Epoch  9] loss 1.7704  acc 69.24, val loss 1.6957  val acc 76.57  Learning Rate 0.0010  patience 0\n",
            "[Epoch 10] loss 1.7561  acc 70.56, val loss 1.6776  val acc 78.65  Learning Rate 0.0008  patience 0\n",
            "[Epoch 11] loss 1.7386  acc 72.37, val loss 1.6670  val acc 79.45  Learning Rate 0.0008  patience 0\n",
            "[Epoch 12] loss 1.7276  acc 73.43, val loss 1.6555  val acc 80.75  Learning Rate 0.0008  patience 0\n",
            "[Epoch 13] loss 1.7176  acc 74.47, val loss 1.6571  val acc 80.51  Learning Rate 0.0008  patience 0\n",
            "[Epoch 14] loss 1.7122  acc 74.97, val loss 1.6516  val acc 81.06  Learning Rate 0.0008  patience 1\n",
            "[Epoch 15] loss 1.7056  acc 75.62, val loss 1.6463  val acc 81.54  Learning Rate 0.0008  patience 0\n",
            "[Epoch 16] loss 1.6977  acc 76.47, val loss 1.6355  val acc 82.80  Learning Rate 0.0008  patience 0\n",
            "[Epoch 17] loss 1.6916  acc 77.03, val loss 1.6346  val acc 82.83  Learning Rate 0.0008  patience 0\n",
            "[Epoch 18] loss 1.6855  acc 77.63, val loss 1.6307  val acc 83.09  Learning Rate 0.0008  patience 0\n",
            "[Epoch 19] loss 1.6807  acc 78.14, val loss 1.6279  val acc 83.40  Learning Rate 0.0008  patience 0\n",
            "[Epoch 20] loss 1.6752  acc 78.70, val loss 1.6304  val acc 83.00  Learning Rate 0.0006  patience 0\n",
            "[Epoch 21] loss 1.6659  acc 79.60, val loss 1.6113  val acc 85.17  Learning Rate 0.0006  patience 1\n",
            "[Epoch 22] loss 1.6595  acc 80.22, val loss 1.6139  val acc 84.70  Learning Rate 0.0006  patience 0\n",
            "[Epoch 23] loss 1.6547  acc 80.80, val loss 1.6078  val acc 85.32  Learning Rate 0.0006  patience 1\n",
            "[Epoch 24] loss 1.6528  acc 80.95, val loss 1.6089  val acc 85.39  Learning Rate 0.0006  patience 0\n",
            "[Epoch 25] loss 1.6481  acc 81.38, val loss 1.6047  val acc 85.95  Learning Rate 0.0006  patience 1\n",
            "[Epoch 26] loss 1.6442  acc 81.79, val loss 1.6057  val acc 85.66  Learning Rate 0.0006  patience 0\n",
            "[Epoch 27] loss 1.6426  acc 81.96, val loss 1.6069  val acc 85.63  Learning Rate 0.0006  patience 1\n",
            "[Epoch 28] loss 1.6410  acc 82.05, val loss 1.5986  val acc 86.29  Learning Rate 0.0006  patience 2\n",
            "[Epoch 29] loss 1.6376  acc 82.44, val loss 1.5969  val acc 86.54  Learning Rate 0.0006  patience 0\n",
            "[Epoch 30] loss 1.6340  acc 82.83, val loss 1.5915  val acc 86.99  Learning Rate 0.0005  patience 0\n",
            "[Epoch 31] loss 1.6271  acc 83.44, val loss 1.5897  val acc 87.23  Learning Rate 0.0005  patience 0\n",
            "[Epoch 32] loss 1.6252  acc 83.67, val loss 1.5906  val acc 87.13  Learning Rate 0.0005  patience 0\n",
            "[Epoch 33] loss 1.6222  acc 84.00, val loss 1.5926  val acc 86.90  Learning Rate 0.0005  patience 1\n",
            "[Epoch 34] loss 1.6210  acc 84.08, val loss 1.5891  val acc 87.41  Learning Rate 0.0005  patience 2\n",
            "[Epoch 35] loss 1.6189  acc 84.31, val loss 1.5894  val acc 87.42  Learning Rate 0.0005  patience 0\n",
            "[Epoch 36] loss 1.6164  acc 84.56, val loss 1.5892  val acc 87.15  Learning Rate 0.0005  patience 1\n",
            "[Epoch 37] loss 1.6170  acc 84.47, val loss 1.5876  val acc 87.36  Learning Rate 0.0005  patience 2\n",
            "[Epoch 38] loss 1.6160  acc 84.57, val loss 1.5843  val acc 87.83  Learning Rate 0.0005  patience 0\n",
            "[Epoch 39] loss 1.6127  acc 84.89, val loss 1.5818  val acc 88.14  Learning Rate 0.0005  patience 0\n",
            "[Epoch 40] loss 1.6125  acc 84.93, val loss 1.5820  val acc 87.92  Learning Rate 0.0004  patience 0\n",
            "[Epoch 41] loss 1.6060  acc 85.60, val loss 1.5794  val acc 88.33  Learning Rate 0.0004  patience 1\n",
            "[Epoch 42] loss 1.6039  acc 85.79, val loss 1.5797  val acc 88.22  Learning Rate 0.0004  patience 0\n",
            "[Epoch 43] loss 1.6027  acc 85.86, val loss 1.5762  val acc 88.47  Learning Rate 0.0004  patience 1\n",
            "[Epoch 44] loss 1.6010  acc 86.06, val loss 1.5782  val acc 88.42  Learning Rate 0.0004  patience 0\n",
            "[Epoch 45] loss 1.5988  acc 86.30, val loss 1.5759  val acc 88.54  Learning Rate 0.0004  patience 1\n",
            "[Epoch 46] loss 1.5990  acc 86.32, val loss 1.5757  val acc 88.67  Learning Rate 0.0004  patience 0\n",
            "[Epoch 47] loss 1.5994  acc 86.24, val loss 1.5754  val acc 88.64  Learning Rate 0.0004  patience 0\n",
            "[Epoch 48] loss 1.5986  acc 86.33, val loss 1.5724  val acc 88.85  Learning Rate 0.0004  patience 0\n",
            "[Epoch 49] loss 1.5966  acc 86.53, val loss 1.5758  val acc 88.45  Learning Rate 0.0004  patience 0\n",
            "[Epoch 50] loss 1.5958  acc 86.59, val loss 1.5769  val acc 88.52  Learning Rate 0.0003  patience 1\n",
            "[Epoch 51] loss 1.5912  acc 87.02, val loss 1.5725  val acc 88.88  Learning Rate 0.0003  patience 2\n",
            "[Epoch 52] loss 1.5875  acc 87.43, val loss 1.5709  val acc 89.08  Learning Rate 0.0003  patience 3\n",
            "[Epoch 53] loss 1.5874  acc 87.44, val loss 1.5691  val acc 89.23  Learning Rate 0.0003  patience 0\n",
            "[Epoch 54] loss 1.5883  acc 87.27, val loss 1.5683  val acc 89.27  Learning Rate 0.0003  patience 0\n",
            "[Epoch 55] loss 1.5868  acc 87.49, val loss 1.5710  val acc 89.05  Learning Rate 0.0003  patience 0\n",
            "[Epoch 56] loss 1.5860  acc 87.58, val loss 1.5686  val acc 89.27  Learning Rate 0.0003  patience 1\n",
            "[Epoch 57] loss 1.5860  acc 87.55, val loss 1.5669  val acc 89.49  Learning Rate 0.0003  patience 2\n",
            "[Epoch 58] loss 1.5872  acc 87.43, val loss 1.5674  val acc 89.52  Learning Rate 0.0003  patience 0\n",
            "[Epoch 59] loss 1.5841  acc 87.72, val loss 1.5671  val acc 89.52  Learning Rate 0.0003  patience 1\n",
            "[Epoch 60] loss 1.5837  acc 87.79, val loss 1.5709  val acc 89.11  Learning Rate 0.0003  patience 2\n",
            "[Epoch 61] loss 1.5804  acc 88.12, val loss 1.5690  val acc 89.34  Learning Rate 0.0003  patience 3\n",
            "[Epoch 62] loss 1.5795  acc 88.18, val loss 1.5638  val acc 89.73  Learning Rate 0.0003  patience 4\n",
            "[Epoch 63] loss 1.5780  acc 88.37, val loss 1.5662  val acc 89.64  Learning Rate 0.0003  patience 0\n",
            "[Epoch 64] loss 1.5781  acc 88.34, val loss 1.5652  val acc 89.55  Learning Rate 0.0003  patience 1\n",
            "[Epoch 65] loss 1.5765  acc 88.50, val loss 1.5637  val acc 89.68  Learning Rate 0.0003  patience 2\n",
            "[Epoch 66] loss 1.5765  acc 88.50, val loss 1.5670  val acc 89.48  Learning Rate 0.0003  patience 0\n",
            "[Epoch 67] loss 1.5756  acc 88.58, val loss 1.5643  val acc 89.75  Learning Rate 0.0003  patience 1\n",
            "[Epoch 68] loss 1.5764  acc 88.47, val loss 1.5649  val acc 89.64  Learning Rate 0.0003  patience 2\n",
            "[Epoch 69] loss 1.5756  acc 88.60, val loss 1.5652  val acc 89.68  Learning Rate 0.0003  patience 3\n",
            "[Epoch 70] loss 1.5752  acc 88.63, val loss 1.5655  val acc 89.58  Learning Rate 0.0002  patience 4\n",
            "Early Stopping!\n",
            "Learning Finished!\n"
          ]
        }
      ],
      "source": [
        "# train model\n",
        "# epoch마다 training/validation loss와 accuracy 출력 및 loss와 accuracy 그래프 그리기 위한 list 만들기\n",
        "\n",
        "print('Learning started.')\n",
        "\n",
        "\n",
        "train_loss_list = []\n",
        "train_acc_list = []\n",
        "\n",
        "val_loss_list = []\n",
        "val_acc_list = []\n",
        "\n",
        "best_val_loss = 10**9   # 큰 값으로 초기값 가정\n",
        "patience_limit = 3    # 몇 번의 epoch까지 지켜볼지를 결정\n",
        "patience_check = 0    # 현재 몇 epoch 연속으로 loss 개선 안되었는지 기록\n",
        "\n",
        "for epoch in range(epochs):\n",
        "    # training\n",
        "    train_loss = 0\n",
        "    correct = 0\n",
        "\n",
        "    for X, Y in train_loader:\n",
        "\n",
        "        X = X.to(device)\n",
        "        Y = Y.to(device)\n",
        "\n",
        "\n",
        "        Y_pred = model.forward(X)\n",
        "        loss = criterion(Y_pred, Y)\n",
        "        optimizer.zero_grad()\n",
        "        loss.backward()\n",
        "        optimizer.step()\n",
        "\n",
        "        train_loss += loss / train_batch\n",
        "\n",
        "        correct_prediction = torch.argmax(Y_pred, 1) == Y\n",
        "        correct += correct_prediction.sum()\n",
        "\n",
        "    scheduler.step()\n",
        "    current_lr = optimizer.param_groups[0]['lr']\n",
        "\n",
        "    train_acc = (100*correct/len(train_loader.dataset))\n",
        "    train_acc_list.append(train_acc.item())\n",
        "    train_loss_list.append(train_loss.item())\n",
        "\n",
        "    # validation\n",
        "    with torch.no_grad():\n",
        "        val_loss = 0\n",
        "        correct = 0\n",
        "\n",
        "        for X, Y in val_loader:\n",
        "            X_val = X.to(device)\n",
        "            Y_val = Y.to(device)\n",
        "\n",
        "            Y_pred = model.forward(X_val)\n",
        "            loss = criterion(Y_pred, Y_val)\n",
        "\n",
        "            val_loss += loss / val_batch\n",
        "\n",
        "            correct_prediction = torch.argmax(Y_pred, 1) == Y_val\n",
        "            correct += correct_prediction.sum()\n",
        "\n",
        "        val_acc = (100*correct/len(val_loader.dataset))\n",
        "        val_acc_list.append(val_acc.item())\n",
        "        val_loss_list.append(val_loss.item())\n",
        "\n",
        "\n",
        "    print(\"[Epoch %2d] loss %.4f  acc %.2f, val loss %.4f  val acc %.2f  Learning Rate %.4f  patience %d\"\n",
        "          % (epoch+1, train_loss, train_acc, val_loss, val_acc, current_lr, patience_check))\n",
        "\n",
        "    # early stopping\n",
        "    if val_loss > best_val_loss: # loss가 개선되지 않은 경우\n",
        "        patience_check += 1\n",
        "        if patience_check >= patience_limit: # early stopping 조건 만족 시 조기 종료\n",
        "            print('Early Stopping!')\n",
        "            break\n",
        "    else: # loss가 개선된 경우\n",
        "        best_val_loss = val_loss\n",
        "        patience_check = 0\n",
        "\n",
        "print('Learning Finished!')"
      ]
    },
    {
      "cell_type": "markdown",
      "metadata": {
        "id": "zVZdjWpMEsjx"
      },
      "source": [
        "- l1 reg, 0.8: [Epoch 28] loss 1.5142  acc 95.52, val loss 1.7052  val acc 75.79\n",
        "- 0.7: [Epoch 21] loss 1.5357  acc 93.35, val loss 1.7078  val acc 75.73.\n",
        "- 0.01, 5000: [Epoch 18] loss 1.5560  acc 91.24, val loss 1.7040  val acc 76.09\n",
        "\n",
        "- l2 reg: [Epoch 18] loss 1.5531  acc 91.49, val loss 1.7043  val acc 75.85\n",
        "\n",
        "- NAG: [Epoch 24] loss 1.5368  acc 92.63, val loss 1.6966  val acc 76.39\n",
        "\n",
        "- Rprop, Adam, Nadam 쓰레기"
      ]
    },
    {
      "cell_type": "code",
      "execution_count": null,
      "metadata": {
        "colab": {
          "base_uri": "https://localhost:8080/",
          "height": 468
        },
        "id": "aY3HMAMHXDe7",
        "outputId": "80b8a120-3764-4c8e-abd2-c89d4cb7d7d9"
      },
      "outputs": [
        {
          "output_type": "display_data",
          "data": {
            "text/plain": [
              "<Figure size 1400x500 with 2 Axes>"
            ],
            "image/png": "[encoded data removed]"
          },
          "metadata": {}
        }
      ],
      "source": [
        "# plot train/validation loss and accuracy\n",
        "plt.figure(figsize=(14, 5))\n",
        "plt.subplot(1,2,1)\n",
        "plt.plot(range(len(train_loss_list)), train_loss_list, range(len(val_loss_list)), val_loss_list)\n",
        "plt.legend(['Training', 'Validation'])\n",
        "plt.title('Loss')\n",
        "plt.subplot(1,2,2)\n",
        "plt.plot(range(len(train_acc_list)), train_acc_list, range(len(val_acc_list)),val_acc_list)\n",
        "plt.legend(['Training', 'Validation'])\n",
        "plt.title('Accuracy')\n",
        "plt.show()"
      ]
    },
    {
      "cell_type": "markdown",
      "metadata": {
        "id": "a7qk3f4taWpw"
      },
      "source": [
        "## 4. Test Model"
      ]
    },
    {
      "cell_type": "code",
      "execution_count": null,
      "metadata": {
        "colab": {
          "base_uri": "https://localhost:8080/"
        },
        "id": "EOKVaolCZk3N",
        "outputId": "1e1df085-b176-4209-f611-4fac4ca71f15"
      },
      "outputs": [
        {
          "output_type": "stream",
          "name": "stdout",
          "text": [
            "Test set Accuracy: 89.81\n"
          ]
        }
      ],
      "source": [
        "# Test model and print test accuracy\n",
        "with torch.no_grad():\n",
        "    correct = 0\n",
        "    # Test the model using test sets\n",
        "    for X, Y in test_loader:\n",
        "        X_test = X.to(device)\n",
        "        Y_test = Y.to(device)\n",
        "\n",
        "        Y_pred = model.forward(X_test)\n",
        "        prediction = torch.argmax(Y_pred, 1)\n",
        "        correct_prediction = prediction == Y_test\n",
        "        correct += correct_prediction.sum()\n",
        "\n",
        "    accuracy = 100*correct/len(test_loader.dataset)\n",
        "    print('Test set Accuracy: %.2f' % (accuracy))"
      ]
    },
    {
      "cell_type": "code",
      "execution_count": null,
      "metadata": {
        "colab": {
          "base_uri": "https://localhost:8080/",
          "height": 320
        },
        "id": "9d0axj9st9Ja",
        "outputId": "71b50cd1-9624-4c4e-a4f2-fe5c7cbe27ad"
      },
      "outputs": [
        {
          "output_type": "stream",
          "name": "stdout",
          "text": [
            "observed_y:  ['dog', 'bird', 'bird', 'deer', 'bird']\n",
            "predicted_y:  ['deer', 'cat', 'ship', 'cat', 'frog']\n"
          ]
        },
        {
          "output_type": "display_data",
          "data": {
            "text/plain": [
              "<Figure size 1500x300 with 5 Axes>"
            ],
            "image/png": "[encoded data removed]"
          },
          "metadata": {}
        }
      ],
      "source": [
        "# 잘못 예측한 5개 이미지 보기 (진짜 라벨과 예측 라벨 같이 출력)\n",
        "false_list = []\n",
        "for i, c in enumerate(correct_prediction):\n",
        "    if c == False:\n",
        "        false_list.append(i)\n",
        "\n",
        "plt.figure(figsize=(15, 3))\n",
        "for i in range(5):\n",
        "    plt.subplot(1, 5, i+1)\n",
        "    plt.imshow(cifar_test.data[false_list[i]], cmap='gray')\n",
        "    plt.title('label %d, prediction %d'\n",
        "              %(cifar_test.targets[false_list[i]], prediction[false_list[i]]))\n",
        "\n",
        "print('observed_y: ', [classes[cifar_test.targets[i]] for i in false_list][:5])\n",
        "print('predicted_y: ', [classes[prediction[i]] for i in false_list][:5])\n",
        "plt.show()"
      ]
    },
    {
      "cell_type": "markdown",
      "metadata": {
        "id": "6_ti9QUq9nQs"
      },
      "source": [
        "## 5. Save Model"
      ]
    },
    {
      "cell_type": "code",
      "source": [
        "torch.save(model.state_dict(), '/content/drive/MyDrive/CNNWithTree_weight2.pt')"
      ],
      "metadata": {
        "id": "uWTikX8YX2dd"
      },
      "execution_count": null,
      "outputs": []
    },
    {
      "cell_type": "code",
      "source": [
        "'''\n",
        "my_model = CNNWithTree().to(device)\n",
        "my_model.load_state_dict(torch.load('/content/drive/MyDrive/CNNWithTree_weight2.pt'))\n",
        "my_model.eval()\n",
        "'''"
      ],
      "metadata": {
        "colab": {
          "base_uri": "https://localhost:8080/"
        },
        "id": "bFnYEiHlY4yM",
        "outputId": "80b9cba7-37d9-4c30-8f24-15b741e4fea5"
      },
      "execution_count": null,
      "outputs": [
        {
          "output_type": "execute_result",
          "data": {
            "text/plain": [
              "CNNWithTree(\n",
              "  (base): Sequential(\n",
              "    (0): Conv2d(3, 16, kernel_size=(3, 3), stride=(1, 1), padding=(1, 1), bias=False)\n",
              "    (1): BatchNorm2d(16, eps=1e-05, momentum=0.1, affine=True, track_running_stats=True)\n",
              "    (2): ReLU(inplace=True)\n",
              "  )\n",
              "  (layer1): Sequential(\n",
              "    (0): Conv2d(16, 32, kernel_size=(3, 3), stride=(1, 1), padding=(1, 1), bias=False)\n",
              "    (1): BatchNorm2d(32, eps=1e-05, momentum=0.1, affine=True, track_running_stats=True)\n",
              "    (2): ReLU(inplace=True)\n",
              "  )\n",
              "  (layer2): Sequential(\n",
              "    (0): Conv2d(32, 64, kernel_size=(3, 3), stride=(1, 1), padding=(1, 1), bias=False)\n",
              "    (1): BatchNorm2d(64, eps=1e-05, momentum=0.1, affine=True, track_running_stats=True)\n",
              "    (2): ReLU(inplace=True)\n",
              "  )\n",
              "  (layer4): Tree(\n",
              "    (root): Root(\n",
              "      (conv): Conv2d(256, 128, kernel_size=(1, 1), stride=(1, 1), bias=False)\n",
              "      (bn): BatchNorm2d(128, eps=1e-05, momentum=0.1, affine=True, track_running_stats=True)\n",
              "    )\n",
              "    (left): Tree(\n",
              "      (root): Root(\n",
              "        (conv): Conv2d(256, 128, kernel_size=(1, 1), stride=(1, 1), bias=False)\n",
              "        (bn): BatchNorm2d(128, eps=1e-05, momentum=0.1, affine=True, track_running_stats=True)\n",
              "      )\n",
              "      (left): Basic(\n",
              "        (conv1): Conv2d(64, 128, kernel_size=(3, 3), stride=(2, 2), padding=(1, 1), bias=False)\n",
              "        (bn1): BatchNorm2d(128, eps=1e-05, momentum=0.1, affine=True, track_running_stats=True)\n",
              "        (conv2): Conv2d(128, 128, kernel_size=(3, 3), stride=(1, 1), padding=(1, 1), bias=False)\n",
              "        (bn2): BatchNorm2d(128, eps=1e-05, momentum=0.1, affine=True, track_running_stats=True)\n",
              "        (shortcut): Sequential(\n",
              "          (0): Conv2d(64, 128, kernel_size=(1, 1), stride=(2, 2), bias=False)\n",
              "          (1): BatchNorm2d(128, eps=1e-05, momentum=0.1, affine=True, track_running_stats=True)\n",
              "        )\n",
              "      )\n",
              "      (right): Basic(\n",
              "        (conv1): Conv2d(128, 128, kernel_size=(3, 3), stride=(1, 1), padding=(1, 1), bias=False)\n",
              "        (bn1): BatchNorm2d(128, eps=1e-05, momentum=0.1, affine=True, track_running_stats=True)\n",
              "        (conv2): Conv2d(128, 128, kernel_size=(3, 3), stride=(1, 1), padding=(1, 1), bias=False)\n",
              "        (bn2): BatchNorm2d(128, eps=1e-05, momentum=0.1, affine=True, track_running_stats=True)\n",
              "        (shortcut): Sequential()\n",
              "      )\n",
              "    )\n",
              "    (right): Tree(\n",
              "      (root): Root(\n",
              "        (conv): Conv2d(256, 128, kernel_size=(1, 1), stride=(1, 1), bias=False)\n",
              "        (bn): BatchNorm2d(128, eps=1e-05, momentum=0.1, affine=True, track_running_stats=True)\n",
              "      )\n",
              "      (left): Basic(\n",
              "        (conv1): Conv2d(128, 128, kernel_size=(3, 3), stride=(1, 1), padding=(1, 1), bias=False)\n",
              "        (bn1): BatchNorm2d(128, eps=1e-05, momentum=0.1, affine=True, track_running_stats=True)\n",
              "        (conv2): Conv2d(128, 128, kernel_size=(3, 3), stride=(1, 1), padding=(1, 1), bias=False)\n",
              "        (bn2): BatchNorm2d(128, eps=1e-05, momentum=0.1, affine=True, track_running_stats=True)\n",
              "        (shortcut): Sequential()\n",
              "      )\n",
              "      (right): Basic(\n",
              "        (conv1): Conv2d(128, 128, kernel_size=(3, 3), stride=(1, 1), padding=(1, 1), bias=False)\n",
              "        (bn1): BatchNorm2d(128, eps=1e-05, momentum=0.1, affine=True, track_running_stats=True)\n",
              "        (conv2): Conv2d(128, 128, kernel_size=(3, 3), stride=(1, 1), padding=(1, 1), bias=False)\n",
              "        (bn2): BatchNorm2d(128, eps=1e-05, momentum=0.1, affine=True, track_running_stats=True)\n",
              "        (shortcut): Sequential()\n",
              "      )\n",
              "    )\n",
              "  )\n",
              "  (layer5): Tree(\n",
              "    (root): Root(\n",
              "      (conv): Conv2d(512, 256, kernel_size=(1, 1), stride=(1, 1), bias=False)\n",
              "      (bn): BatchNorm2d(256, eps=1e-05, momentum=0.1, affine=True, track_running_stats=True)\n",
              "    )\n",
              "    (left): Tree(\n",
              "      (root): Root(\n",
              "        (conv): Conv2d(512, 256, kernel_size=(1, 1), stride=(1, 1), bias=False)\n",
              "        (bn): BatchNorm2d(256, eps=1e-05, momentum=0.1, affine=True, track_running_stats=True)\n",
              "      )\n",
              "      (left): Basic(\n",
              "        (conv1): Conv2d(128, 256, kernel_size=(3, 3), stride=(2, 2), padding=(1, 1), bias=False)\n",
              "        (bn1): BatchNorm2d(256, eps=1e-05, momentum=0.1, affine=True, track_running_stats=True)\n",
              "        (conv2): Conv2d(256, 256, kernel_size=(3, 3), stride=(1, 1), padding=(1, 1), bias=False)\n",
              "        (bn2): BatchNorm2d(256, eps=1e-05, momentum=0.1, affine=True, track_running_stats=True)\n",
              "        (shortcut): Sequential(\n",
              "          (0): Conv2d(128, 256, kernel_size=(1, 1), stride=(2, 2), bias=False)\n",
              "          (1): BatchNorm2d(256, eps=1e-05, momentum=0.1, affine=True, track_running_stats=True)\n",
              "        )\n",
              "      )\n",
              "      (right): Basic(\n",
              "        (conv1): Conv2d(256, 256, kernel_size=(3, 3), stride=(1, 1), padding=(1, 1), bias=False)\n",
              "        (bn1): BatchNorm2d(256, eps=1e-05, momentum=0.1, affine=True, track_running_stats=True)\n",
              "        (conv2): Conv2d(256, 256, kernel_size=(3, 3), stride=(1, 1), padding=(1, 1), bias=False)\n",
              "        (bn2): BatchNorm2d(256, eps=1e-05, momentum=0.1, affine=True, track_running_stats=True)\n",
              "        (shortcut): Sequential()\n",
              "      )\n",
              "    )\n",
              "    (right): Tree(\n",
              "      (root): Root(\n",
              "        (conv): Conv2d(512, 256, kernel_size=(1, 1), stride=(1, 1), bias=False)\n",
              "        (bn): BatchNorm2d(256, eps=1e-05, momentum=0.1, affine=True, track_running_stats=True)\n",
              "      )\n",
              "      (left): Basic(\n",
              "        (conv1): Conv2d(256, 256, kernel_size=(3, 3), stride=(1, 1), padding=(1, 1), bias=False)\n",
              "        (bn1): BatchNorm2d(256, eps=1e-05, momentum=0.1, affine=True, track_running_stats=True)\n",
              "        (conv2): Conv2d(256, 256, kernel_size=(3, 3), stride=(1, 1), padding=(1, 1), bias=False)\n",
              "        (bn2): BatchNorm2d(256, eps=1e-05, momentum=0.1, affine=True, track_running_stats=True)\n",
              "        (shortcut): Sequential()\n",
              "      )\n",
              "      (right): Basic(\n",
              "        (conv1): Conv2d(256, 256, kernel_size=(3, 3), stride=(1, 1), padding=(1, 1), bias=False)\n",
              "        (bn1): BatchNorm2d(256, eps=1e-05, momentum=0.1, affine=True, track_running_stats=True)\n",
              "        (conv2): Conv2d(256, 256, kernel_size=(3, 3), stride=(1, 1), padding=(1, 1), bias=False)\n",
              "        (bn2): BatchNorm2d(256, eps=1e-05, momentum=0.1, affine=True, track_running_stats=True)\n",
              "        (shortcut): Sequential()\n",
              "      )\n",
              "    )\n",
              "  )\n",
              "  (layer6): Tree(\n",
              "    (root): Root(\n",
              "      (conv): Conv2d(1024, 512, kernel_size=(1, 1), stride=(1, 1), bias=False)\n",
              "      (bn): BatchNorm2d(512, eps=1e-05, momentum=0.1, affine=True, track_running_stats=True)\n",
              "    )\n",
              "    (left): Basic(\n",
              "      (conv1): Conv2d(256, 512, kernel_size=(3, 3), stride=(2, 2), padding=(1, 1), bias=False)\n",
              "      (bn1): BatchNorm2d(512, eps=1e-05, momentum=0.1, affine=True, track_running_stats=True)\n",
              "      (conv2): Conv2d(512, 512, kernel_size=(3, 3), stride=(1, 1), padding=(1, 1), bias=False)\n",
              "      (bn2): BatchNorm2d(512, eps=1e-05, momentum=0.1, affine=True, track_running_stats=True)\n",
              "      (shortcut): Sequential(\n",
              "        (0): Conv2d(256, 512, kernel_size=(1, 1), stride=(2, 2), bias=False)\n",
              "        (1): BatchNorm2d(512, eps=1e-05, momentum=0.1, affine=True, track_running_stats=True)\n",
              "      )\n",
              "    )\n",
              "    (right): Basic(\n",
              "      (conv1): Conv2d(512, 512, kernel_size=(3, 3), stride=(1, 1), padding=(1, 1), bias=False)\n",
              "      (bn1): BatchNorm2d(512, eps=1e-05, momentum=0.1, affine=True, track_running_stats=True)\n",
              "      (conv2): Conv2d(512, 512, kernel_size=(3, 3), stride=(1, 1), padding=(1, 1), bias=False)\n",
              "      (bn2): BatchNorm2d(512, eps=1e-05, momentum=0.1, affine=True, track_running_stats=True)\n",
              "      (shortcut): Sequential()\n",
              "    )\n",
              "  )\n",
              "  (linear): Linear(in_features=512, out_features=10, bias=True)\n",
              ")"
            ]
          },
          "metadata": {},
          "execution_count": 92
        }
      ]
    }
  ],
  "metadata": {
    "accelerator": "GPU",
    "colab": {
      "provenance": [],
      "include_colab_link": true
    },
    "kernelspec": {
      "display_name": "Python 3",
      "name": "python3"
    },
    "language_info": {
      "name": "python"
    }
  },
  "nbformat": 4,
  "nbformat_minor": 0
}
