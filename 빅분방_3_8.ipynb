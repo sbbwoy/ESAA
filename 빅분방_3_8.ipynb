{
  "nbformat": 4,
  "nbformat_minor": 0,
  "metadata": {
    "colab": {
      "name": "빅분방_3/8",
      "provenance": [],
      "authorship_tag": "ABX9TyN+E9yQZOASd23m0c2NIhdM",
      "include_colab_link": true
    },
    "kernelspec": {
      "name": "python3",
      "display_name": "Python 3"
    },
    "language_info": {
      "name": "python"
    }
  },
  "cells": [
    {
      "cell_type": "markdown",
      "metadata": {
        "id": "view-in-github",
        "colab_type": "text"
      },
      "source": [
        "<a href=\"https://colab.research.google.com/github/sbbwoy/ESAA/blob/main/%EB%B9%85%EB%B6%84%EB%B0%A9_3_8.ipynb\" target=\"_parent\"><img src=\"https://colab.research.google.com/assets/colab-badge.svg\" alt=\"Open In Colab\"/></a>"
      ]
    },
    {
      "cell_type": "code",
      "execution_count": null,
      "metadata": {
        "colab": {
          "base_uri": "https://localhost:8080/"
        },
        "id": "RWvLlem8SyA9",
        "outputId": "f1be84a5-2aef-46bb-82a6-6df7b80eb9a9"
      },
      "outputs": [
        {
          "output_type": "stream",
          "name": "stdout",
          "text": [
            "hello everybody\n"
          ]
        }
      ],
      "source": [
        "print('hello everybody')"
      ]
    },
    {
      "cell_type": "markdown",
      "source": [
        "Variables in STAT\n",
        "1. quantitiative = numerical\n",
        "\n",
        "    a. continuous: 키, 몸무게, 혈압\n",
        "\n",
        "    b. discrete: 서울시 자동차 사고 건수, 자녀 수, the number of something\n",
        "\n",
        "2. categorical\n",
        "\n",
        "    a. ordinal: 설문조사\n",
        "\n",
        "    b. nominal: 혈액형, 색깔, 성별\n",
        "\n",
        "--> 전부 numerical로 변환해 분석"
      ],
      "metadata": {
        "id": "XxItEMzES7_6"
      }
    },
    {
      "cell_type": "code",
      "source": [
        "print(type('A'))\n",
        "print(type(1))\n",
        "print(type(1.5))\n",
        "print(type(True))"
      ],
      "metadata": {
        "colab": {
          "base_uri": "https://localhost:8080/"
        },
        "id": "lw6kiYpHS2Ww",
        "outputId": "c9dcd640-f9fb-4bb6-fdf8-7a414171301b"
      },
      "execution_count": null,
      "outputs": [
        {
          "output_type": "stream",
          "name": "stdout",
          "text": [
            "<class 'str'>\n",
            "<class 'int'>\n",
            "<class 'float'>\n",
            "<class 'bool'>\n"
          ]
        }
      ]
    },
    {
      "cell_type": "markdown",
      "source": [
        "##제어문\n",
        "\n",
        "1. if 문"
      ],
      "metadata": {
        "id": "zHemBXZkWJjX"
      }
    },
    {
      "cell_type": "code",
      "source": [
        "age = int(input('what is your age?: '))\n",
        "\n",
        "if age>18: print('You can drive.')\n",
        "else: print('Sorry, you can\\'t drive')"
      ],
      "metadata": {
        "colab": {
          "base_uri": "https://localhost:8080/"
        },
        "id": "vT-ife4eWVog",
        "outputId": "a6c90e18-abc4-47b9-c084-6301aaac95ff"
      },
      "execution_count": null,
      "outputs": [
        {
          "output_type": "stream",
          "name": "stdout",
          "text": [
            "what is your age?: 15\n",
            "Sorry, you can't drive\n"
          ]
        }
      ]
    },
    {
      "cell_type": "code",
      "source": [
        "N = int(input('입력하는 숫자는 6과 20 사이의 짝수인가?: '))\n",
        "\n",
        "if N % 2 == 0:\n",
        "    if N >= 2 and N <= 5:print('No')\n",
        "    elif N >= 6 and N <= 20: print('Yes')\n",
        "    elif N > 20: print('No')\n",
        "else: print('No')"
      ],
      "metadata": {
        "colab": {
          "base_uri": "https://localhost:8080/"
        },
        "id": "TGK9GLJmXVN6",
        "outputId": "038ee2d3-d1d0-453a-88cc-66483f61125a"
      },
      "execution_count": null,
      "outputs": [
        {
          "output_type": "stream",
          "name": "stdout",
          "text": [
            "입력하는 숫자는 6과 20 사이의 짝수인가?: 15\n",
            "No\n"
          ]
        }
      ]
    },
    {
      "cell_type": "markdown",
      "source": [
        "2. for문"
      ],
      "metadata": {
        "id": "DwKmSVscY8id"
      }
    },
    {
      "cell_type": "code",
      "source": [
        "#List of numbers\n",
        "numbers = [6, 5, 3, 8, 4, 2, 5, 4, 11]\n",
        "\n",
        "#variable to store the sum\n",
        "sum = 0\n",
        "\n",
        "# iterate over the list\n",
        "for val in numbers:\n",
        "    sum += val\n",
        "\n",
        "print('The sum is', sum)"
      ],
      "metadata": {
        "colab": {
          "base_uri": "https://localhost:8080/"
        },
        "id": "LPOtiwDYY-k2",
        "outputId": "1f00c58b-889e-4d9a-f95f-565fe5b87ffa"
      },
      "execution_count": null,
      "outputs": [
        {
          "output_type": "stream",
          "name": "stdout",
          "text": [
            "The sum is 48\n"
          ]
        }
      ]
    },
    {
      "cell_type": "code",
      "source": [
        "N = int(input('number: '))\n",
        "\n",
        "sum = 0\n",
        "\n",
        "for i in range(1, N+1):\n",
        "    sum += i\n",
        "\n",
        "print('The sum of 1 to the number is', sum)"
      ],
      "metadata": {
        "colab": {
          "base_uri": "https://localhost:8080/"
        },
        "id": "yU0JeRzNaI7D",
        "outputId": "da93bd92-1e05-47c5-a664-140a32f971f9"
      },
      "execution_count": null,
      "outputs": [
        {
          "output_type": "stream",
          "name": "stdout",
          "text": [
            "number: 4\n",
            "The sum of 1 to the number is 10\n"
          ]
        }
      ]
    },
    {
      "cell_type": "markdown",
      "source": [
        "3. while문"
      ],
      "metadata": {
        "id": "Eu9CqPtzaHl6"
      }
    },
    {
      "cell_type": "code",
      "source": [
        "N = int(input('number: '))\n",
        "\n",
        "i, sum = 1, 0\n",
        "\n",
        "while i<=N:\n",
        "    sum += i\n",
        "    i += 1\n",
        "\n",
        "print('The sum of 1 to the number is', sum)"
      ],
      "metadata": {
        "colab": {
          "base_uri": "https://localhost:8080/"
        },
        "id": "5QQpyLLdbKgT",
        "outputId": "2d25ebc4-03f8-47ac-9571-53bc83bdae82"
      },
      "execution_count": null,
      "outputs": [
        {
          "output_type": "stream",
          "name": "stdout",
          "text": [
            "number: 4\n",
            "The sum of 1 to the number is 10\n"
          ]
        }
      ]
    },
    {
      "cell_type": "code",
      "source": [
        "num = 0\n",
        "tot = 0.0\n",
        "\n",
        "while True: \n",
        "    sval = input('enter a number: ')\n",
        "    if sval == 'done': break\n",
        "    try: fval = float(sval)\n",
        "    except:\n",
        "        print('invalid input')\n",
        "        continue\n",
        "    num += 1\n",
        "    tot = tot+fval\n",
        "\n",
        "print(tot, num, tot/num)"
      ],
      "metadata": {
        "colab": {
          "base_uri": "https://localhost:8080/"
        },
        "id": "EvJYgox4cGEr",
        "outputId": "2fcc2a16-2c4d-4ae1-a77e-ba563bf256f5"
      },
      "execution_count": null,
      "outputs": [
        {
          "output_type": "stream",
          "name": "stdout",
          "text": [
            "enter a number: 4\n",
            "enter a number: 10\n",
            "enter a number: 15\n",
            "enter a number: adf\n",
            "invalid input\n",
            "enter a number: done\n",
            "29.0 3 9.666666666666666\n"
          ]
        }
      ]
    },
    {
      "cell_type": "code",
      "source": [
        "astr = '호'\n",
        "\n",
        "try:\n",
        "    print('Hello')\n",
        "    islnt = int(astr)\n",
        "    print('World')\n",
        "except:\n",
        "    islnt = 'Integer로 변환할 수 없습니다.'\n",
        "\n",
        "print('Done', islnt)"
      ],
      "metadata": {
        "colab": {
          "base_uri": "https://localhost:8080/"
        },
        "id": "UdHYQ9vkcoAO",
        "outputId": "12a668da-8812-427a-ec47-30af24db5be6"
      },
      "execution_count": null,
      "outputs": [
        {
          "output_type": "stream",
          "name": "stdout",
          "text": [
            "Hello\n",
            "Done Integer로 변환할 수 없습니다.\n"
          ]
        }
      ]
    },
    {
      "cell_type": "code",
      "source": [
        "astr = '123'\n",
        "\n",
        "try:\n",
        "    print('Hello')\n",
        "    islnt = int(astr)\n",
        "    print('World')\n",
        "except:\n",
        "    islnt = 'Integer로 변환할 수 없습니다.'\n",
        "\n",
        "print('Done', islnt)"
      ],
      "metadata": {
        "colab": {
          "base_uri": "https://localhost:8080/"
        },
        "id": "Ncvhfu1Dez5D",
        "outputId": "f435f721-92df-4412-b13e-c15742b3f85a"
      },
      "execution_count": null,
      "outputs": [
        {
          "output_type": "stream",
          "name": "stdout",
          "text": [
            "Hello\n",
            "World\n",
            "Done 123\n"
          ]
        }
      ]
    }
  ]
}