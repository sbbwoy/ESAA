{
  "nbformat": 4,
  "nbformat_minor": 0,
  "metadata": {
    "colab": {
      "name": "미니 프로젝트1.ipynb",
      "private_outputs": true,
      "provenance": [],
      "mount_file_id": "1nY_aZ7G7tkd4SaokT35z8jGgWbh3gAi2",
      "authorship_tag": "ABX9TyMlxVrnQWkWzig0WLi5xaPL",
      "include_colab_link": true
    },
    "kernelspec": {
      "name": "python3",
      "display_name": "Python 3"
    },
    "language_info": {
      "name": "python"
    }
  },
  "cells": [
    {
      "cell_type": "markdown",
      "metadata": {
        "id": "view-in-github",
        "colab_type": "text"
      },
      "source": [
        "<a href=\"https://colab.research.google.com/github/sbbwoy/ESAA/blob/main/%EB%AF%B8%EB%8B%88_%ED%94%84%EB%A1%9C%EC%A0%9D%ED%8A%B81.ipynb\" target=\"_parent\"><img src=\"https://colab.research.google.com/assets/colab-badge.svg\" alt=\"Open In Colab\"/></a>"
      ]
    },
    {
      "cell_type": "code",
      "metadata": {
        "id": "ax9YPuqd5Hak"
      },
      "source": [
        "#그래프 한글 출력을 위한 코드\n",
        "!sudo apt-get install -y fonts-nanum\n",
        "!sudo fc-cache -fv\n",
        "!rm ~/.cache/matplotlib -rf\n",
        "!pip install git+https://github.com/python-visualization/branca.git@master\n",
        "# 경고처리\n",
        "import warnings\n",
        "warnings.filterwarnings(action='ignore')\n",
        "warnings.filterwarnings(\"ignore\", category=DeprecationWarning) "
      ],
      "execution_count": null,
      "outputs": []
    },
    {
      "cell_type": "code",
      "metadata": {
        "id": "mNUAU2aZES__"
      },
      "source": [
        "import pandas as pd\n",
        "import matplotlib.pyplot as plt\n",
        "from matplotlib import font_manager\n",
        "from google.colab import drive\n",
        "drive.mount('/content/drive')"
      ],
      "execution_count": null,
      "outputs": []
    },
    {
      "cell_type": "code",
      "metadata": {
        "id": "vTXQSp4YFCx-"
      },
      "source": [
        "movies = pd.read_csv('/content/drive/MyDrive/21-2/ESAA/movies_train.csv')\n",
        "movies.head()"
      ],
      "execution_count": null,
      "outputs": []
    },
    {
      "cell_type": "code",
      "metadata": {
        "id": "w9pj7EkIngzr"
      },
      "source": [
        "#배급사별 관객수의 평균이 높은 순\n",
        "dis_mean = movies.groupby('distributor').mean().sort_values(by='box_off_num', ascending=False) \n",
        "dis_mean.reset_index(inplace=True)\n",
        "dis_mean = dis_mean.head(10)\n",
        "dis_mean"
      ],
      "execution_count": null,
      "outputs": []
    },
    {
      "cell_type": "code",
      "metadata": {
        "id": "8x7IIfsWz7mH"
      },
      "source": [
        "plt.figure(figsize=(15, 10))\n",
        "plt.rc('font', family='NanumBarunGothic', size=10)\n",
        "plt.bar(dis_mean['distributor'], dis_mean['box_off_num'], color=['C'+str(i) for i in range(10)])\n",
        "plt.xticks(dis_mean['distributor'])\n",
        "plt.show()"
      ],
      "execution_count": null,
      "outputs": []
    },
    {
      "cell_type": "code",
      "metadata": {
        "id": "zelJaScZxslX"
      },
      "source": [
        "#감독별 관객수의 평균이 높은 순\n",
        "director_mean = movies.groupby('director').mean().sort_values(by='box_off_num', ascending=False) \n",
        "director_mean.head()"
      ],
      "execution_count": null,
      "outputs": []
    },
    {
      "cell_type": "code",
      "metadata": {
        "id": "G2YSYxIPxyam"
      },
      "source": [
        "bestTen = movies.sort_values(by='box_off_num', ascending=False)[:10]    #최고 흥행작 10편\n",
        "bestTen.reset_index(inplace=True)\n",
        "bestTen.drop(['index', 'dir_prev_bfnum', 'dir_prev_num', 'num_staff'], axis=1, inplace=True)\n",
        "bestTen"
      ],
      "execution_count": null,
      "outputs": []
    },
    {
      "cell_type": "code",
      "metadata": {
        "id": "yrEK0LJUsarU"
      },
      "source": [
        "bestGenre = movies.groupby('genre').mean().sort_values(by='box_off_num', ascending=False)   #관객수로 알아보는 선호 장르\n",
        "bestGenre.head()"
      ],
      "execution_count": null,
      "outputs": []
    },
    {
      "cell_type": "code",
      "metadata": {
        "id": "nbNy4i01q21u"
      },
      "source": [
        "# 러닝타임과 관객수의 관계 산점도 + 전작 수(dir_prev_num) \n",
        "\n",
        "plt.figure(figsize=(10, 10))\n",
        "plt.scatter(movies['time'], movies['box_off_num'], c=movies['dir_prev_num'], cmap='rainbow', alpha=0.5, s=50)\n",
        "plt.rc('font', size=15)\n",
        "plt.xlabel('RUNNING TIME(min)')\n",
        "plt.ylabel('BOXOFFICE NUMBER(10M)')\n",
        "plt.colorbar()\n",
        "plt.title('Relationship with running time and hit')\n",
        "plt.show()"
      ],
      "execution_count": null,
      "outputs": []
    }
  ]
}