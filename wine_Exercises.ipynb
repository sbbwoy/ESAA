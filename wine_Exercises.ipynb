{
  "nbformat": 4,
  "nbformat_minor": 0,
  "metadata": {
    "kernelspec": {
      "display_name": "Python [default]",
      "language": "python",
      "name": "python2"
    },
    "language_info": {
      "codemirror_mode": {
        "name": "ipython",
        "version": 2
      },
      "file_extension": ".py",
      "mimetype": "text/x-python",
      "name": "python",
      "nbconvert_exporter": "python",
      "pygments_lexer": "ipython2",
      "version": "2.7.12"
    },
    "colab": {
      "name": "wine_Exercises.ipynb",
      "provenance": [],
      "include_colab_link": true
    }
  },
  "cells": [
    {
      "cell_type": "markdown",
      "metadata": {
        "id": "view-in-github",
        "colab_type": "text"
      },
      "source": [
        "<a href=\"https://colab.research.google.com/github/sbbwoy/ESAA/blob/main/wine_Exercises.ipynb\" target=\"_parent\"><img src=\"https://colab.research.google.com/assets/colab-badge.svg\" alt=\"Open In Colab\"/></a>"
      ]
    },
    {
      "cell_type": "markdown",
      "metadata": {
        "id": "ZYpL-XazdEkC"
      },
      "source": [
        "# Wine"
      ]
    },
    {
      "cell_type": "markdown",
      "metadata": {
        "id": "3gfsDdTodEkO"
      },
      "source": [
        "### Introduction:\n",
        "\n",
        "This exercise is a adaptation from the UCI Wine dataset.\n",
        "The only pupose is to practice deleting data with pandas.\n",
        "\n",
        "### Step 1. Import the necessary libraries"
      ]
    },
    {
      "cell_type": "code",
      "metadata": {
        "id": "MLIH0xJ7dEkR"
      },
      "source": [
        "import pandas as pd\n",
        "import numpy as np"
      ],
      "execution_count": 146,
      "outputs": []
    },
    {
      "cell_type": "markdown",
      "metadata": {
        "id": "1DVzpycVdEkT"
      },
      "source": [
        "### Step 2. Import the dataset from this [address](https://archive.ics.uci.edu/ml/machine-learning-databases/wine/wine.data). "
      ]
    },
    {
      "cell_type": "markdown",
      "metadata": {
        "id": "LtrzNMiQdEkV"
      },
      "source": [
        "### Step 3. Assign it to a variable called wine"
      ]
    },
    {
      "cell_type": "code",
      "metadata": {
        "id": "9BmqSok0dEkX",
        "colab": {
          "base_uri": "https://localhost:8080/",
          "height": 203
        },
        "outputId": "3d4e71bc-81e7-4cae-92c3-71697528eb00"
      },
      "source": [
        "wine = pd.read_csv(\"https://archive.ics.uci.edu/ml/machine-learning-databases/wine/wine.data\")\n",
        "wine.head()"
      ],
      "execution_count": 147,
      "outputs": [
        {
          "output_type": "execute_result",
          "data": {
            "text/plain": [
              "   1  14.23  1.71  2.43  15.6  127   2.8  3.06   .28  2.29  5.64  1.04  3.92  \\\n",
              "0  1  13.20  1.78  2.14  11.2  100  2.65  2.76  0.26  1.28  4.38  1.05  3.40   \n",
              "1  1  13.16  2.36  2.67  18.6  101  2.80  3.24  0.30  2.81  5.68  1.03  3.17   \n",
              "2  1  14.37  1.95  2.50  16.8  113  3.85  3.49  0.24  2.18  7.80  0.86  3.45   \n",
              "3  1  13.24  2.59  2.87  21.0  118  2.80  2.69  0.39  1.82  4.32  1.04  2.93   \n",
              "4  1  14.20  1.76  2.45  15.2  112  3.27  3.39  0.34  1.97  6.75  1.05  2.85   \n",
              "\n",
              "   1065  \n",
              "0  1050  \n",
              "1  1185  \n",
              "2  1480  \n",
              "3   735  \n",
              "4  1450  "
            ],
            "text/html": [
              "<div>\n",
              "<style scoped>\n",
              "    .dataframe tbody tr th:only-of-type {\n",
              "        vertical-align: middle;\n",
              "    }\n",
              "\n",
              "    .dataframe tbody tr th {\n",
              "        vertical-align: top;\n",
              "    }\n",
              "\n",
              "    .dataframe thead th {\n",
              "        text-align: right;\n",
              "    }\n",
              "</style>\n",
              "<table border=\"1\" class=\"dataframe\">\n",
              "  <thead>\n",
              "    <tr style=\"text-align: right;\">\n",
              "      <th></th>\n",
              "      <th>1</th>\n",
              "      <th>14.23</th>\n",
              "      <th>1.71</th>\n",
              "      <th>2.43</th>\n",
              "      <th>15.6</th>\n",
              "      <th>127</th>\n",
              "      <th>2.8</th>\n",
              "      <th>3.06</th>\n",
              "      <th>.28</th>\n",
              "      <th>2.29</th>\n",
              "      <th>5.64</th>\n",
              "      <th>1.04</th>\n",
              "      <th>3.92</th>\n",
              "      <th>1065</th>\n",
              "    </tr>\n",
              "  </thead>\n",
              "  <tbody>\n",
              "    <tr>\n",
              "      <th>0</th>\n",
              "      <td>1</td>\n",
              "      <td>13.20</td>\n",
              "      <td>1.78</td>\n",
              "      <td>2.14</td>\n",
              "      <td>11.2</td>\n",
              "      <td>100</td>\n",
              "      <td>2.65</td>\n",
              "      <td>2.76</td>\n",
              "      <td>0.26</td>\n",
              "      <td>1.28</td>\n",
              "      <td>4.38</td>\n",
              "      <td>1.05</td>\n",
              "      <td>3.40</td>\n",
              "      <td>1050</td>\n",
              "    </tr>\n",
              "    <tr>\n",
              "      <th>1</th>\n",
              "      <td>1</td>\n",
              "      <td>13.16</td>\n",
              "      <td>2.36</td>\n",
              "      <td>2.67</td>\n",
              "      <td>18.6</td>\n",
              "      <td>101</td>\n",
              "      <td>2.80</td>\n",
              "      <td>3.24</td>\n",
              "      <td>0.30</td>\n",
              "      <td>2.81</td>\n",
              "      <td>5.68</td>\n",
              "      <td>1.03</td>\n",
              "      <td>3.17</td>\n",
              "      <td>1185</td>\n",
              "    </tr>\n",
              "    <tr>\n",
              "      <th>2</th>\n",
              "      <td>1</td>\n",
              "      <td>14.37</td>\n",
              "      <td>1.95</td>\n",
              "      <td>2.50</td>\n",
              "      <td>16.8</td>\n",
              "      <td>113</td>\n",
              "      <td>3.85</td>\n",
              "      <td>3.49</td>\n",
              "      <td>0.24</td>\n",
              "      <td>2.18</td>\n",
              "      <td>7.80</td>\n",
              "      <td>0.86</td>\n",
              "      <td>3.45</td>\n",
              "      <td>1480</td>\n",
              "    </tr>\n",
              "    <tr>\n",
              "      <th>3</th>\n",
              "      <td>1</td>\n",
              "      <td>13.24</td>\n",
              "      <td>2.59</td>\n",
              "      <td>2.87</td>\n",
              "      <td>21.0</td>\n",
              "      <td>118</td>\n",
              "      <td>2.80</td>\n",
              "      <td>2.69</td>\n",
              "      <td>0.39</td>\n",
              "      <td>1.82</td>\n",
              "      <td>4.32</td>\n",
              "      <td>1.04</td>\n",
              "      <td>2.93</td>\n",
              "      <td>735</td>\n",
              "    </tr>\n",
              "    <tr>\n",
              "      <th>4</th>\n",
              "      <td>1</td>\n",
              "      <td>14.20</td>\n",
              "      <td>1.76</td>\n",
              "      <td>2.45</td>\n",
              "      <td>15.2</td>\n",
              "      <td>112</td>\n",
              "      <td>3.27</td>\n",
              "      <td>3.39</td>\n",
              "      <td>0.34</td>\n",
              "      <td>1.97</td>\n",
              "      <td>6.75</td>\n",
              "      <td>1.05</td>\n",
              "      <td>2.85</td>\n",
              "      <td>1450</td>\n",
              "    </tr>\n",
              "  </tbody>\n",
              "</table>\n",
              "</div>"
            ]
          },
          "metadata": {},
          "execution_count": 147
        }
      ]
    },
    {
      "cell_type": "markdown",
      "metadata": {
        "id": "sCkG2VrfdEkZ"
      },
      "source": [
        "### Step 4. Delete the first, fourth, seventh, nineth, eleventh, thirteenth and fourteenth columns"
      ]
    },
    {
      "cell_type": "code",
      "metadata": {
        "id": "3TyDYP9bdEkc",
        "colab": {
          "base_uri": "https://localhost:8080/",
          "height": 203
        },
        "outputId": "70f8fce7-ed3e-4cfc-eea1-03b95d7c7e8e"
      },
      "source": [
        "wine.drop(wine.columns[[0, 3, 6, 8, 10, 12, 13]], axis=1, inplace=True)\n",
        "wine.head()"
      ],
      "execution_count": 148,
      "outputs": [
        {
          "output_type": "execute_result",
          "data": {
            "text/plain": [
              "   14.23  1.71  15.6  127  3.06  2.29  1.04\n",
              "0  13.20  1.78  11.2  100  2.76  1.28  1.05\n",
              "1  13.16  2.36  18.6  101  3.24  2.81  1.03\n",
              "2  14.37  1.95  16.8  113  3.49  2.18  0.86\n",
              "3  13.24  2.59  21.0  118  2.69  1.82  1.04\n",
              "4  14.20  1.76  15.2  112  3.39  1.97  1.05"
            ],
            "text/html": [
              "<div>\n",
              "<style scoped>\n",
              "    .dataframe tbody tr th:only-of-type {\n",
              "        vertical-align: middle;\n",
              "    }\n",
              "\n",
              "    .dataframe tbody tr th {\n",
              "        vertical-align: top;\n",
              "    }\n",
              "\n",
              "    .dataframe thead th {\n",
              "        text-align: right;\n",
              "    }\n",
              "</style>\n",
              "<table border=\"1\" class=\"dataframe\">\n",
              "  <thead>\n",
              "    <tr style=\"text-align: right;\">\n",
              "      <th></th>\n",
              "      <th>14.23</th>\n",
              "      <th>1.71</th>\n",
              "      <th>15.6</th>\n",
              "      <th>127</th>\n",
              "      <th>3.06</th>\n",
              "      <th>2.29</th>\n",
              "      <th>1.04</th>\n",
              "    </tr>\n",
              "  </thead>\n",
              "  <tbody>\n",
              "    <tr>\n",
              "      <th>0</th>\n",
              "      <td>13.20</td>\n",
              "      <td>1.78</td>\n",
              "      <td>11.2</td>\n",
              "      <td>100</td>\n",
              "      <td>2.76</td>\n",
              "      <td>1.28</td>\n",
              "      <td>1.05</td>\n",
              "    </tr>\n",
              "    <tr>\n",
              "      <th>1</th>\n",
              "      <td>13.16</td>\n",
              "      <td>2.36</td>\n",
              "      <td>18.6</td>\n",
              "      <td>101</td>\n",
              "      <td>3.24</td>\n",
              "      <td>2.81</td>\n",
              "      <td>1.03</td>\n",
              "    </tr>\n",
              "    <tr>\n",
              "      <th>2</th>\n",
              "      <td>14.37</td>\n",
              "      <td>1.95</td>\n",
              "      <td>16.8</td>\n",
              "      <td>113</td>\n",
              "      <td>3.49</td>\n",
              "      <td>2.18</td>\n",
              "      <td>0.86</td>\n",
              "    </tr>\n",
              "    <tr>\n",
              "      <th>3</th>\n",
              "      <td>13.24</td>\n",
              "      <td>2.59</td>\n",
              "      <td>21.0</td>\n",
              "      <td>118</td>\n",
              "      <td>2.69</td>\n",
              "      <td>1.82</td>\n",
              "      <td>1.04</td>\n",
              "    </tr>\n",
              "    <tr>\n",
              "      <th>4</th>\n",
              "      <td>14.20</td>\n",
              "      <td>1.76</td>\n",
              "      <td>15.2</td>\n",
              "      <td>112</td>\n",
              "      <td>3.39</td>\n",
              "      <td>1.97</td>\n",
              "      <td>1.05</td>\n",
              "    </tr>\n",
              "  </tbody>\n",
              "</table>\n",
              "</div>"
            ]
          },
          "metadata": {},
          "execution_count": 148
        }
      ]
    },
    {
      "cell_type": "markdown",
      "metadata": {
        "id": "TruWqnWgdEke"
      },
      "source": [
        "### Step 5. Assign the columns as below:\n",
        "\n",
        "The attributes are (donated by Riccardo Leardi, riclea '@' anchem.unige.it):  \n",
        "1) alcohol  \n",
        "2) malic_acid  \n",
        "3) alcalinity_of_ash  \n",
        "4) magnesium  \n",
        "5) flavanoids  \n",
        "6) proanthocyanins  \n",
        "7) hue "
      ]
    },
    {
      "cell_type": "code",
      "metadata": {
        "id": "YFzyRfw_dEkh"
      },
      "source": [
        "col_list = ['alcohol', 'malic_acid', 'alcalinity_of_ash', 'magnesium', 'flavanoids', 'proanthocyanins', 'hue']\n",
        "temp = list(wine.columns)\n",
        "wine.columns = col_list\n"
      ],
      "execution_count": 149,
      "outputs": []
    },
    {
      "cell_type": "code",
      "metadata": {
        "colab": {
          "base_uri": "https://localhost:8080/",
          "height": 203
        },
        "id": "73nhj9Qy5FPC",
        "outputId": "d581bf92-7801-4b9d-8c4d-9a69a662a06c"
      },
      "source": [
        "wine.head()"
      ],
      "execution_count": 150,
      "outputs": [
        {
          "output_type": "execute_result",
          "data": {
            "text/plain": [
              "   alcohol  malic_acid  alcalinity_of_ash  magnesium  flavanoids  \\\n",
              "0    13.20        1.78               11.2        100        2.76   \n",
              "1    13.16        2.36               18.6        101        3.24   \n",
              "2    14.37        1.95               16.8        113        3.49   \n",
              "3    13.24        2.59               21.0        118        2.69   \n",
              "4    14.20        1.76               15.2        112        3.39   \n",
              "\n",
              "   proanthocyanins   hue  \n",
              "0             1.28  1.05  \n",
              "1             2.81  1.03  \n",
              "2             2.18  0.86  \n",
              "3             1.82  1.04  \n",
              "4             1.97  1.05  "
            ],
            "text/html": [
              "<div>\n",
              "<style scoped>\n",
              "    .dataframe tbody tr th:only-of-type {\n",
              "        vertical-align: middle;\n",
              "    }\n",
              "\n",
              "    .dataframe tbody tr th {\n",
              "        vertical-align: top;\n",
              "    }\n",
              "\n",
              "    .dataframe thead th {\n",
              "        text-align: right;\n",
              "    }\n",
              "</style>\n",
              "<table border=\"1\" class=\"dataframe\">\n",
              "  <thead>\n",
              "    <tr style=\"text-align: right;\">\n",
              "      <th></th>\n",
              "      <th>alcohol</th>\n",
              "      <th>malic_acid</th>\n",
              "      <th>alcalinity_of_ash</th>\n",
              "      <th>magnesium</th>\n",
              "      <th>flavanoids</th>\n",
              "      <th>proanthocyanins</th>\n",
              "      <th>hue</th>\n",
              "    </tr>\n",
              "  </thead>\n",
              "  <tbody>\n",
              "    <tr>\n",
              "      <th>0</th>\n",
              "      <td>13.20</td>\n",
              "      <td>1.78</td>\n",
              "      <td>11.2</td>\n",
              "      <td>100</td>\n",
              "      <td>2.76</td>\n",
              "      <td>1.28</td>\n",
              "      <td>1.05</td>\n",
              "    </tr>\n",
              "    <tr>\n",
              "      <th>1</th>\n",
              "      <td>13.16</td>\n",
              "      <td>2.36</td>\n",
              "      <td>18.6</td>\n",
              "      <td>101</td>\n",
              "      <td>3.24</td>\n",
              "      <td>2.81</td>\n",
              "      <td>1.03</td>\n",
              "    </tr>\n",
              "    <tr>\n",
              "      <th>2</th>\n",
              "      <td>14.37</td>\n",
              "      <td>1.95</td>\n",
              "      <td>16.8</td>\n",
              "      <td>113</td>\n",
              "      <td>3.49</td>\n",
              "      <td>2.18</td>\n",
              "      <td>0.86</td>\n",
              "    </tr>\n",
              "    <tr>\n",
              "      <th>3</th>\n",
              "      <td>13.24</td>\n",
              "      <td>2.59</td>\n",
              "      <td>21.0</td>\n",
              "      <td>118</td>\n",
              "      <td>2.69</td>\n",
              "      <td>1.82</td>\n",
              "      <td>1.04</td>\n",
              "    </tr>\n",
              "    <tr>\n",
              "      <th>4</th>\n",
              "      <td>14.20</td>\n",
              "      <td>1.76</td>\n",
              "      <td>15.2</td>\n",
              "      <td>112</td>\n",
              "      <td>3.39</td>\n",
              "      <td>1.97</td>\n",
              "      <td>1.05</td>\n",
              "    </tr>\n",
              "  </tbody>\n",
              "</table>\n",
              "</div>"
            ]
          },
          "metadata": {},
          "execution_count": 150
        }
      ]
    },
    {
      "cell_type": "markdown",
      "metadata": {
        "id": "69zL665hdEki"
      },
      "source": [
        "### Step 6. Set the values of the first 3 rows from alcohol as NaN"
      ]
    },
    {
      "cell_type": "code",
      "metadata": {
        "id": "FPnMmZ1CdEkk",
        "colab": {
          "base_uri": "https://localhost:8080/",
          "height": 203
        },
        "outputId": "a85c869d-98a0-4fea-f3cd-3d6d90dde4e8"
      },
      "source": [
        "wine.loc[0:2, 'alcohol'] = np.NaN\n",
        "wine.head()"
      ],
      "execution_count": 151,
      "outputs": [
        {
          "output_type": "execute_result",
          "data": {
            "text/plain": [
              "   alcohol  malic_acid  alcalinity_of_ash  magnesium  flavanoids  \\\n",
              "0      NaN        1.78               11.2        100        2.76   \n",
              "1      NaN        2.36               18.6        101        3.24   \n",
              "2      NaN        1.95               16.8        113        3.49   \n",
              "3    13.24        2.59               21.0        118        2.69   \n",
              "4    14.20        1.76               15.2        112        3.39   \n",
              "\n",
              "   proanthocyanins   hue  \n",
              "0             1.28  1.05  \n",
              "1             2.81  1.03  \n",
              "2             2.18  0.86  \n",
              "3             1.82  1.04  \n",
              "4             1.97  1.05  "
            ],
            "text/html": [
              "<div>\n",
              "<style scoped>\n",
              "    .dataframe tbody tr th:only-of-type {\n",
              "        vertical-align: middle;\n",
              "    }\n",
              "\n",
              "    .dataframe tbody tr th {\n",
              "        vertical-align: top;\n",
              "    }\n",
              "\n",
              "    .dataframe thead th {\n",
              "        text-align: right;\n",
              "    }\n",
              "</style>\n",
              "<table border=\"1\" class=\"dataframe\">\n",
              "  <thead>\n",
              "    <tr style=\"text-align: right;\">\n",
              "      <th></th>\n",
              "      <th>alcohol</th>\n",
              "      <th>malic_acid</th>\n",
              "      <th>alcalinity_of_ash</th>\n",
              "      <th>magnesium</th>\n",
              "      <th>flavanoids</th>\n",
              "      <th>proanthocyanins</th>\n",
              "      <th>hue</th>\n",
              "    </tr>\n",
              "  </thead>\n",
              "  <tbody>\n",
              "    <tr>\n",
              "      <th>0</th>\n",
              "      <td>NaN</td>\n",
              "      <td>1.78</td>\n",
              "      <td>11.2</td>\n",
              "      <td>100</td>\n",
              "      <td>2.76</td>\n",
              "      <td>1.28</td>\n",
              "      <td>1.05</td>\n",
              "    </tr>\n",
              "    <tr>\n",
              "      <th>1</th>\n",
              "      <td>NaN</td>\n",
              "      <td>2.36</td>\n",
              "      <td>18.6</td>\n",
              "      <td>101</td>\n",
              "      <td>3.24</td>\n",
              "      <td>2.81</td>\n",
              "      <td>1.03</td>\n",
              "    </tr>\n",
              "    <tr>\n",
              "      <th>2</th>\n",
              "      <td>NaN</td>\n",
              "      <td>1.95</td>\n",
              "      <td>16.8</td>\n",
              "      <td>113</td>\n",
              "      <td>3.49</td>\n",
              "      <td>2.18</td>\n",
              "      <td>0.86</td>\n",
              "    </tr>\n",
              "    <tr>\n",
              "      <th>3</th>\n",
              "      <td>13.24</td>\n",
              "      <td>2.59</td>\n",
              "      <td>21.0</td>\n",
              "      <td>118</td>\n",
              "      <td>2.69</td>\n",
              "      <td>1.82</td>\n",
              "      <td>1.04</td>\n",
              "    </tr>\n",
              "    <tr>\n",
              "      <th>4</th>\n",
              "      <td>14.20</td>\n",
              "      <td>1.76</td>\n",
              "      <td>15.2</td>\n",
              "      <td>112</td>\n",
              "      <td>3.39</td>\n",
              "      <td>1.97</td>\n",
              "      <td>1.05</td>\n",
              "    </tr>\n",
              "  </tbody>\n",
              "</table>\n",
              "</div>"
            ]
          },
          "metadata": {},
          "execution_count": 151
        }
      ]
    },
    {
      "cell_type": "markdown",
      "metadata": {
        "id": "gXp0KLBvdEkn"
      },
      "source": [
        "### Step 7. Now set the value of the rows 3 and 4 of magnesium as NaN"
      ]
    },
    {
      "cell_type": "code",
      "metadata": {
        "id": "zI1fdYcfdEko",
        "colab": {
          "base_uri": "https://localhost:8080/",
          "height": 203
        },
        "outputId": "be28af17-5127-48a8-e623-121a609cdfdb"
      },
      "source": [
        "wine.loc[2:3, 'magnesium'] = np.NaN\n",
        "wine.head()"
      ],
      "execution_count": 152,
      "outputs": [
        {
          "output_type": "execute_result",
          "data": {
            "text/plain": [
              "   alcohol  malic_acid  alcalinity_of_ash  magnesium  flavanoids  \\\n",
              "0      NaN        1.78               11.2      100.0        2.76   \n",
              "1      NaN        2.36               18.6      101.0        3.24   \n",
              "2      NaN        1.95               16.8        NaN        3.49   \n",
              "3    13.24        2.59               21.0        NaN        2.69   \n",
              "4    14.20        1.76               15.2      112.0        3.39   \n",
              "\n",
              "   proanthocyanins   hue  \n",
              "0             1.28  1.05  \n",
              "1             2.81  1.03  \n",
              "2             2.18  0.86  \n",
              "3             1.82  1.04  \n",
              "4             1.97  1.05  "
            ],
            "text/html": [
              "<div>\n",
              "<style scoped>\n",
              "    .dataframe tbody tr th:only-of-type {\n",
              "        vertical-align: middle;\n",
              "    }\n",
              "\n",
              "    .dataframe tbody tr th {\n",
              "        vertical-align: top;\n",
              "    }\n",
              "\n",
              "    .dataframe thead th {\n",
              "        text-align: right;\n",
              "    }\n",
              "</style>\n",
              "<table border=\"1\" class=\"dataframe\">\n",
              "  <thead>\n",
              "    <tr style=\"text-align: right;\">\n",
              "      <th></th>\n",
              "      <th>alcohol</th>\n",
              "      <th>malic_acid</th>\n",
              "      <th>alcalinity_of_ash</th>\n",
              "      <th>magnesium</th>\n",
              "      <th>flavanoids</th>\n",
              "      <th>proanthocyanins</th>\n",
              "      <th>hue</th>\n",
              "    </tr>\n",
              "  </thead>\n",
              "  <tbody>\n",
              "    <tr>\n",
              "      <th>0</th>\n",
              "      <td>NaN</td>\n",
              "      <td>1.78</td>\n",
              "      <td>11.2</td>\n",
              "      <td>100.0</td>\n",
              "      <td>2.76</td>\n",
              "      <td>1.28</td>\n",
              "      <td>1.05</td>\n",
              "    </tr>\n",
              "    <tr>\n",
              "      <th>1</th>\n",
              "      <td>NaN</td>\n",
              "      <td>2.36</td>\n",
              "      <td>18.6</td>\n",
              "      <td>101.0</td>\n",
              "      <td>3.24</td>\n",
              "      <td>2.81</td>\n",
              "      <td>1.03</td>\n",
              "    </tr>\n",
              "    <tr>\n",
              "      <th>2</th>\n",
              "      <td>NaN</td>\n",
              "      <td>1.95</td>\n",
              "      <td>16.8</td>\n",
              "      <td>NaN</td>\n",
              "      <td>3.49</td>\n",
              "      <td>2.18</td>\n",
              "      <td>0.86</td>\n",
              "    </tr>\n",
              "    <tr>\n",
              "      <th>3</th>\n",
              "      <td>13.24</td>\n",
              "      <td>2.59</td>\n",
              "      <td>21.0</td>\n",
              "      <td>NaN</td>\n",
              "      <td>2.69</td>\n",
              "      <td>1.82</td>\n",
              "      <td>1.04</td>\n",
              "    </tr>\n",
              "    <tr>\n",
              "      <th>4</th>\n",
              "      <td>14.20</td>\n",
              "      <td>1.76</td>\n",
              "      <td>15.2</td>\n",
              "      <td>112.0</td>\n",
              "      <td>3.39</td>\n",
              "      <td>1.97</td>\n",
              "      <td>1.05</td>\n",
              "    </tr>\n",
              "  </tbody>\n",
              "</table>\n",
              "</div>"
            ]
          },
          "metadata": {},
          "execution_count": 152
        }
      ]
    },
    {
      "cell_type": "markdown",
      "metadata": {
        "id": "4UJNycn0dEks"
      },
      "source": [
        "### Step 8. Fill the value of NaN with the number 10 in alcohol and 100 in magnesium"
      ]
    },
    {
      "cell_type": "code",
      "metadata": {
        "id": "my3mYC0XdEku",
        "colab": {
          "base_uri": "https://localhost:8080/",
          "height": 110
        },
        "outputId": "a52113ff-4b75-45be-8dee-c248ced7edf8"
      },
      "source": [
        "wine.loc[10, 'alcohol'] = np.NaN\n",
        "wine.loc[100, 'magnesium'] = np.NaN\n",
        "wine.loc[(10, 100), :]"
      ],
      "execution_count": 153,
      "outputs": [
        {
          "output_type": "execute_result",
          "data": {
            "text/plain": [
              "     alcohol  malic_acid  alcalinity_of_ash  magnesium  flavanoids  \\\n",
              "10       NaN        1.48               16.8       95.0        2.43   \n",
              "100     12.6        1.34               18.5        NaN        1.36   \n",
              "\n",
              "     proanthocyanins   hue  \n",
              "10              1.57  1.17  \n",
              "100             1.35  1.04  "
            ],
            "text/html": [
              "<div>\n",
              "<style scoped>\n",
              "    .dataframe tbody tr th:only-of-type {\n",
              "        vertical-align: middle;\n",
              "    }\n",
              "\n",
              "    .dataframe tbody tr th {\n",
              "        vertical-align: top;\n",
              "    }\n",
              "\n",
              "    .dataframe thead th {\n",
              "        text-align: right;\n",
              "    }\n",
              "</style>\n",
              "<table border=\"1\" class=\"dataframe\">\n",
              "  <thead>\n",
              "    <tr style=\"text-align: right;\">\n",
              "      <th></th>\n",
              "      <th>alcohol</th>\n",
              "      <th>malic_acid</th>\n",
              "      <th>alcalinity_of_ash</th>\n",
              "      <th>magnesium</th>\n",
              "      <th>flavanoids</th>\n",
              "      <th>proanthocyanins</th>\n",
              "      <th>hue</th>\n",
              "    </tr>\n",
              "  </thead>\n",
              "  <tbody>\n",
              "    <tr>\n",
              "      <th>10</th>\n",
              "      <td>NaN</td>\n",
              "      <td>1.48</td>\n",
              "      <td>16.8</td>\n",
              "      <td>95.0</td>\n",
              "      <td>2.43</td>\n",
              "      <td>1.57</td>\n",
              "      <td>1.17</td>\n",
              "    </tr>\n",
              "    <tr>\n",
              "      <th>100</th>\n",
              "      <td>12.6</td>\n",
              "      <td>1.34</td>\n",
              "      <td>18.5</td>\n",
              "      <td>NaN</td>\n",
              "      <td>1.36</td>\n",
              "      <td>1.35</td>\n",
              "      <td>1.04</td>\n",
              "    </tr>\n",
              "  </tbody>\n",
              "</table>\n",
              "</div>"
            ]
          },
          "metadata": {},
          "execution_count": 153
        }
      ]
    },
    {
      "cell_type": "markdown",
      "metadata": {
        "id": "uOBxjLIKdEkv"
      },
      "source": [
        "### Step 9. Count the number of missing values"
      ]
    },
    {
      "cell_type": "code",
      "metadata": {
        "id": "WnpNMLdudEkw",
        "colab": {
          "base_uri": "https://localhost:8080/"
        },
        "outputId": "3e62f0ed-ba5c-4eba-b2ce-0de2ca3e6800"
      },
      "source": [
        "wine.isnull().sum()"
      ],
      "execution_count": 154,
      "outputs": [
        {
          "output_type": "execute_result",
          "data": {
            "text/plain": [
              "alcohol              4\n",
              "malic_acid           0\n",
              "alcalinity_of_ash    0\n",
              "magnesium            3\n",
              "flavanoids           0\n",
              "proanthocyanins      0\n",
              "hue                  0\n",
              "dtype: int64"
            ]
          },
          "metadata": {},
          "execution_count": 154
        }
      ]
    },
    {
      "cell_type": "markdown",
      "metadata": {
        "id": "WFm5YgdTdEkx"
      },
      "source": [
        "### Step 10.  Create an array of 10 random numbers up until 10"
      ]
    },
    {
      "cell_type": "code",
      "metadata": {
        "id": "_UjUkWzndEky"
      },
      "source": [
        "A = np.random.randint(10, size=10)"
      ],
      "execution_count": 156,
      "outputs": []
    },
    {
      "cell_type": "markdown",
      "metadata": {
        "id": "6xAl3ecudEky"
      },
      "source": [
        "### Step 11.  Use random numbers you generated as an index and assign NaN value to each of cell."
      ]
    },
    {
      "cell_type": "code",
      "metadata": {
        "id": "BQJyDV-ZdEkz",
        "colab": {
          "base_uri": "https://localhost:8080/",
          "height": 357
        },
        "outputId": "70acbcff-4515-498c-e897-20d7df8ab606"
      },
      "source": [
        "wine['alcohol'].iloc[A] = np.nan\n",
        "wine.head(10)"
      ],
      "execution_count": 158,
      "outputs": [
        {
          "output_type": "execute_result",
          "data": {
            "text/plain": [
              "   alcohol  malic_acid  alcalinity_of_ash  magnesium  flavanoids  \\\n",
              "0      NaN        1.78               11.2      100.0        2.76   \n",
              "1      NaN        2.36               18.6      101.0        3.24   \n",
              "2      NaN        1.95               16.8        NaN        3.49   \n",
              "3    13.24        2.59               21.0        NaN        2.69   \n",
              "4      NaN        1.76               15.2      112.0        3.39   \n",
              "5      NaN        1.87               14.6       96.0        2.52   \n",
              "6      NaN        2.15               17.6      121.0        2.51   \n",
              "7    14.83        1.64               14.0       97.0        2.98   \n",
              "8      NaN        1.35               16.0       98.0        3.15   \n",
              "9      NaN        2.16               18.0      105.0        3.32   \n",
              "\n",
              "   proanthocyanins   hue  \n",
              "0             1.28  1.05  \n",
              "1             2.81  1.03  \n",
              "2             2.18  0.86  \n",
              "3             1.82  1.04  \n",
              "4             1.97  1.05  \n",
              "5             1.98  1.02  \n",
              "6             1.25  1.06  \n",
              "7             1.98  1.08  \n",
              "8             1.85  1.01  \n",
              "9             2.38  1.25  "
            ],
            "text/html": [
              "<div>\n",
              "<style scoped>\n",
              "    .dataframe tbody tr th:only-of-type {\n",
              "        vertical-align: middle;\n",
              "    }\n",
              "\n",
              "    .dataframe tbody tr th {\n",
              "        vertical-align: top;\n",
              "    }\n",
              "\n",
              "    .dataframe thead th {\n",
              "        text-align: right;\n",
              "    }\n",
              "</style>\n",
              "<table border=\"1\" class=\"dataframe\">\n",
              "  <thead>\n",
              "    <tr style=\"text-align: right;\">\n",
              "      <th></th>\n",
              "      <th>alcohol</th>\n",
              "      <th>malic_acid</th>\n",
              "      <th>alcalinity_of_ash</th>\n",
              "      <th>magnesium</th>\n",
              "      <th>flavanoids</th>\n",
              "      <th>proanthocyanins</th>\n",
              "      <th>hue</th>\n",
              "    </tr>\n",
              "  </thead>\n",
              "  <tbody>\n",
              "    <tr>\n",
              "      <th>0</th>\n",
              "      <td>NaN</td>\n",
              "      <td>1.78</td>\n",
              "      <td>11.2</td>\n",
              "      <td>100.0</td>\n",
              "      <td>2.76</td>\n",
              "      <td>1.28</td>\n",
              "      <td>1.05</td>\n",
              "    </tr>\n",
              "    <tr>\n",
              "      <th>1</th>\n",
              "      <td>NaN</td>\n",
              "      <td>2.36</td>\n",
              "      <td>18.6</td>\n",
              "      <td>101.0</td>\n",
              "      <td>3.24</td>\n",
              "      <td>2.81</td>\n",
              "      <td>1.03</td>\n",
              "    </tr>\n",
              "    <tr>\n",
              "      <th>2</th>\n",
              "      <td>NaN</td>\n",
              "      <td>1.95</td>\n",
              "      <td>16.8</td>\n",
              "      <td>NaN</td>\n",
              "      <td>3.49</td>\n",
              "      <td>2.18</td>\n",
              "      <td>0.86</td>\n",
              "    </tr>\n",
              "    <tr>\n",
              "      <th>3</th>\n",
              "      <td>13.24</td>\n",
              "      <td>2.59</td>\n",
              "      <td>21.0</td>\n",
              "      <td>NaN</td>\n",
              "      <td>2.69</td>\n",
              "      <td>1.82</td>\n",
              "      <td>1.04</td>\n",
              "    </tr>\n",
              "    <tr>\n",
              "      <th>4</th>\n",
              "      <td>NaN</td>\n",
              "      <td>1.76</td>\n",
              "      <td>15.2</td>\n",
              "      <td>112.0</td>\n",
              "      <td>3.39</td>\n",
              "      <td>1.97</td>\n",
              "      <td>1.05</td>\n",
              "    </tr>\n",
              "    <tr>\n",
              "      <th>5</th>\n",
              "      <td>NaN</td>\n",
              "      <td>1.87</td>\n",
              "      <td>14.6</td>\n",
              "      <td>96.0</td>\n",
              "      <td>2.52</td>\n",
              "      <td>1.98</td>\n",
              "      <td>1.02</td>\n",
              "    </tr>\n",
              "    <tr>\n",
              "      <th>6</th>\n",
              "      <td>NaN</td>\n",
              "      <td>2.15</td>\n",
              "      <td>17.6</td>\n",
              "      <td>121.0</td>\n",
              "      <td>2.51</td>\n",
              "      <td>1.25</td>\n",
              "      <td>1.06</td>\n",
              "    </tr>\n",
              "    <tr>\n",
              "      <th>7</th>\n",
              "      <td>14.83</td>\n",
              "      <td>1.64</td>\n",
              "      <td>14.0</td>\n",
              "      <td>97.0</td>\n",
              "      <td>2.98</td>\n",
              "      <td>1.98</td>\n",
              "      <td>1.08</td>\n",
              "    </tr>\n",
              "    <tr>\n",
              "      <th>8</th>\n",
              "      <td>NaN</td>\n",
              "      <td>1.35</td>\n",
              "      <td>16.0</td>\n",
              "      <td>98.0</td>\n",
              "      <td>3.15</td>\n",
              "      <td>1.85</td>\n",
              "      <td>1.01</td>\n",
              "    </tr>\n",
              "    <tr>\n",
              "      <th>9</th>\n",
              "      <td>NaN</td>\n",
              "      <td>2.16</td>\n",
              "      <td>18.0</td>\n",
              "      <td>105.0</td>\n",
              "      <td>3.32</td>\n",
              "      <td>2.38</td>\n",
              "      <td>1.25</td>\n",
              "    </tr>\n",
              "  </tbody>\n",
              "</table>\n",
              "</div>"
            ]
          },
          "metadata": {},
          "execution_count": 158
        }
      ]
    },
    {
      "cell_type": "markdown",
      "metadata": {
        "id": "wdYeHsjddEk0"
      },
      "source": [
        "### Step 12.  How many missing values do we have?"
      ]
    },
    {
      "cell_type": "code",
      "metadata": {
        "id": "aqKootHudEk0",
        "colab": {
          "base_uri": "https://localhost:8080/"
        },
        "outputId": "d28eefb7-3e14-4297-b262-755714297cb5"
      },
      "source": [
        "wine.isna().sum().sum()"
      ],
      "execution_count": 159,
      "outputs": [
        {
          "output_type": "execute_result",
          "data": {
            "text/plain": [
              "12"
            ]
          },
          "metadata": {},
          "execution_count": 159
        }
      ]
    },
    {
      "cell_type": "markdown",
      "metadata": {
        "id": "itBmBwxTdEk1"
      },
      "source": [
        "### Step 13. Delete the rows that contain missing values"
      ]
    },
    {
      "cell_type": "code",
      "metadata": {
        "id": "Wg9Ouf7_dEk1",
        "colab": {
          "base_uri": "https://localhost:8080/",
          "height": 203
        },
        "outputId": "c92bed59-5649-4cf6-ce05-b2332764a879"
      },
      "source": [
        "wine.dropna(how='any', inplace=True)\n",
        "wine.head()"
      ],
      "execution_count": 160,
      "outputs": [
        {
          "output_type": "execute_result",
          "data": {
            "text/plain": [
              "    alcohol  malic_acid  alcalinity_of_ash  magnesium  flavanoids  \\\n",
              "7     14.83        1.64               14.0       97.0        2.98   \n",
              "11    13.75        1.73               16.0       89.0        2.76   \n",
              "12    14.75        1.73               11.4       91.0        3.69   \n",
              "13    14.38        1.87               12.0      102.0        3.64   \n",
              "14    13.63        1.81               17.2      112.0        2.91   \n",
              "\n",
              "    proanthocyanins   hue  \n",
              "7              1.98  1.08  \n",
              "11             1.81  1.15  \n",
              "12             2.81  1.25  \n",
              "13             2.96  1.20  \n",
              "14             1.46  1.28  "
            ],
            "text/html": [
              "<div>\n",
              "<style scoped>\n",
              "    .dataframe tbody tr th:only-of-type {\n",
              "        vertical-align: middle;\n",
              "    }\n",
              "\n",
              "    .dataframe tbody tr th {\n",
              "        vertical-align: top;\n",
              "    }\n",
              "\n",
              "    .dataframe thead th {\n",
              "        text-align: right;\n",
              "    }\n",
              "</style>\n",
              "<table border=\"1\" class=\"dataframe\">\n",
              "  <thead>\n",
              "    <tr style=\"text-align: right;\">\n",
              "      <th></th>\n",
              "      <th>alcohol</th>\n",
              "      <th>malic_acid</th>\n",
              "      <th>alcalinity_of_ash</th>\n",
              "      <th>magnesium</th>\n",
              "      <th>flavanoids</th>\n",
              "      <th>proanthocyanins</th>\n",
              "      <th>hue</th>\n",
              "    </tr>\n",
              "  </thead>\n",
              "  <tbody>\n",
              "    <tr>\n",
              "      <th>7</th>\n",
              "      <td>14.83</td>\n",
              "      <td>1.64</td>\n",
              "      <td>14.0</td>\n",
              "      <td>97.0</td>\n",
              "      <td>2.98</td>\n",
              "      <td>1.98</td>\n",
              "      <td>1.08</td>\n",
              "    </tr>\n",
              "    <tr>\n",
              "      <th>11</th>\n",
              "      <td>13.75</td>\n",
              "      <td>1.73</td>\n",
              "      <td>16.0</td>\n",
              "      <td>89.0</td>\n",
              "      <td>2.76</td>\n",
              "      <td>1.81</td>\n",
              "      <td>1.15</td>\n",
              "    </tr>\n",
              "    <tr>\n",
              "      <th>12</th>\n",
              "      <td>14.75</td>\n",
              "      <td>1.73</td>\n",
              "      <td>11.4</td>\n",
              "      <td>91.0</td>\n",
              "      <td>3.69</td>\n",
              "      <td>2.81</td>\n",
              "      <td>1.25</td>\n",
              "    </tr>\n",
              "    <tr>\n",
              "      <th>13</th>\n",
              "      <td>14.38</td>\n",
              "      <td>1.87</td>\n",
              "      <td>12.0</td>\n",
              "      <td>102.0</td>\n",
              "      <td>3.64</td>\n",
              "      <td>2.96</td>\n",
              "      <td>1.20</td>\n",
              "    </tr>\n",
              "    <tr>\n",
              "      <th>14</th>\n",
              "      <td>13.63</td>\n",
              "      <td>1.81</td>\n",
              "      <td>17.2</td>\n",
              "      <td>112.0</td>\n",
              "      <td>2.91</td>\n",
              "      <td>1.46</td>\n",
              "      <td>1.28</td>\n",
              "    </tr>\n",
              "  </tbody>\n",
              "</table>\n",
              "</div>"
            ]
          },
          "metadata": {},
          "execution_count": 160
        }
      ]
    },
    {
      "cell_type": "markdown",
      "metadata": {
        "id": "ym8FaqODdEk1"
      },
      "source": [
        "### Step 14. Print only the non-null values in alcohol"
      ]
    },
    {
      "cell_type": "code",
      "metadata": {
        "id": "Ox-wWLK8dEk1",
        "colab": {
          "base_uri": "https://localhost:8080/"
        },
        "outputId": "3f6c5e50-81b2-4c48-c6af-da92abf13e61"
      },
      "source": [
        "wine.loc[wine['alcohol'].notnull(), 'alcohol']"
      ],
      "execution_count": 161,
      "outputs": [
        {
          "output_type": "execute_result",
          "data": {
            "text/plain": [
              "7      14.83\n",
              "11     13.75\n",
              "12     14.75\n",
              "13     14.38\n",
              "14     13.63\n",
              "15     14.30\n",
              "16     13.83\n",
              "17     14.19\n",
              "18     13.64\n",
              "19     14.06\n",
              "20     12.93\n",
              "21     13.71\n",
              "22     12.85\n",
              "23     13.50\n",
              "24     13.05\n",
              "25     13.39\n",
              "26     13.30\n",
              "27     13.87\n",
              "28     14.02\n",
              "29     13.73\n",
              "30     13.58\n",
              "31     13.68\n",
              "32     13.76\n",
              "33     13.51\n",
              "34     13.48\n",
              "35     13.28\n",
              "36     13.05\n",
              "37     13.07\n",
              "38     14.22\n",
              "39     13.56\n",
              "       ...  \n",
              "147    13.32\n",
              "148    13.08\n",
              "149    13.50\n",
              "150    12.79\n",
              "151    13.11\n",
              "152    13.23\n",
              "153    12.58\n",
              "154    13.17\n",
              "155    13.84\n",
              "156    12.45\n",
              "157    14.34\n",
              "158    13.48\n",
              "159    12.36\n",
              "160    13.69\n",
              "161    12.85\n",
              "162    12.96\n",
              "163    13.78\n",
              "164    13.73\n",
              "165    13.45\n",
              "166    12.82\n",
              "167    13.58\n",
              "168    13.40\n",
              "169    12.20\n",
              "170    12.77\n",
              "171    14.16\n",
              "172    13.71\n",
              "173    13.40\n",
              "174    13.27\n",
              "175    13.17\n",
              "176    14.13\n",
              "Name: alcohol, Length: 166, dtype: float64"
            ]
          },
          "metadata": {},
          "execution_count": 161
        }
      ]
    },
    {
      "cell_type": "markdown",
      "metadata": {
        "id": "3tyBjidodEk2"
      },
      "source": [
        "### Step 15.  Reset the index, so it starts with 0 again"
      ]
    },
    {
      "cell_type": "code",
      "metadata": {
        "id": "Clf9a16XdEk3",
        "colab": {
          "base_uri": "https://localhost:8080/",
          "height": 203
        },
        "outputId": "f2bb6e40-fb5e-4b51-f6d6-2b055d3e9dc1"
      },
      "source": [
        "wine.reset_index(drop = True, inplace=True)\n",
        "wine.head()"
      ],
      "execution_count": 162,
      "outputs": [
        {
          "output_type": "execute_result",
          "data": {
            "text/plain": [
              "   alcohol  malic_acid  alcalinity_of_ash  magnesium  flavanoids  \\\n",
              "0    14.83        1.64               14.0       97.0        2.98   \n",
              "1    13.75        1.73               16.0       89.0        2.76   \n",
              "2    14.75        1.73               11.4       91.0        3.69   \n",
              "3    14.38        1.87               12.0      102.0        3.64   \n",
              "4    13.63        1.81               17.2      112.0        2.91   \n",
              "\n",
              "   proanthocyanins   hue  \n",
              "0             1.98  1.08  \n",
              "1             1.81  1.15  \n",
              "2             2.81  1.25  \n",
              "3             2.96  1.20  \n",
              "4             1.46  1.28  "
            ],
            "text/html": [
              "<div>\n",
              "<style scoped>\n",
              "    .dataframe tbody tr th:only-of-type {\n",
              "        vertical-align: middle;\n",
              "    }\n",
              "\n",
              "    .dataframe tbody tr th {\n",
              "        vertical-align: top;\n",
              "    }\n",
              "\n",
              "    .dataframe thead th {\n",
              "        text-align: right;\n",
              "    }\n",
              "</style>\n",
              "<table border=\"1\" class=\"dataframe\">\n",
              "  <thead>\n",
              "    <tr style=\"text-align: right;\">\n",
              "      <th></th>\n",
              "      <th>alcohol</th>\n",
              "      <th>malic_acid</th>\n",
              "      <th>alcalinity_of_ash</th>\n",
              "      <th>magnesium</th>\n",
              "      <th>flavanoids</th>\n",
              "      <th>proanthocyanins</th>\n",
              "      <th>hue</th>\n",
              "    </tr>\n",
              "  </thead>\n",
              "  <tbody>\n",
              "    <tr>\n",
              "      <th>0</th>\n",
              "      <td>14.83</td>\n",
              "      <td>1.64</td>\n",
              "      <td>14.0</td>\n",
              "      <td>97.0</td>\n",
              "      <td>2.98</td>\n",
              "      <td>1.98</td>\n",
              "      <td>1.08</td>\n",
              "    </tr>\n",
              "    <tr>\n",
              "      <th>1</th>\n",
              "      <td>13.75</td>\n",
              "      <td>1.73</td>\n",
              "      <td>16.0</td>\n",
              "      <td>89.0</td>\n",
              "      <td>2.76</td>\n",
              "      <td>1.81</td>\n",
              "      <td>1.15</td>\n",
              "    </tr>\n",
              "    <tr>\n",
              "      <th>2</th>\n",
              "      <td>14.75</td>\n",
              "      <td>1.73</td>\n",
              "      <td>11.4</td>\n",
              "      <td>91.0</td>\n",
              "      <td>3.69</td>\n",
              "      <td>2.81</td>\n",
              "      <td>1.25</td>\n",
              "    </tr>\n",
              "    <tr>\n",
              "      <th>3</th>\n",
              "      <td>14.38</td>\n",
              "      <td>1.87</td>\n",
              "      <td>12.0</td>\n",
              "      <td>102.0</td>\n",
              "      <td>3.64</td>\n",
              "      <td>2.96</td>\n",
              "      <td>1.20</td>\n",
              "    </tr>\n",
              "    <tr>\n",
              "      <th>4</th>\n",
              "      <td>13.63</td>\n",
              "      <td>1.81</td>\n",
              "      <td>17.2</td>\n",
              "      <td>112.0</td>\n",
              "      <td>2.91</td>\n",
              "      <td>1.46</td>\n",
              "      <td>1.28</td>\n",
              "    </tr>\n",
              "  </tbody>\n",
              "</table>\n",
              "</div>"
            ]
          },
          "metadata": {},
          "execution_count": 162
        }
      ]
    },
    {
      "cell_type": "markdown",
      "metadata": {
        "id": "RyF7p4xPdEk3"
      },
      "source": [
        "### BONUS: Create your own question and answer it."
      ]
    },
    {
      "cell_type": "code",
      "metadata": {
        "collapsed": true,
        "id": "N8nLgq_EdEk3",
        "colab": {
          "base_uri": "https://localhost:8080/",
          "height": 203
        },
        "outputId": "50173a9e-a828-4feb-94ad-4c8c75d8d5f2"
      },
      "source": [
        "# Set the values of malic_acid as NaN\n",
        "\n",
        "wine['malic_acid'] = np.nan\n",
        "wine.head()"
      ],
      "execution_count": 165,
      "outputs": [
        {
          "output_type": "execute_result",
          "data": {
            "text/plain": [
              "   alcohol  malic_acid  alcalinity_of_ash  magnesium  flavanoids  \\\n",
              "0    14.83         NaN               14.0       97.0        2.98   \n",
              "1    13.75         NaN               16.0       89.0        2.76   \n",
              "2    14.75         NaN               11.4       91.0        3.69   \n",
              "3    14.38         NaN               12.0      102.0        3.64   \n",
              "4    13.63         NaN               17.2      112.0        2.91   \n",
              "\n",
              "   proanthocyanins   hue  \n",
              "0             1.98  1.08  \n",
              "1             1.81  1.15  \n",
              "2             2.81  1.25  \n",
              "3             2.96  1.20  \n",
              "4             1.46  1.28  "
            ],
            "text/html": [
              "<div>\n",
              "<style scoped>\n",
              "    .dataframe tbody tr th:only-of-type {\n",
              "        vertical-align: middle;\n",
              "    }\n",
              "\n",
              "    .dataframe tbody tr th {\n",
              "        vertical-align: top;\n",
              "    }\n",
              "\n",
              "    .dataframe thead th {\n",
              "        text-align: right;\n",
              "    }\n",
              "</style>\n",
              "<table border=\"1\" class=\"dataframe\">\n",
              "  <thead>\n",
              "    <tr style=\"text-align: right;\">\n",
              "      <th></th>\n",
              "      <th>alcohol</th>\n",
              "      <th>malic_acid</th>\n",
              "      <th>alcalinity_of_ash</th>\n",
              "      <th>magnesium</th>\n",
              "      <th>flavanoids</th>\n",
              "      <th>proanthocyanins</th>\n",
              "      <th>hue</th>\n",
              "    </tr>\n",
              "  </thead>\n",
              "  <tbody>\n",
              "    <tr>\n",
              "      <th>0</th>\n",
              "      <td>14.83</td>\n",
              "      <td>NaN</td>\n",
              "      <td>14.0</td>\n",
              "      <td>97.0</td>\n",
              "      <td>2.98</td>\n",
              "      <td>1.98</td>\n",
              "      <td>1.08</td>\n",
              "    </tr>\n",
              "    <tr>\n",
              "      <th>1</th>\n",
              "      <td>13.75</td>\n",
              "      <td>NaN</td>\n",
              "      <td>16.0</td>\n",
              "      <td>89.0</td>\n",
              "      <td>2.76</td>\n",
              "      <td>1.81</td>\n",
              "      <td>1.15</td>\n",
              "    </tr>\n",
              "    <tr>\n",
              "      <th>2</th>\n",
              "      <td>14.75</td>\n",
              "      <td>NaN</td>\n",
              "      <td>11.4</td>\n",
              "      <td>91.0</td>\n",
              "      <td>3.69</td>\n",
              "      <td>2.81</td>\n",
              "      <td>1.25</td>\n",
              "    </tr>\n",
              "    <tr>\n",
              "      <th>3</th>\n",
              "      <td>14.38</td>\n",
              "      <td>NaN</td>\n",
              "      <td>12.0</td>\n",
              "      <td>102.0</td>\n",
              "      <td>3.64</td>\n",
              "      <td>2.96</td>\n",
              "      <td>1.20</td>\n",
              "    </tr>\n",
              "    <tr>\n",
              "      <th>4</th>\n",
              "      <td>13.63</td>\n",
              "      <td>NaN</td>\n",
              "      <td>17.2</td>\n",
              "      <td>112.0</td>\n",
              "      <td>2.91</td>\n",
              "      <td>1.46</td>\n",
              "      <td>1.28</td>\n",
              "    </tr>\n",
              "  </tbody>\n",
              "</table>\n",
              "</div>"
            ]
          },
          "metadata": {},
          "execution_count": 165
        }
      ]
    }
  ]
}