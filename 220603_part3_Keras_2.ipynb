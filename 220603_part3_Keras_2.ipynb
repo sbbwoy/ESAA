{
  "nbformat": 4,
  "nbformat_minor": 0,
  "metadata": {
    "colab": {
      "name": "220603_part3_Keras_2",
      "provenance": [],
      "authorship_tag": "ABX9TyOoogGULKc8xbCF7twzNBXs",
      "include_colab_link": true
    },
    "kernelspec": {
      "name": "python3",
      "display_name": "Python 3"
    },
    "language_info": {
      "name": "python"
    }
  },
  "cells": [
    {
      "cell_type": "markdown",
      "metadata": {
        "id": "view-in-github",
        "colab_type": "text"
      },
      "source": [
        "<a href=\"https://colab.research.google.com/github/sbbwoy/ESAA/blob/main/220603_part3_Keras_2.ipynb\" target=\"_parent\"><img src=\"https://colab.research.google.com/assets/colab-badge.svg\" alt=\"Open In Colab\"/></a>"
      ]
    },
    {
      "cell_type": "markdown",
      "source": [
        "##6. 모델 저장 및 불러오기"
      ],
      "metadata": {
        "id": "b-w_nd7QxYAM"
      }
    },
    {
      "cell_type": "code",
      "execution_count": 12,
      "metadata": {
        "id": "iCkDoAZSwmqM"
      },
      "outputs": [],
      "source": [
        "import tensorflow as tf\n",
        "\n",
        "mnist = tf.keras.datasets.mnist\n",
        "\n",
        "(x_train, y_train_), (x_test, y_test) = mnist.load_data()\n",
        "\n",
        "x_train = x_train / x_train.max()\n",
        "x_test = x_test / x_test.max()\n",
        "\n",
        "model = tf.keras.Sequential([\n",
        "                             tf.keras.layers.Flatten(input_shape=(28, 28)),\n",
        "                             tf.keras.layers.Dense(256, activation = 'relu'),\n",
        "                             tf.keras.layers.Dense(64, activation = 'relu'),\n",
        "                             tf.keras.layers.Dense(62, activation = 'relu'),\n",
        "                             \n",
        "                             tf.keras.layers.Dense(10, activation = 'softmax'),\n",
        "])\n",
        "\n",
        "model.compile(optimizer='adam', loss='sparse_categorical_crossentropy', metrics=['accuracy'])"
      ]
    },
    {
      "cell_type": "markdown",
      "source": [
        "###모델을 파일로 저장"
      ],
      "metadata": {
        "id": "OsrbAmBK0O5g"
      }
    },
    {
      "cell_type": "markdown",
      "source": [
        "저장형식\n",
        "- HDF5\n",
        "- SavedModel"
      ],
      "metadata": {
        "id": "ZTV70d5Q0Xcg"
      }
    },
    {
      "cell_type": "code",
      "source": [
        "#모델을 h5 포맷으로 저장\n",
        "model.save('h5-model.h5')"
      ],
      "metadata": {
        "id": "WPvHrSak0RVn"
      },
      "execution_count": 13,
      "outputs": []
    },
    {
      "cell_type": "code",
      "source": [
        "h5_model = tf.keras.models.load_model('h5-model.h5')\n",
        "h5_model.summary()"
      ],
      "metadata": {
        "colab": {
          "base_uri": "https://localhost:8080/"
        },
        "id": "X33fEZfK0gsn",
        "outputId": "c5819a50-aebb-41fe-e242-81be2b90c5a8"
      },
      "execution_count": 14,
      "outputs": [
        {
          "output_type": "stream",
          "name": "stdout",
          "text": [
            "Model: \"sequential_1\"\n",
            "_________________________________________________________________\n",
            " Layer (type)                Output Shape              Param #   \n",
            "=================================================================\n",
            " flatten_1 (Flatten)         (None, 784)               0         \n",
            "                                                                 \n",
            " dense_4 (Dense)             (None, 256)               200960    \n",
            "                                                                 \n",
            " dense_5 (Dense)             (None, 64)                16448     \n",
            "                                                                 \n",
            " dense_6 (Dense)             (None, 62)                4030      \n",
            "                                                                 \n",
            " dense_7 (Dense)             (None, 10)                630       \n",
            "                                                                 \n",
            "=================================================================\n",
            "Total params: 222,068\n",
            "Trainable params: 222,068\n",
            "Non-trainable params: 0\n",
            "_________________________________________________________________\n"
          ]
        }
      ]
    },
    {
      "cell_type": "code",
      "source": [
        "#모델 검증\n",
        "loss, acc = h5_model.evaluate(x_test, y_test, verbose=0)\n",
        "print(f'h5 model] loss: {loss:.5f}, {acc:.5f}')"
      ],
      "metadata": {
        "colab": {
          "base_uri": "https://localhost:8080/"
        },
        "id": "QAgUUjZ308W7",
        "outputId": "e32aca93-e09b-435d-9bca-5df228581aa4"
      },
      "execution_count": 15,
      "outputs": [
        {
          "output_type": "stream",
          "name": "stdout",
          "text": [
            "h5 model] loss: 2.33871, 0.38430\n"
          ]
        }
      ]
    },
    {
      "cell_type": "code",
      "source": [
        "#모델을 SavedModel 포맷으로 저장\n",
        "model.save('saved-model')"
      ],
      "metadata": {
        "colab": {
          "base_uri": "https://localhost:8080/"
        },
        "id": "d8veKpje1LEo",
        "outputId": "d946b8ee-d7e7-4c92-d5cc-806767f4b79b"
      },
      "execution_count": 16,
      "outputs": [
        {
          "output_type": "stream",
          "name": "stdout",
          "text": [
            "INFO:tensorflow:Assets written to: saved-model/assets\n"
          ]
        }
      ]
    },
    {
      "cell_type": "code",
      "source": [
        "#모델 복원\n",
        "saved_model = tf.keras.models.load_model('saved-model')\n",
        "saved_model.summary()"
      ],
      "metadata": {
        "colab": {
          "base_uri": "https://localhost:8080/"
        },
        "id": "RqhUoVpH1Sm2",
        "outputId": "c4cdfb33-1d9e-4d88-b8c2-900dea92e80b"
      },
      "execution_count": 17,
      "outputs": [
        {
          "output_type": "stream",
          "name": "stdout",
          "text": [
            "Model: \"sequential_1\"\n",
            "_________________________________________________________________\n",
            " Layer (type)                Output Shape              Param #   \n",
            "=================================================================\n",
            " flatten_1 (Flatten)         (None, 784)               0         \n",
            "                                                                 \n",
            " dense_4 (Dense)             (None, 256)               200960    \n",
            "                                                                 \n",
            " dense_5 (Dense)             (None, 64)                16448     \n",
            "                                                                 \n",
            " dense_6 (Dense)             (None, 62)                4030      \n",
            "                                                                 \n",
            " dense_7 (Dense)             (None, 10)                630       \n",
            "                                                                 \n",
            "=================================================================\n",
            "Total params: 222,068\n",
            "Trainable params: 222,068\n",
            "Non-trainable params: 0\n",
            "_________________________________________________________________\n"
          ]
        }
      ]
    },
    {
      "cell_type": "code",
      "source": [
        "#모델 검증\n",
        "loss, acc = h5_model.evaluate(x_test, y_test, verbose=0)\n",
        "print(f'h5 model] loss: {loss:.5f}, acc: {acc:.5f}')\n",
        "\n",
        "#모델 검증\n",
        "loss, acc = saved_model.evaluate(x_test, y_test, verbose=0)\n",
        "print(f'saved_model] loss: {loss:.5f}, acc: {acc:.5f}')\n"
      ],
      "metadata": {
        "colab": {
          "base_uri": "https://localhost:8080/"
        },
        "id": "XvKNcopT1aAk",
        "outputId": "198928c2-3465-4f96-b61e-73cfe5269fba"
      },
      "execution_count": 18,
      "outputs": [
        {
          "output_type": "stream",
          "name": "stdout",
          "text": [
            "h5 model] loss: 2.33871, acc: 0.38430\n",
            "saved_model] loss: 2.33871, acc: 0.38430\n"
          ]
        }
      ]
    },
    {
      "cell_type": "markdown",
      "source": [
        "##7. 복잡한 모델 생성"
      ],
      "metadata": {
        "id": "B-3jnfgL1zib"
      }
    },
    {
      "cell_type": "markdown",
      "source": [
        "###함수형 API(Functional API)"
      ],
      "metadata": {
        "id": "-GoV4eD8125_"
      }
    },
    {
      "cell_type": "markdown",
      "source": [
        "![image.png](data:image/png;base64,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)"
      ],
      "metadata": {
        "id": "wudhpERC1_Vn"
      }
    },
    {
      "cell_type": "markdown",
      "source": [
        "- 입력 매개변수를 여러 개 갖는 다중 입력, 함수의 return 값을 여러 개 갖는 다중 출력, 같은 레벨에 여러 개의 층을 배치해 입출력을 공유하는 구조 가능"
      ],
      "metadata": {
        "id": "xKNd8PT-2CT2"
      }
    },
    {
      "cell_type": "code",
      "source": [
        "import tensorflow as tf\n",
        "\n",
        "mnist = tf.keras.datasets.mnist\n",
        "\n",
        "(x_train, y_train), (x_test, y_test) = mnist.load_data()\n",
        "\n",
        "x_train = x_train / x_train.max()\n",
        "x_test = x_test / x_test.max()\n",
        "\n",
        "model = tf.keras.Sequential([\n",
        "                             tf.keras.layers.Flatten(input_shape=(28, 28)),\n",
        "                             tf.keras.layers.Dense(256, activation = 'relu'),\n",
        "                             tf.keras.layers.Dense(64, activation = 'relu'),\n",
        "                             tf.keras.layers.Dense(62, activation = 'relu'),\n",
        "                             \n",
        "                             tf.keras.layers.Dense(10, activation = 'softmax'),\n",
        "])\n",
        "\n",
        "model.compile(optimizer='adam', loss='sparse_categorical_crossentropy', metrics=['accuracy'])"
      ],
      "metadata": {
        "id": "K-q4UcYp11nf"
      },
      "execution_count": 26,
      "outputs": []
    },
    {
      "cell_type": "code",
      "source": [
        "#모델의 레이어를 체인 구조로 연결\n",
        "input_layer = tf.keras.Input(shape=(28, 28), name = 'InputLayer')\n",
        "\n",
        "#모델의 레이어를 체인 구조로 연결\n",
        "x1 = tf.keras.layers.Flatten(name='Flatten')(input_layer)\n",
        "x2 = tf.keras.layers.Dense(256, activation='relu', name = 'Dense1')(x1)\n",
        "x3 = tf.keras.layers.Dense(256, activation='relu', name = 'Dense2')(x2)\n",
        "x4 = tf.keras.layers.Dense(256, activation='relu', name = 'Dense3')(x3)"
      ],
      "metadata": {
        "id": "H4CwwFxT2S_8"
      },
      "execution_count": 22,
      "outputs": []
    },
    {
      "cell_type": "code",
      "source": [
        "#모델 생성\n",
        "func_model = tf.keras.Model(inputs=input_layer, outputs=x4, name='FunctionalModel')\n",
        "\n",
        "#모델 요약\n",
        "func_model.summary()"
      ],
      "metadata": {
        "colab": {
          "base_uri": "https://localhost:8080/"
        },
        "id": "Z9aRfwyE23ls",
        "outputId": "6ebe4489-3a05-41d6-9f9a-85b467fbb1fd"
      },
      "execution_count": 23,
      "outputs": [
        {
          "output_type": "stream",
          "name": "stdout",
          "text": [
            "Model: \"FunctionalModel\"\n",
            "_________________________________________________________________\n",
            " Layer (type)                Output Shape              Param #   \n",
            "=================================================================\n",
            " InputLayer (InputLayer)     [(None, 28, 28)]          0         \n",
            "                                                                 \n",
            " Flatten (Flatten)           (None, 784)               0         \n",
            "                                                                 \n",
            " Dense1 (Dense)              (None, 256)               200960    \n",
            "                                                                 \n",
            " Dense2 (Dense)              (None, 256)               65792     \n",
            "                                                                 \n",
            " Dense3 (Dense)              (None, 256)               65792     \n",
            "                                                                 \n",
            "=================================================================\n",
            "Total params: 332,544\n",
            "Trainable params: 332,544\n",
            "Non-trainable params: 0\n",
            "_________________________________________________________________\n"
          ]
        }
      ]
    },
    {
      "cell_type": "code",
      "source": [
        "from tensorflow.keras.utils import plot_model\n",
        "#구조도 시각화\n",
        "plot_model(func_model, show_shapes=True, show_layer_names=True, to_file='model.png')"
      ],
      "metadata": {
        "colab": {
          "base_uri": "https://localhost:8080/",
          "height": 533
        },
        "id": "_tlyuJ7j3Eja",
        "outputId": "2569e9d7-eea2-4b6c-f837-08da0438eec1"
      },
      "execution_count": 24,
      "outputs": [
        {
          "output_type": "execute_result",
          "data": {
            "text/plain": [
              "<IPython.core.display.Image object>"
            ],
            "image/png": "[encoded data removed]"
          },
          "metadata": {},
          "execution_count": 24
        }
      ]
    },
    {
      "cell_type": "code",
      "source": [
        "#컴파일\n",
        "func_model.compile(optimizer='adam', loss='sparse_categorical_crossentropy', metrics=['accuracy'])\n",
        "\n",
        "#훈련\n",
        "func_model.fit(x_train, y_train, epochs=3)\n",
        "\n",
        "#검증\n",
        "loss, acc = func_model.evaluate(x_test, y_test, verbose=0)\n",
        "print(f'Functional Model] loss: {loss:.5f}, acc: {acc:.5f}')"
      ],
      "metadata": {
        "colab": {
          "base_uri": "https://localhost:8080/"
        },
        "id": "_6s_RsUr3U8s",
        "outputId": "855076b9-7a02-43b2-92ab-92e8bea29442"
      },
      "execution_count": 27,
      "outputs": [
        {
          "output_type": "stream",
          "name": "stdout",
          "text": [
            "Epoch 1/3\n",
            "1875/1875 [==============================] - 11s 6ms/step - loss: 5.4864 - accuracy: 0.1164\n",
            "Epoch 2/3\n",
            "1875/1875 [==============================] - 10s 5ms/step - loss: 5.5452 - accuracy: 0.0987\n",
            "Epoch 3/3\n",
            "1875/1875 [==============================] - 10s 5ms/step - loss: 5.5452 - accuracy: 0.0987\n",
            "Functional Model] loss: 5.54629, acc: 0.09800\n"
          ]
        }
      ]
    },
    {
      "cell_type": "markdown",
      "source": [
        "###모델 서브클래싱Model Subclassing"
      ],
      "metadata": {
        "id": "r_ZUnRoN31TI"
      }
    },
    {
      "cell_type": "code",
      "source": [
        "class MyModel(tf.keras.Model):\n",
        "    def __init__(self):\n",
        "        super(MyModel, self).__init__()\n",
        "        #초기값 설정\n",
        "        self.flatten = tf.keras.layers.Flatten()\n",
        "        self.dense1 = tf.keras.layers.Dense(256, activation='relu')\n",
        "        self.dense2 = tf.keras.layers.Dense(64, activation='relu')\n",
        "        self.dense3 = tf.keras.layers.Dense(10, activation='softmax')\n",
        "\n",
        "    def call(self, x):\n",
        "        x = self.flatten(x)\n",
        "        x = self.dense1(x)\n",
        "        x = self.dense2(x)\n",
        "        x = self.dense3(x)\n",
        "        return x"
      ],
      "metadata": {
        "id": "kagjawkR30kC"
      },
      "execution_count": 32,
      "outputs": []
    },
    {
      "cell_type": "code",
      "source": [
        "#모델 생성\n",
        "mymodel = MyModel()\n",
        "\n",
        "#모델의 이름 설정\n",
        "mymodel._name = 'subclass_model'\n",
        "\n",
        "#모델 input 정의\n",
        "mymodel(tf.keras.layers.Input(shape=(28, 28)))\n",
        "\n",
        "#모델 요약\n",
        "mymodel.summary()"
      ],
      "metadata": {
        "colab": {
          "base_uri": "https://localhost:8080/"
        },
        "id": "3Udm_dCf4ePU",
        "outputId": "674e175a-2b5e-44a7-c5be-d14e7fe3752d"
      },
      "execution_count": 33,
      "outputs": [
        {
          "output_type": "stream",
          "name": "stdout",
          "text": [
            "Model: \"subclass_model\"\n",
            "_________________________________________________________________\n",
            " Layer (type)                Output Shape              Param #   \n",
            "=================================================================\n",
            " flatten_5 (Flatten)         multiple                  0         \n",
            "                                                                 \n",
            " dense_16 (Dense)            multiple                  200960    \n",
            "                                                                 \n",
            " dense_17 (Dense)            multiple                  16448     \n",
            "                                                                 \n",
            " dense_18 (Dense)            multiple                  650       \n",
            "                                                                 \n",
            "=================================================================\n",
            "Total params: 218,058\n",
            "Trainable params: 218,058\n",
            "Non-trainable params: 0\n",
            "_________________________________________________________________\n"
          ]
        }
      ]
    },
    {
      "cell_type": "code",
      "source": [
        "#컴파일\n",
        "mymodel.compile(optimizer='adam', loss='sparse_categorical_crossentropy', metrics=['accuracy'])\n",
        "\n",
        "#훈련\n",
        "mymodel.fit(x_train, y_train, epochs=3)\n",
        "\n",
        "#검증\n",
        "loss, acc = mymodel.evaluate(x_test, y_test, verbose=0)\n",
        "print(f'Subclassing Model] loss: {loss:.5f}, acc: {acc:.5f}')"
      ],
      "metadata": {
        "colab": {
          "base_uri": "https://localhost:8080/"
        },
        "id": "B7YOaBJQ40j5",
        "outputId": "91f0e14d-08cd-4564-c267-3e2a6fe8b370"
      },
      "execution_count": 35,
      "outputs": [
        {
          "output_type": "stream",
          "name": "stdout",
          "text": [
            "Epoch 1/3\n",
            "1875/1875 [==============================] - 7s 4ms/step - loss: 0.0475 - accuracy: 0.9842\n",
            "Epoch 2/3\n",
            "1875/1875 [==============================] - 8s 4ms/step - loss: 0.0353 - accuracy: 0.9881\n",
            "Epoch 3/3\n",
            "1875/1875 [==============================] - 8s 4ms/step - loss: 0.0273 - accuracy: 0.9912\n",
            "Subclassing Model] loss: 0.07054, acc: 0.98160\n"
          ]
        }
      ]
    },
    {
      "cell_type": "markdown",
      "source": [
        "###서브클래싱 모델 파라미터를 활용한 생성"
      ],
      "metadata": {
        "id": "Z8co1pQ95N6r"
      }
    },
    {
      "cell_type": "code",
      "source": [
        "class MyModel(tf.keras.Model):\n",
        "    #생성자 파라미터 추가\n",
        "    def __init__(self, units, num_classes):\n",
        "        super(MyModel, self).__init__()\n",
        "        #초기값 설정\n",
        "        self.flatten = tf.keras.layers.Flatten()\n",
        "        self.dense1 = tf.keras.layers.Dense(units, activation = 'relu')\n",
        "        self.dense2 = tf.keras.layers.Dense(units/4, activation='relu')\n",
        "        self.dense3 = tf.keras.layers.Dense(num_classes, activation='softmax')\n",
        "\n",
        "    def call(self, x):\n",
        "        x = self.flatten(x)\n",
        "        x = self.dense1(x)\n",
        "        x = self.dense2(x)\n",
        "        x = self.dense3(x)\n",
        "        return x"
      ],
      "metadata": {
        "id": "MqS9GPyp5Qq0"
      },
      "execution_count": 36,
      "outputs": []
    },
    {
      "cell_type": "code",
      "source": [
        "#모델 생성\n",
        "mymodel = MyModel(256, 10)\n",
        "\n",
        "#모델 input 정의\n",
        "mymodel(tf.keras.layers.Input(shape=(28, 28)))\n",
        "\n",
        "#모델 요약\n",
        "mymodel.summary()"
      ],
      "metadata": {
        "colab": {
          "base_uri": "https://localhost:8080/"
        },
        "id": "Fv-lLbhE5_Gu",
        "outputId": "9d3044ec-f0b2-46ac-ac9d-4338a8a7351f"
      },
      "execution_count": 39,
      "outputs": [
        {
          "output_type": "stream",
          "name": "stdout",
          "text": [
            "Model: \"my_model_2\"\n",
            "_________________________________________________________________\n",
            " Layer (type)                Output Shape              Param #   \n",
            "=================================================================\n",
            " flatten_6 (Flatten)         multiple                  0         \n",
            "                                                                 \n",
            " dense_19 (Dense)            multiple                  200960    \n",
            "                                                                 \n",
            " dense_20 (Dense)            multiple                  16448     \n",
            "                                                                 \n",
            " dense_21 (Dense)            multiple                  650       \n",
            "                                                                 \n",
            "=================================================================\n",
            "Total params: 218,058\n",
            "Trainable params: 218,058\n",
            "Non-trainable params: 0\n",
            "_________________________________________________________________\n"
          ]
        }
      ]
    },
    {
      "cell_type": "code",
      "source": [
        "#컴파일\n",
        "mymodel.compile(optimizer = 'adam', loss = 'sparse_categorical_crossentropy', metrics = ['accuracy'])\n",
        "\n",
        "#훈련\n",
        "mymodel.fit(x_train, y_train, epochs=3)\n",
        "\n",
        "#검증\n",
        "loss, acc = mymodel.evaluate(x_test, y_test, verbose=0)\n",
        "print(f'Subclassing Model w, parameters] loss: {loss:.5f}, acc: {acc:.5f}')"
      ],
      "metadata": {
        "colab": {
          "base_uri": "https://localhost:8080/"
        },
        "id": "PoKqEPp66Tww",
        "outputId": "48ffd455-6b1c-44c9-824d-274d7eb465eb"
      },
      "execution_count": 40,
      "outputs": [
        {
          "output_type": "stream",
          "name": "stdout",
          "text": [
            "Epoch 1/3\n",
            "1875/1875 [==============================] - 7s 4ms/step - loss: 0.2223 - accuracy: 0.9347\n",
            "Epoch 2/3\n",
            "1875/1875 [==============================] - 7s 4ms/step - loss: 0.0907 - accuracy: 0.9719\n",
            "Epoch 3/3\n",
            "1875/1875 [==============================] - 7s 4ms/step - loss: 0.0618 - accuracy: 0.9812\n",
            "Subclassing Model w, parameters] loss: 0.08491, acc: 0.97480\n"
          ]
        }
      ]
    }
  ]
}