{
  "nbformat": 4,
  "nbformat_minor": 0,
  "metadata": {
    "colab": {
      "name": "220508_NLP_2",
      "provenance": [],
      "authorship_tag": "ABX9TyPYlxO0LDcDmkNhWLjo04rP",
      "include_colab_link": true
    },
    "kernelspec": {
      "name": "python3",
      "display_name": "Python 3"
    },
    "language_info": {
      "name": "python"
    }
  },
  "cells": [
    {
      "cell_type": "markdown",
      "metadata": {
        "id": "view-in-github",
        "colab_type": "text"
      },
      "source": [
        "<a href=\"https://colab.research.google.com/github/sbbwoy/ESAA/blob/main/220508_NLP_2.ipynb\" target=\"_parent\"><img src=\"https://colab.research.google.com/assets/colab-badge.svg\" alt=\"Open In Colab\"/></a>"
      ]
    },
    {
      "cell_type": "markdown",
      "source": [
        "##06 토픽 모델링Topi Modeling\n",
        "\n",
        ": 문서 집합에 숨어있는 주제를 찾아내는 것. 숨겨진 주제를 효과적으로 표현할 수 있는 중심 단어를 함축적으로 추출.\n",
        "\n",
        "- LSA(Latent Semantic Analysis)\n",
        "- LDA(Latent Dirichlet Allocation)"
      ],
      "metadata": {
        "id": "fiyd5_E6gRXx"
      }
    },
    {
      "cell_type": "code",
      "execution_count": null,
      "metadata": {
        "id": "wJgqPe_SgKs2"
      },
      "outputs": [],
      "source": [
        "from sklearn.datasets import fetch_20newsgroups\n",
        "from sklearn.feature_extraction.text import CountVectorizer\n",
        "from sklearn.decomposition import LatentDirichletAllocation"
      ]
    },
    {
      "cell_type": "code",
      "source": [
        "#모토사이클, 야구, 그리픽스, 윈도우즈, 중동, 기독교, 전자공학, 의학 8개 주제 추출\n",
        "cats = ['rec.motorcycles', 'rec.sport.baseball', 'comp.graphics', 'comp.windows.x', 'talk.politics.mideast', 'soc.religion.christian', 'sci.electronics', 'sci.med']\n",
        "\n",
        "news_df = fetch_20newsgroups(subset = 'all', remove = ('headers', 'footers', 'quotes'), categories = cats, random_state=0)\n",
        "\n",
        "# LDA는 Count 기반의 벡터화만 적용\n",
        "count_vect = CountVectorizer(max_df = 0.95, max_features = 1000, min_df = 2, stop_words = 'english', ngram_range = (1, 2))\n",
        "\n",
        "feat_vect = count_vect.fit_transform(news_df.data)\n",
        "print('CountVectorizer Shape:', feat_vect.shape)"
      ],
      "metadata": {
        "colab": {
          "base_uri": "https://localhost:8080/"
        },
        "id": "8ClN8_wph0lg",
        "outputId": "3fb4964c-e1f4-4601-d099-08d132112bfe"
      },
      "execution_count": null,
      "outputs": [
        {
          "output_type": "stream",
          "name": "stdout",
          "text": [
            "CountVectorizer Shape: (7862, 1000)\n"
          ]
        }
      ]
    },
    {
      "cell_type": "markdown",
      "source": [
        "7862개 문서가 1000개의 피처로 구성된 행렬 데이터 -> LDA 토픽 모델링. 토픽은 동일하게 n_components 파라미터를 이용해 토픽 개수 조정"
      ],
      "metadata": {
        "id": "cb3MeOGTjdUt"
      }
    },
    {
      "cell_type": "code",
      "source": [
        "lda = LatentDirichletAllocation(n_components = 8, random_state = 0)\n",
        "lda.fit(feat_vect)"
      ],
      "metadata": {
        "colab": {
          "base_uri": "https://localhost:8080/"
        },
        "id": "Pr6s9uyZjwCH",
        "outputId": "a932f798-6b5b-434a-e033-839b91a7c13a"
      },
      "execution_count": null,
      "outputs": [
        {
          "output_type": "execute_result",
          "data": {
            "text/plain": [
              "LatentDirichletAllocation(n_components=8, random_state=0)"
            ]
          },
          "metadata": {},
          "execution_count": 7
        }
      ]
    },
    {
      "cell_type": "markdown",
      "source": [
        "-> lda 객체가 components_ 속성값을 가지게 됨. components_는 개별 토픽별로 각 word가 얼마나 많이 토픽에 할당되었는지에 대한 수치, 높을수록 중심 word가 됨"
      ],
      "metadata": {
        "id": "g24gXxyHj4Ue"
      }
    },
    {
      "cell_type": "code",
      "source": [
        "print(lda.components_.shape)\n",
        "lda.components_"
      ],
      "metadata": {
        "colab": {
          "base_uri": "https://localhost:8080/"
        },
        "id": "q7pdfLm2kLHG",
        "outputId": "1d6c6b22-c150-49eb-efd2-8a03f5e8d415"
      },
      "execution_count": null,
      "outputs": [
        {
          "output_type": "stream",
          "name": "stdout",
          "text": [
            "(8, 1000)\n"
          ]
        },
        {
          "output_type": "execute_result",
          "data": {
            "text/plain": [
              "array([[3.60992018e+01, 1.35626798e+02, 2.15751867e+01, ...,\n",
              "        3.02911688e+01, 8.66830093e+01, 6.79285199e+01],\n",
              "       [1.25199920e-01, 1.44401815e+01, 1.25045596e-01, ...,\n",
              "        1.81506995e+02, 1.25097844e-01, 9.39593286e+01],\n",
              "       [3.34762663e+02, 1.25176265e-01, 1.46743299e+02, ...,\n",
              "        1.25105772e-01, 3.63689741e+01, 1.25025218e-01],\n",
              "       ...,\n",
              "       [3.60204965e+01, 2.08640688e+01, 4.29606813e+00, ...,\n",
              "        1.45056650e+01, 8.33854413e+00, 1.55690009e+01],\n",
              "       [1.25128711e-01, 1.25247756e-01, 1.25005143e-01, ...,\n",
              "        9.17278769e+01, 1.25177668e-01, 3.74575887e+01],\n",
              "       [5.49258690e+01, 4.47009532e+00, 9.88524814e+00, ...,\n",
              "        4.87048440e+01, 1.25034678e-01, 1.25074632e-01]])"
            ]
          },
          "metadata": {},
          "execution_count": 8
        }
      ]
    },
    {
      "cell_type": "markdown",
      "source": [
        "components_array의 0번째 row, 10번째 col에 있는 값은 Topic #0에 대해 피처 벡터화된 행렬에서 10번째 칼럼에 해당하는 피처가 Topic #0에 연관되는 수치 값을 가짐"
      ],
      "metadata": {
        "id": "uH_CaJ_GkVlU"
      }
    },
    {
      "cell_type": "code",
      "source": [
        "def display_topics(model, feature_names, no_top_words):\n",
        "    for topic_index, topic in enumerate(model.components_):\n",
        "        print('Topic #', topic_index)\n",
        "\n",
        "        #components_ array에서 내림차순 정렬 후 인덱스 반환\n",
        "        topic_word_indexes = topic.argsort()[::-1]\n",
        "        top_indexes = topic_word_indexes[:no_top_words]\n",
        "\n",
        "        #top_indexes대상인 인덱스별로 feature_names에 해당하는 word feature 추출 후 join으로 concat\n",
        "        feature_concat = ' '.join([feature_names[i] for i in top_indexes])\n",
        "        print(feature_concat)"
      ],
      "metadata": {
        "id": "qDb-n818km3B"
      },
      "execution_count": null,
      "outputs": []
    },
    {
      "cell_type": "code",
      "source": [
        "#CountVectorizer 객체 내의 전체 word의 명칭을 get_features_names()를 통해 추출\n",
        "feature_names = count_vect.get_feature_names()\n",
        "\n",
        "#토픽별 가장 연관도가 높은 word를 15개 추출\n",
        "display_topics(lda, feature_names, 15)"
      ],
      "metadata": {
        "colab": {
          "base_uri": "https://localhost:8080/"
        },
        "id": "zi3Q-nP-lTh-",
        "outputId": "0f0b3d9f-8abd-494d-ae60-75b3a297a35d"
      },
      "execution_count": null,
      "outputs": [
        {
          "output_type": "stream",
          "name": "stdout",
          "text": [
            "Topic # 0\n",
            "year 10 game medical health team 12 20 disease cancer 1993 games years patients good\n",
            "Topic # 1\n",
            "don just like know people said think time ve didn right going say ll way\n",
            "Topic # 2\n",
            "image file jpeg program gif images output format files color entry 00 use bit 03\n",
            "Topic # 3\n",
            "like know don think use does just good time book read information people used post\n",
            "Topic # 4\n",
            "armenian israel armenians jews turkish people israeli jewish government war dos dos turkey arab armenia 000\n",
            "Topic # 5\n",
            "edu com available graphics ftp data pub motif mail widget software mit information version sun\n",
            "Topic # 6\n",
            "god people jesus church believe christ does christian say think christians bible faith sin life\n",
            "Topic # 7\n",
            "use dos thanks windows using window does display help like problem server need know run\n"
          ]
        },
        {
          "output_type": "stream",
          "name": "stderr",
          "text": [
            "/usr/local/lib/python3.7/dist-packages/sklearn/utils/deprecation.py:87: FutureWarning: Function get_feature_names is deprecated; get_feature_names is deprecated in 1.0 and will be removed in 1.2. Please use get_feature_names_out instead.\n",
            "  warnings.warn(msg, category=FutureWarning)\n"
          ]
        }
      ]
    },
    {
      "cell_type": "markdown",
      "source": [
        "- Topic 0: medical\n",
        "- Topic 1: ??\n",
        "- Topic 2: ??\n",
        "- Topic 3: ??\n",
        "- Topic 4: israel\n",
        "- Topic 5: computer graphics\n",
        "- Topic 6: church\n",
        "- Topic 7: window"
      ],
      "metadata": {
        "id": "qCA_GA4Ul6A5"
      }
    },
    {
      "cell_type": "markdown",
      "source": [
        "##07 문서 군집화Document Clustering\n",
        "\n",
        ": 비슷한 텍스트 구성의 문서를 군집화하는 것\n",
        "\n",
        "- 텍스트 분류 기반 문서 분류: 사전에 결정 카테고리 값을 가진 학습 데이터 세트 요구\n",
        "- 문서 군집화: 학습 데이터 세트가 필요 없는 비지도학습 기반"
      ],
      "metadata": {
        "id": "dQ9JOkX7mwvL"
      }
    },
    {
      "cell_type": "markdown",
      "source": [
        "##08 문서 유사도 측정 - 코사인 유사도\n",
        "\n",
        ": 두 벡터 사이의 사잇각을 구해 얼마나 유사한지 수치화\n",
        "\n",
        "![image.png](data:image/png;base64,iVBORw0KGgoAAAANSUhEUgAAAmIAAAC2CAYAAAB6ZuH2AAAAAXNSR0IArs4c6QAAAARnQU1BAACxjwv8YQUAAAAJcEhZcwAAEnQAABJ0Ad5mH3gAAHrpSURBVHhe7Z0HYBXF88fntfSEDoooKCpWsIKIYm+IFXtDsXdBiiKIFAsoigU71fq3F1RUUKz8ELEhKioqSBGUDikvr/znO/cmOZ4vIQm5JOB8wnJ3e3t7++5mbmbL7fniDBmGYRiGYRg1jj+xNAzDMAzDMGoYc8QMwzAMwzBqCXPEDMMwDMMwagkbI+YxuLzOBY6TT/4Yn/xvGEYlEF1KPK58CR3SpWEYFUGtEWB75Lb+pkq1hrWIeUw0GqV4LEaRCC952y33hmFUnBjrEfRJdMrllBmGURlMb+oa5oh5DdcyopEIBZNrH4ZhVBg4XWj9wtLvt8eWYVQcGJ6YLONx6BAbJUSxLsV4BSFuxqlWsSeah0C0o5EoPfHoY7Tw9wXiiJm4G0bV+P777+mdd96RFjFg3ZKGURHghEFn4IjFKH99Ec2a/iUVF4YpytvFEi+7jVrCHDGPicSi9OZrr9OyJUtM0A1jE5g9eza9/fbbJS1j5ogZRkVxPK1YLE7Lli2j3j170dqVq9g9Q2uYk8KoPcwR8xy+xOEIRSNhivlQMzEMo6K4x4IVF8cp3Y9uFdYngjPG+pTYZxhGGUh3ZECcMNRdYqw2xeFCQluY3xegINSIt/Bn1A7miHkNS356Whr5A6wBcrWt+mEYVWHduvUUYkfMBwcMDplhGBUAhkdNvdM9Kd2VrEI+rsgE2FETbTKVqjXMEfMYyHbAHyip1RuGUXmgP1lZWaJL5oQZRlXxUSQSoWg00fpl3ft1AnPEPAb+VzQascqGYVQB9ziwwoLCklq76ZNhVA28dRwMBkp0y1maRtUm5ojVAJj/yATdMDaNkrclTZcMo4rEKRgKUlpaWmLTemrqAuaIeYyfaxuB9BBF/XF5Q8VMiGFUjVAoJEvr5jeMyqMtX5HiCBUVFjlOWCxOcQ5w0Izawxwxj5F5W/ILyGeTUBpGlYERKSoqokAgYJUZw6gkaEXWrkhUZIqLw+KIlXRPyv9GbWHegdewoIfw1qQNMDaMSqOtX1hmZGRIbd7q7oZReaBDaBiA7xUKpYltMqtUNzBHzHMS3ZFsPUzsDWPTcGrw5ooZRlXBW5OBgF+GzbBrltAps061iTliHoMKfRDdKWZADKPSQG+cmnyc1qxZTcVsREyNDKNywOGCLYLDhe79rOxsKBf+lWJ6VWuYI+Yxfpb+tFBQJs4rudgm8IZRYeCM4ZX77NwMys7O4xhn0D6MimEYG6FETeB4+WWYTAwvj8WKJTYewP9+3mvuQG1hV74GwMBI1EgMw6g6zieNYFXMATOMyoPuR6eFGSqEys0GLWJGrWGOmMdA6IuLi0vnbTEMo2qw/YjFoqJTVrExjCrAjhe+OVm6nphh36hVzBHzGDQFZ2VmyQBJwzCqDhwwGI7SWjxWrEpvGBsD3fvOOGXHEYtyhcbp8pd+SaOWMUfMY9gPk5mMVQlqA2lBiMdE+RBgzBCceCdoOsOo84icajAMo6JAdWALCvILKBZJtC4n9Al/Ru1gjpjHYFhLUVFY+uNrjYTNisQiVAxnjBUwFmHHLOpWRMOo2/h8QQoGg/zUQneKyaxhVAZtC8DUFdAjsUny/HfijdrDHDGPgfDjo9/FYecNldrA0T8M08Ss5H4qLCqgTz75SFrFrMvU2JxApQGS7FB7rcyGsbkS4Uq4eV91C3PEaghfLcysD6Ml3ZDxWOJ7Yn4Ks0M4cGB/eumV52WfprNWMaOuEykuljmQDMOoHI4tcCYXR+MAXiCTZ7499usE5oh5DIQ/Pz+f/BgsVgtA2dAFibBixSrq2bMPTXxqPLXeoZU0Tbu7TGtzHJthbAzHmDiVBxNVw6g80CFnkD7mDaudBgLj35gj5jUs5xk52RSlGPlqoPYBRXMHccLYeC37+2+6pMel9OZrr1JOejq13n4H5wPKrJTmgBmbA6EgyyoHMSYynxjLuFXpDaPCQFtQmZG3JdE4UKI+WDFdqi3MEfMQcW/YyVkfCZMPTo/EMh77PW5HDEr327x5dOZZZ9Hnn31MkaICygym0c477JhIzUKA2pE5Y0YdJxYNUwSzgbOsurTJMIyN4LSCOZVuZ50dsTjMvxMPdTITUHuYI+YxsUS3oAyKZ8eopmodMjaMw6xZs+jUbqfRTz/9yJoWJX8gRqFQkJo220ocMHfXpGHUZWAnZGwLL7WiYRhGxYHPhekr5Llv+lNnMCvsMf6An5o0blyjg4zhgMFgff755zRo0CAKBYPUrGlTysnNoPTMALVq1ZIyMrNKakeGsTkAWU1PT99AZk1+DaPiwPVCo0CcbQQrj1O7MWodc8Q8BoP1161bJ85RTYGWgnA4TIsWLaLu3bvTqFGj6Oijj6YmTRpK907DBg0okx0xw9icyMrOppycnMSWYRhVAaaosKhIemqsUaxuYI6Yh0gXCof1q9ZIxSNSQ7UPTNYHg3XWmWfR2Rz22H1XvtNhevyJxygrJ49ymjQiXyiYSG0Ymwer16+jdWtYl9iQlFRrzJAYxkbR8cL4S8sKUSOulAdkbLDTWGAvvdQu5oh5DBQgLTGLsYyN9BjtbgzIYExn3phJb7xJp592Jjtke9Hpp59D27Xa0WmWNozNiLjfR8VFYZFreWnSZNgwKow0DPB/ReEwrVq90nG9zP+qE5gj5jmQdJ80A9cGS5Ysod9++4PatduP/L506n7BpdR+/06skDYxprF5UVRYmNAjc8AMo0qw6kj9hc0SLJO98FI3MEfMY9A6FQwGROB9YkC8NSI4DwZjRqIRaYp+/bXXqGvXrpSRGOS8446t6eCDD0qkNozNhzSWYbyEItV6wzAqDWxAjPUHf1g3TaobmCNWIzguWE1JvdRyOPzy88+0evVq2nufvSgSC5PPj9eWYxQIoPuy5l4eMIzqAGNagsFQYsswjErDdsHPDpjzpRfYCSfaPLLaxRwxz4lRLMgXOhCgQA0JO2o6mE1/3MQJdOKpp5CfjVfAH2RnEIMzeclKiGAYmxOF4SKuRLDconslEWcYxkaA3SkJPgr4AhQPx6g4jMo56xLXyaFP5ovVHmaNPcQxFnE2IIXiGCXaxTwHLWLfffcdNWjQgHbaaSf5nhhmUnYcMLSG4babKTM2L/A2cEFhoXS5Q3pNgg2jYjj6wv+7nDJ0nMQ4mB7VPuaIeY4zZkukXra8Ac6XBoyjeeGFF+j0008X46Uz6MMJM4zNEcg1ZDgjM6NUjkWZvNIow9gywRgxVM6lddmoE9id8Jo4WqDYcNSQEwSDNXPmTGrZsiVts802JU6YYWzuYGLkVatWy6zgLOZWlTeMKgAbEQgERYdMheoGZqG9hiU9PT1Dvjnp1N6rtwYv77+wRiGgy6aoqIjef/996tatmziANTmjv2F4SWZmpiPPG8h13TIlqoupQnXrvmFUhFLJ4/9ZXfILCqigIL9kvGViT52TzlQ6BL3XsCVhjpjH+OIBdo7CFEnMI1ad48RUedDUjPmVosUR+mTaR9Rm5zbUuHFjCoVC1hpmbBGgUoEHcf369eWtr7raraLGIhphYxGJUyQcoXBhIRUWrK+1uQSN/zhscjABMiyPLx6jYFqAYr4oFUfDFE04Z3FxBarPNlUXokvRGBVHuLyRIg6sS4VFFIvWNbdx0zAr7TF4MONVYThFXoLzYCzahx9+SF2O75KINYwtB1Qq0OLLol6ngfHASASn1h6n+fPn0913303Lly93EhhGLRIMBSk9I935+Df+6rA+acsXGjCiXN5PPv6YvvrqKxnjtiVhjpjHoCaflpYGT8kJqIFUI3DAkCeWL774Iu29996Ul5sn5/UKnEsDFEWXGnSfUTdJvl/u+4ZlXUTLFucavdTgRezrhoyVls1pmYbDiO0FC+bTgAED6Piux9PcuXOpSZPGiSMMo7bwOS+PMemY5Bsx/J/TU+OdzSgP6I0G6I3qkq7jk0zTpn1Ip510Ct14zfW03XbbJY7ccjBHzGMwwz0GGfs87SL0yTl++PFHOubYY+VNyUAgIAYBDll1OmVQEF1Kd2giQLk1aBqj7oIHnN47vGWr64ivq0QjUUoLcaXGw0pGVYHM4zpi+dtvv9Htt99JXbueQI8++iitWbOGLr30EtMLo06ASZHz8/Oldbm67UNlgU5owPNHlwhhccCmUbdTu9F555xLs6bPoM4HdqJtmm9TJ58Bm4I5Yh4ilXZ2krJystjARXmjeoRHBdfZYKMaj9Err7winy7Kys6q1oqNnmvDwPGYgEZrUby6bOlSevGFF+mZZ54RY450Rt1FnfRFixbRlClTShww931W3HHu+JoGz96icBEKlNAtJ9Q2zrXz0Z9/LqIhg4eyA3YiPfTQg7Ts72VSKep4wAG03/7tJY1h1Cbo0ouyLcJbk5hkHDg6XXvapM8VdQgjXOH68MNpdO6559D5559H/5vxORUVFEiX6nkXnJ948W3Lwhwxj/GHAhT3R6iQax9Egep9FEOA2Qis+Gc5/fTTT3Rw587OHDEs0NVd04GiqLGOsRPGm7Ro4SJ6+eVX6PLLLqeux3Whm/v1oxZcW7EXBOo2brmoV68ejRo1is4++2yaPHkyFfADT++184B20IdlbYEyo5ZciPJRjKK8HasjX4cojsRo9COP0cknd6PHHx9D/yxbnmhdjFBORiadctIplJHBFSRzxIxaAFLnT6guJhYPR4qlh8bvC3KMyiSe7TWv39Br9N5gid6Uzz77jB2w8+V59NFHH3MKLhPrUnqan9p22IvaddjXac+ovUeRJ5jF9Bi8LRkuDvODOJ23qu9BrMYSAZO3QnDxen91Ol9Az4GApuIlS5bQi6++TN0v6UEdDzmIrrj2KnrtzddpwYIFdMopp9CBnTpJ2aq7HEb1gvuJe5Sbm0snnngiTZ06lc466yy64IIL6IMPPqDCwsKSLgLcTzwkaxtfwEf1G9Z3KhsIiHN21Sp+v49OOOEEeuTR0XT33SNo5513SsT7KSc3h4466mjnem9hA4yNzQ/IKhwf6LczjCSxow6A51FeXh6deurJdM4559H++3WiSHEa70mjrKwsuvKKqykYSk84bs4xWwrmiHkM5AV98eiTB9Ul93iww0guXLiQfv31V9pzzz3lwe9FaxTOtXjxYhoyZAgde9yxdDU7X29PfotWrV7JRhGvFRfTtttuS7379KFQEN+yNINT18E9Ume+a9eu8gCE7OCt2zPPPFMcsv/973/ifCPUhXsaicdozbq1jpzztq+OGBFMpdGiRXNq335/1oNt6IgjDqO9995LrtkZZ5wpg/T1ehtGTeOWO12FPYLu1xWgH5hZoF27dnTaaafR4MG30Y47tqYdW+8o09U0bNSA9t+/A/+AAP+G2mm98xJzxDwGffHo/lm1apXjlVUjajiPPvpoWfeyJWrrrbemXr160fnnn0+7t2lDmIwDDdtcrSJWDbrwwu6SxgtH0Khe9MEMWUHAfTvyyCNlHbVkDDqXQbLdutG1114rjn6dgGULzhj0CA/nuuKI4bpFo8X0/ezvaPLkd6h//5vpoIM6UW5uHp151pkyfY1c8y3LdhibEyyjCmsOpaWnJfQ/EVnL6LMIahIOF9MDDzxAJ5/clYYMu4UisXyuHJ7BFZpmvB8FhiJtWcpkVtNj4L1jYLt8aHsTZQcPc+eB7iz/WryEvpgxgw499FARYu1rr05Qa1InDw5lr5696JEHHqRWrVrJoE90Ee3QshWdd8EF0mWEFwequwxG9aMPPsgMBpTD6ZKWJo4LsqhmpoWoebNmtGQRxgG+LG/l1nYNGuoTjPDDGp6Y6BLrgbNS40AfcD3QKh1hx3X5P8tp7LhxdOVVV1KIr12Lbbel3XffjVrt0Jp8wdI3mA2jNoHc+gN+aeUuLg4nIvEfZLOG5RPnxXjjaIwi7HyhEhiJFNOo++6jvfZqS50POYhattxGKoonnnIqJ8bzyudU9rcwVTJHzGMwsD2/IF+MHagW+YEAs/C+/OKLdPzxx0veYkQ5wLBWNzpOCOHzzz6jUSPvo+H33EPb77wT+fwB6tunL9Vr0EDGwOibOEbdBQ6ByouGzp070x577MH3OEa5mRm0d7s9afLbb9NLL71MN998s4wlQ7raBLq0csnfXEN2HEKpHNe07UjoAQL0As7Y2rVr6d6RI6k7V0bwfVe+wFI56nbaaRRKD5GfHTHoqDliRm2gcocB+nhGS4WZZRdOjWNMsIRu17x8ajUKeoSW+Ddef12GuxxzzDFcbj87YS3opJO7Uavt2dawAwkn0s82x+/bsuyMOWIeg37veDwgD2ugglcV8PDX5ZK//qJ5v86jI4840hMDqcZG16Eo48ePp2effY7uunsEtWvbVt4B7XzwwdT1xBM2KIMeZ9R99F5hMGyPHj1YXtPo6COPpksvu4IeeuRhdjZi5Is5rWe1DZyZrKxMMShc8ERszZCsD7geCOvXr5dZ8zHOri3rhLYaYswkxtoZRm2zgdzC2eIlnDEHR69ZuuX/mkB1Sf5QHA5oQJj+8af01YyZdP3114tuIU1OTg5dffXVGxy3JWKOmMfgwZyW5qec7OxqqXA4Akz0/HPP0elnnC6z9sMJqi5DifxRZjQTo8YPVqxYIcZm9erVdN+o+6hewwaUwQa7VYvtZAB/WmamlAEBx9cFo21UDtxzvPXauFEj2nuvfem440+gnXfdncaNnUCRYkcWVDYQauOBCCMCed9QvGpO1kT3Er8b1wDdOxjL0qFDBzrwwANLunmhByinfevVqFMk5Bcyic8FQX5lfstaGGzpfpZgZoGZM2fSe++/R7169xZbqT07sCUtWrSQMmN9S7Ut9pTwGMhNOBylgsLCREzVkfEorEC/zZtHy5Yto/ZsAFSgqwM1NDgHAtbxnTwM2MankzBYXw1NRkYG9ebtNm3ayLgwgHgvukYNb8HDDfcOrWKnnnoq7dVuHwzdoFNPPx176bmnni15aCKtrtc0GHuFec5qqOL+L1TXoIcwYk8++aTIP1rD4HTh2kD+cS1VF3CMYdQVUI1XOVWZrQ0R1WdInCt5P87+np577jnq2ac35TWsT8FEudyNDFrWLRVzxDwGFzgt5GMHBoOM+UEuE+dVHHWOEERp+PCnxk+gs886iwKhgMytpOmqgjt/zQMKgnNhxnV8K2/QoEF01FFHyX4oMPruYYcP6NiJfxcrCP9KVZLkpVG3EZni+6qO1Y1cI919rz35vvKD2u+jy664mFatXy1fbkAaOOia1i0zNYEvQlRAYfJxLT4u8sXlSFQCvCL5N+o1QDd9NtfcTz75ZNmP6wij4QZxpgdGXQJv8AKZlJtVR9/ohXViaZd9XqG65A5ff/MNDR8xnPr07UP169eXMWwAuoT9bh3aknXJHDGPwcz30WhEavPSi1JJWVLhg1BGWXl+/PEHChcV0Z5t2zqqw/+5hbWquI0ravtjxoyh1157je6//36p9QMdcAxHTGsq+EG67g7G5gHuN8A9RGjQsCFl18+TVk6ZIoIfjFdec6V8CgnOGFqDcH9xnIaaIhrhCkKQZQ3nFDmrtDpVGfxO1RG8RYqxYeecc06JvJcXDKOuoDorvSvRmLR8OyJac3qsZcDXYO5/8AG64667qHGTJk48FyhZd/4LemSOmIdAdGDM4lyTDxdyTR5CXwl5V4GFAZAQKWLn6GXqceml5A8EKeBzPu6NsCnoR5+x/Oeff6h3796yfu+991KjRo3EQKOZ2A0UA/E4N5bG5oveS72fek8RdN8VV1xBv//+O7377rslDglQGUXwGpxjPSZGhk7x6WrCdOhwAOgDfje+QPDHH3/IAGLoBConCIaxeeD0aqRnpDsVrUSoAfUttWMcMBH5Qw89REOHDqXmzZuLLqk+/RcxC+oxjvMVoyCcJawn4iuCOmEwBFCWmTNmsBL5aNvtt5VpItCsjKDKVFWgmDjXd999RzfeeCOddNJJdNlll4lSwAjrUs+jQY01grF5kupeYhsyAbCNdYwJxFhBfP7ok08+kX3qfNWEEwZQLnQHYimahGXVxb5CwBGDDsIRmz59On3++efihOlAfL1ehlHXgZyqTYlGohtUZGpChNWWobL/4IMPih61bNmyRIdUn/6LmAX1GAgfZFwcsUoCoYTiwBBikPJzzz5NZ511pmiNvH68SfYPBzsZoCvyzTfflDcg+/XrR0cccYQYGpzbjMx/F/e9xzpk4tZbbxVZgVNSUw6Ygg8Wo5u/JsHvhg5///33NGnSJKmoYE410wtjcwRyi4q1DH5PjMeqKfC8wDROd911F51xxhm0yy67lLQ0/9cxR8xDYKYi/F9hUZzWry3AFsEtq6j5EkOHf9EYffrRx7Rtyx1o++13SrSCxSke4FCB3JAPgnazYAnnKxwuZMVYzYpxO3344RQaN24s7bzzzqKkUNbk7kjjvwcqA6gIYAmZwIBavMDxwvPP0OxvZrFsOq/AR1kMS+cm8gZUZgoLClmW8eCGYiA4+6qDVHoCw4WxLE899RTddNNN4oTp9TCMzQGoiGgMyzbkOVxYSJn8jE8L6ncbsZOdMoRqQnUJdgYfGMcSX+cYOHCgOGEHHHCA2BnYGCz/69jTxGMCLOw+ClB2Tg5XRxBTOWFHxbuIBfnpiU9R9+4XslJxbv7Kt65BKRRVyCVLlkrzcKtW29Pw4SMoJ8cxMtiHAGODpfHfROXAHSATcMZuvrm/fIpkzpwfnLRSxfAWPMzxajvOxkXx/HwAThjmCkNLccOGDUt0QoNh1HncYgozwGHt2nUUYX1Su8DS7Ik+QV8Q8JFx9Lhg2Ev79u1LbJDpkoM5Yh6DmnVBYQEbkeJETPlAQDVIXz7Xyt955x06sNOB1KRp00QqB3dahFS492Gpef7ww4/Ut28/uvDCHnTOOedxzSRDFAZpzMAYqYBcSFc7L5s0bUb9BwykocOG0a+//CzjIFXWVN6qijsf7bbAuoxVTMgmTuFO5w6Vobzj8HLCPffcQ7fccgs1a9ZM4iqbv2HUKVh+09PT5RNH4eJi1uVEfDXh1ifoLgJaxIYPH05HHnkkHXbYYRJnerQh5oh5DJwbtDKtXLGCtyD1G5d8FWIs161bL90ip5xyKm+XvnmCfXDyNKQCaTS4j3vxxRdpxIi76fbb76SDDjqYy4c3v0KyRHkNIxk4X1q7RcA3RlvtsCMN5lruXXfcQX8tWUSR4iKRRchYVXHLKyoMbrlFGTDGBPH8jyv2nM6VVkNlQd4oN47VJb4mcQf/LnRH4gP3qhdWSTE2N7StS2SXQyQSlZbljMwM2VudQHcw7kufA2jFHj16NO2zzz7y/Uh0Q2qvi1GKWV2PgbHAQzwtveLjrdT4oAn5lZdflpn0+/brS2effRade+65dNVVV0kt/euvv2aBd1raMF+ZGjE3asSgHOijh3HBwOP77rvX+UCxyzmEbqjBMYxU4AGKgC5yyM2OO+5IN9xwPQ3sfwutWb2mxBEqkcUK+mSaHkEdKyxxLtWH9evzZZ4zOTP/h0kpdZ8ep2heup6Mez+Oc87jfMZp9apVNID164brb5DfB50w42FsrrCkO0vIPMu63++joqIiCRDpCqpohVD7Af1FeOKJJ6hx48bSJYl90CHTpX/j45tTnffBcAEFWLt+DR3auRP1vPZaOr97D4r6QuL9liWGEF69JauWr6A+PW+kWwffRttsj9d82QjyLtTWMXbl6aefph13ak1XXnY5ZWVkymSXMEX4Mr0oHQdViMWLF0vz8P7770/nnXeeKAPA5KwgECgd+2IYGwMyBQcGNV/IJSoFzz/3fzIYt0GDBiVyJMuNiBTk1O1EoStjwYIF9O2339IXX3xBf//9t3SnfDL9cwqv/psOaN+JKL0edeq4D+262+60z777Umbie6c4H7owAfLdoBwuVD90Xc4fK6a1a9bQ0CHD6MyzzqZ999mX/BiTxodq3oaxucHVFBZyfrazjEfjMfr2xx/otGOOoikfvE/Nd96V0uOYqJuTsClgKU8cVXHceqS6hJawiRMniq3Cm8YyrIB1SB01Y0PsqnhMgAVPBte7ZnItT9QhqBDkWDRGY558krqd1o1abLetjI3R4zBouGPHjjLh6ho2HG+88Qa0QI6DIqD1Sw0lwldffUXXXHMNXXrppdS9e3dRCjhiCDCi4uCZkTEqgT5U8dYTnPl9992Pjj76aLrrzjvFkVLZKw+tJGg3BuYXevbZZ+UFEnzHEduQWXxwfsSIEXTueefSrrvuSiNZ7u++Zzjtssuu9Nlnn1G3bt3oTj4vnDfNV8+vRiIZjYfc63phUaEMKO58yCG07377k49/H17xN90wthTwxn0kGqF01ltM6irWCOK9CSIOPYPOQY8QsI6vsmDiY8w9aG9FbhxzxDwGn4pBo1P9evUTMeWjxmPZX3/RiuXL6fCjj0pM3sqawvZCDSDSwQiitvHeu+/SanbI8HkItzLAwOFzLC+88AI98sgj0k8PJ8xdO9EAzOAYlQFyA5nR1lUMxm3bti3dx45SQX6+DAhmaZR9ils+0TUCGUVlYtSoUfLQxsSxGCCPuYYuv/xy+bwWBsrXq1dPWsXQ8tWkWVPaiuMOPewQuunmm+Sh36FDB/kiBOY5W7p0aYn841xlgX2qb5in77bBg6nzoYdQl67HS7lxJH6fBsPY3IFUYxqY4kgxV9gTY4vLVpEKoboBnYM+vf766zRr1iyZ5gYTMOM5Yd2R5WOOmMegHQvfyEMrVUWAUYDAjhszlo47rgulca0FTcbub3ABLJEWhglzsvzv888TE/Q5hg6tEmgl+PXXX2nYsGGJ8WAbGpbkYBgVRWVGnTHIHCoLZ555JjVp0kS6wfFgTvWQx8MaThICHtpwwDDD9uOPPy5jSfLy8kryVLCNluUIjAfHO9/IQ2uzX5w3fJQerWnQBXwVApPOAuThzicZ7INDCB3Za6+9xAlDxUdaCESfnHMbxpaAWAjViRK1QCzrsyyrhug6g0+gzZ49mwYNGiQtYdAddzBSY46Y17ChyEzPEGdM5D6lUYBioCslKoMp5837ldasXUvtuZavqUWQXetOt6Jf9u+977606K/FCWXwSYsA3vbae++9ZYmWBEnL5zZlMLwArazoysPywosuolbbt6KJTz3lyDU+p5KQb2mB4rBuzVq6mWXzxzk/0L0jR9LJJ59MOTk5IqeSV0LG3fLq2A7eZgcMPpIYE96P9AAtxMcdd5x0a6JGjhdaUCFBOqe2Dv2Axjj6hniMZYEDiJa3M844k4IBGI/SVmLD2DJgmec/vODii/soPTFdUemYMEcvKgL0BkFbk9FIgJrR9M8/p48//lh6abKyskpsjrFx7GnjKT4K87M/VhChnIwcEfNUFxyCHI0US4hEi+mRh0fTOeefQ+nZmVLjD/odp0sH1gM1WMFgGmXnZdPif5bwuYppypQPpXvmyiuvpGOPPTaRxhkTpgbLMKoTeaAj4IUPDpjE+OxzzqHly/+hl55/norDhRyKZGxKcTRMs7/9jvr16UOnnnQy9e3dm+rn1aNQ0PmaAwLygry6HTEsw6xM6aEM8sWc2jXOg5dMSnXBCfhQPV4a2JcrKBgb+eefC6ioqEAcMWcmccc4wJCMHTtWWpXPPvtszgdjWZAn8gmV1OgNY3PGz46XSLF8+JgrLL40CrNNikbiFOB9jlWBTlTMaYJzpS3aqMhg+c0339DECROo/803S4s2dBcVIyyNjWOOmMdgcGQxC2phAT5xlBrUVPiJLw99TC0BUEOHoSgBmpTKJqDGwf+W//MPvfzSy/T8889JtxC+42VKYNQWkL2r2Qn68aef6P0p7zuyzAGf6sJ4sFsGDJBB8ZjPKFTBqV3QBenoQSpF2BCc/7TTTqOLL76Ya+i9af78+Yk9DigPujIxpcuFF15Y4kwaxpYMVEdfznLUqGLOlxvn2NKhA3Pn/kQTx4+nIYOHyNdZjMpjTx6PCXKtPZMNiDhbZSC17kQt47VXX6Vrrr2Wa/vBEkFXsA0D4g7IFgOj3570Nq1atZIeevAhaREA2m8v+RtGDQF5Q8sUuid69e1Nk999V7osXnv1NXpv8rs08r77aNvttiM/6wb6GEU+KyCiUdaPjb2Bhbw0wLHCmLGBAwdINyXeqoROoBaPAf7z5s2TNzS1RQ36laxzhrG5AvsgNgOtwCzWkH1s5+cXluiHyHwU6WLyUX0co+nkWFecewlwPHRqwvgJNPDWW6nZVltJD47qn1FxzBHzGBXcjPR0tjUQzhQCykqCxz9exUdz7g7bby8GJ7lrBPlAOeCwIV8MMl7ANf1HH3mERt5zD11+6WUyHg1GBfno2DBTCqMm0Ye8dE+wPA4ZOpQf1uPpnbfekm7zvHp5jgPGadAihmVFQLrMzCxRIeiBkFi4ZVy7KDVu1113k7GSGECMOcnwJjHmJ+vbt684i9AzlFUdMsPYEoD8o9KBcWFwsrANuxEOF4kt+fqrr+mLGV+w3fmUPmfbM+vLL2XuPsw5iZZi2Be1OWrHYHuwjbzghGEKpZ69ejlOGOuQTPnC+1T3jIoRuI1JrBseEC4O09gnn6BDDz2EdtplV1gTFtLETgZCzfUOVo5CevTRx2TW/Hr1dULM0oRqeJwFaipR+ubbr9kBG0l9+/SRmr/41VCCkqZn53hTCqO2iMWjXClIpwMPPJCmvj+FWrbanpo120r24cGtIl4RGf3s0+m0+Ldf6KRTTmZvK40dJwzd5+PKOVb0i0PTpk1kCozrr79eKij9+98ir9YD1RV3GUxnjM0BtQvJqNxrhX3OnNn06iuv0sscXnrlFVr8x2+03fYtqYj1J1IUphUrV9BfS5fS3Llz6cMPP6QpU6bQ1KlTZajM8uXLRR9QaYHOwiFbuHChfKUFYzC333571sWEHsrCdKey2Mz6HlPIQn7EIQfTjT2vo1NPP5PiPmcWY6CXPhaL0Ftvv0nz/1hAV1xxJdfKnTEzEGhVKBCNokkYE7YW0vgJ42QQ8nXX9qSGDRvLflUAtIYZRl0ANWhFH959+/Sl7Vu1KmkJg9RikH9ZqPyPvO9BmvPFx/TEuDFE6XkU8Mk7lHxw6mNhMGCIotGI6BxerX/77bdlWpfcXEyR4RwnDqFhbKYkm3C1GZgy6aOPPqLnnnmaKz9NqcvxXWnHndvQ/Pl/0nmnnkQffDyNmrXeidLw8os/xpaFlYSz0tYvvHG8ZMkSafmCg/bXX3/JZOL49iqGGmBs5e677y4tyRsbMmCUT9lPP6NawLgWvC0mA41dQFHUUKzPz6fJk9+h0884ncLh4hLFUoVyjAnGe8Vo7do1NHLkvRQpjnKtfgA1atRYDAkCulXMqBh1CZVNPKwxlx2+33j/qFG0aNEimcYizLX1qEwrkRq3LqwNF1Ak5Kc4O22JWPm/PByjEqdp06axjk0WRxAVFVRaUCYEw9hcUfugw1U0YP7I6667jn744QcaPHiwzJN3YKdOMjlybm4u5ebkyLAA0S+pwEuVRvRBh7ZgOhl8a/WII46Qt/AxzhITJ2NycHzzeI899ijRb2PTsKeQx0itH/YCwu7IugAFUCV64/XXab/99qcG9euzAmxYs8B+OGwIv/8+j52vfqIMl19+BWWkZ3GKUgVCMKUw6hJweNxhp513ou5ck7799ttp2bJloh+wBRWhPutH/vr1UB5Rp4oAfcAYmFdeeUXGiGGqCh17qcEwNmfw3Fdbgm5IyDo+CXbDDTfIyyjNmzcvqQzhaxdIAxDHVkjWYaT0bUq1JTrOUnUE480wATP0CJMfQ4+QBmmNTcOuoMdASEOhoIxLSQbKg0GRn376KZ144okc4yiB2zioImBw8fARd9EVV15OhxxyMMchXamiuI8xjLqIVj7atW1LZ511Flcq+tOqVasSezdOwYrVlBfKIH+M9aICzhvOBb3BG5JoCUO3ioJ9hrElAFnG8x+tYvju8Jw5c2jkyJHUunVrR855H5YI6mRFIlHprWHLkcglNWgAAPIJsNtuo1NOOYX2228/c76qGbuaHoJHfSweoXCkGB+/520fQazxBXwM0EdX41uT3qSjjjySGtZvzLWLdNYZv9RsoFT4nAvCxPET6Pnnnqd7R46itnvuLelCIQxWLp1h3xwxo64DWZXu82CADj6ks3zEe8jQIbR23VoZzwKZx4Pf7SRBrnU7w4+KB9f+UXNPJClN6YC0RVxzR34/skEa98STNLD/AMrLq8fHBrhChLeKQ6wz1nJsbP7EWN7lyR+JiZ34ae5P8o1HTKqKFit5IxgtW6x7WmHHlErpHI85LgOIYyWSPHgJ/SmxPxwQuXr1Srr99mF0wgldqX37/Uu69o3qwxwxz+FaSMBxrhxxR2Ow89YjXhOeNetLOuqoo9kw6PiuhOHhf6tXraJhQ4fKsejKyc2pl0jntITBETMnzNgccOTVqY2jOxJLjFk5/PDD5RV4dcSch79jEBQcK8dLRQbNYVqP5/9TiD7S/jx3Lldc7pXxMY0bN+b8NB+c2z5AbGwpOLbiy5kz6bd586hXr17iKKmuOcHRHw2xKN7SD5fYGWiC6oNWhFT/MNUFJmDed9996BCuPCEedsqxVUZ1YY6Yh4hos+CyayWfKfLJOkexsEPwn376aerSpYuMW1Hh1/Fgv/02T+ZcOvLII+miiy6iLEnjNBMbxuYOKhcwEscff7y8/v7ggw+WGA43ahCwhM5IF38iToAtSeiOpv1j3m90z9330JBhw6jpVlvByki8YWwJuGUdixXLl9MTjz9OPXv2ZCfs30Ng/k1cuiU1D5DITfRPnTGMJUMlac8995ShM9A/OHXQXfexxqZjjpjH6AdR0fyLGYzxfS+w4M8/ZbDywQcfzM4Z+vedFgEIOMaM3XvvffKJmE6dOpU0MVt3irG5ow9wPPC1Zt29e3epxT/22GNSU4ce4GGPVjI3+K4kuhXdID8EpEX49Zdf6H42Hn1696at2Qnzo+ae6MLXWr9hbAlA7qEnL730Ep119tnUpGnTf1VkkoGThVZhZ2hLaVqxTRKioifQpdGjR9MOO+xAJ5xwgqR1gqNHOLfpU/VhjpjHQFTRGhaCQYARYqesmJ2u8ePH0wUXXCAGiHdIdw2Ef+LEifKq/R133E477bijxJcEE3xjCwAPcTzU3dOtXH755bRmzRp6/vnnS7ookc4NnCoYCihVyR5eh3FBPOY5Gjp0KF3c42L5VqvsRvc9H6eGxHTI2NyBDKvMYxqYP/74Xb7bCq3A+K/yUCcK6QJwqsQDQGWmtLcFduiJJ56QLn18rxV6qkB9VJeS9dOoOuaIeQjENMaXOFLINXsW3DAmzfPF6Pdf51KcDc0eu+/JiYKsVAF5ewwTTUJR8OkVzOESiXHthA2JYWxJuJ0hrGMzEPTR9ddfQz/8MJsmTXqd9zg1bjzs9YG/ct06rtTAKATk5RcoGPbBKK1cvoL69+1H1119Le25z968n49NnMY0yNiSKHWA4vT8c8/Q8Sd2pWB6iHwB1g0VejeIi8PUOw5XjDUiznEYKoMhl8gtin1oJAgX07ix4ygzK5POPPssdsLSJK3TG4M8TJu8wBwxr2GDkBbE9/Qcw4BB+i+9+BKdccYZvMuZmPKP+fPl1WCMlzn//POllQxvumA8jBgtyL4Gw9iMcRyvDYPUsBPdJUOH3k5ffDFTZsF3O2EAn1iRb+ZxVJSNBrpTYpEYLWcnDJUXfL6oXbt28lam+zNfGgxjSwGVD1TelyxZTPvuu5/YGci4S11c8L6E8YA++UUXSvUBx2A/bNPECRPk5TIMF8CEr8DRH21Nds6jwagezBHzGAi4CjSU58svZ7HByaA2bXaRfdOmfUiPPvqwTL637777iqLoJHnWlWL8N8Ar9WlcAckQZwxfjJg27SP5jEokEpGuEugOdCPElRp2wWQ8C75YsXb1Gho6eDBdfPHF1HbvvYnYiMDQmO4YWzpfffU1dTrooA3sBcZRlgd0ojgSJT8qK0gLFUHPCztjT098ivdFZMiMvJnPfxg6gPxNl7zFHDGPicWdV4XRnx9lBZg06S065+zzKFIco/vuu5emf/4Z3dSvD7Vs2VLSQ+DViGgwjC0Zt6yjCyQrK5t69+5DzzzzDP38888lg/fxqSK8tIIuFH/AR+vWrqNbBwygM884Qz4qDsdMDEtJXuaMGVse2ko8d+5PtM8++7jshSP+ZeGk8VFGRjo7YkGZjy/KeWF02FMTJtC6dWupx0UXUUZ6hlR83Jm5bZJR/fzLEcNNTg5Kqn1VCeXn5TSVloZUaao3lFeeje1zkyoNi65Muoc+yKlTpsoAyMyMLLrjjjtl5uN+N/Wl3Hq5IvgQdgQcV1Z+qYKSal9dDKnKmopU+5Pj3NsVDTVFqnN7FfhsEpzt0rmAaiuURaq0CIniyzp0pkmTJjRw4ECurNxHv//+u8Tj1fmVmImfbUFRYSGNGD6CuhzXpeTNYnTp47uV7nwrG8orY0VDVfMwjPJwywmmrJj/xx/UYpsW4oBtTH74SE7jrEeKi6mgIF+6+fHJozdee52W/bWULrvschkSg7zQCibO2GYFfmCqUPdJ6YjhBriDCkCqOAQ9LlUa3Zd8jAZ3etR40eWApaL7UCNGy5Kuo5ZcelxpQJ6K+zw4JhXuNMmk2pd8ruQAdIm6A9b9Gdm09K9V9OG70+QjqvcMv4uOPfooOvGEE1jwQxQMYaZ85/t3QPPCOVBu97b73KnKUF4c8kJwH58c3On1GmMdaBrFnV9FQD7u8ybH6bo7jbu8ul5eSJWX+zw1Cc7nLpdu43fouqbToPsUPVaPcy81ONtoNUIXHj4aj+3StO78N4Y7raavyHFKldNC9DlABQJBZ2qL7bbbjisqven++++lP/9cSMUFBVS/fmMqyC+gO4fcRu322puOOr6L1O4xRQUqMWkhdsaSrqH7dyAk71d0v3tfcpx7W+MUbLvviXNfNpRdw6gqGBOJOShZmmjRwvnUrEF9lnfMG+Zq+U0sNiChW/gPLc6RMKaFYbsUjdP7k96hb+d8T5ddcxWlZ2ZQWnoa26MgBViXMliXNq8WMOgX7Lx7uXng44fEBk8TfWgoyc2RWEeaitwgTaencK9jqet4gAJsIqDmC6Fx4pyHph6Lhxm8dffxWhbs0/mCNK2uaxo9l6J5AE2jpNqnebn3uUnet56Nx1GHHkEN8vJoOdfmOx9+KF135VW0dfPm8lo9/wr5qZo/lqnKDTRf3Zfqt+gxepweAzQO+Zde8w1/j667t/U4Rbc1DZZllQW47y8O1Xje4lCah7sc7uO1DO79QMuhpNqXHKehJsB11nuZqjy4LtjWOCwRh2N0WgfVRRyP/ZoX0mg8gJ7wFm9jC/+V/sbkY8tDy5LMxo5TNnYed/7udbc8OgFl5usXD9MPc36gQYOGUV5GDq1bt4patd6O9mjbjs477yLpokw1Lkavu15jrOv5dD25jLoflFX+VDjHbZgfotz5AewvL9/KnNP474EZ8aHWEa50TX1vMkWLwnTsCSex3Gx8PDFkEeLIEkizZn1F55x2Cg3ofxPN/f1PurFfX8rNyZQXZliKS2zo5kcqxwu/o5Z/y4aPgVJcxUrpiKElBGCOEjUEiNeHm25j3X24PvSALnGMxiMvfeBi1l4cX1hYKOfLzs6mfK7pokUMM82vXbtG0qG7AZ9ZwHFYx1xD6N7DAF7kgbT6Nfnc3FzOI18CPvC7du1aidNy43gtCwLikQ+mitBtCKGWHcfoscnxCLruBts4h/7Of5b/Q+effS79s3QZdejYke64+y7KZoOCsWMZGRl8L3wULiqkQJrTFIxrhHhcE5wTQX8fyo/y4jcD/D7E4ZxoLcQ5kV5/B/LC9UVrG+KQFuu4Prje+D3IA/nhGuAD5HpuBI1DPjgOSwScD0s9H86BJdBzY4mgTjPIzMzifJ08EI8xcz6/M+4HvwsgbxyvLYTr16+X8mka7NNz6TUGSIsyIw7rek5s41i9TkCXXoMy4BoATN6L34w3YRGn5UXANcdvQ0A5cb/1OiIO5cc64rFEHvgIr8Yj4JoibZhru9nZWSXnxpuGuIYA9zz5Guk1RFqsa9nc1wjruh/gON2v19mNO1+g59Lj9Bxu3NvYj1ZxzHMU96EVPE7fffsjndkNbxpHqU+/XtT9oos5JeYhgz6X6qi7/O5yKiq/CCijll/TIqhsa7yuu8utMuyUNSqteGIoGaRHmWEgAdIklw3oMlU5ywP5aNlxnP4GxR1fmXwrAmQVvwUgf702XqG/DUv9LM/GfpOm0aWuIwDdVrCNa4o49313H6dpgF574M4L6ypfSnIeG0PT6XHudTk/n5ufoPTU2DF0WOdDaPvWO5U4T0ryeTQfXvCGj77++hvq2uUoOu7Yo+n+0Y9RJj8Xgvwcxn59O1LPiYC8dV3z0nMky6Ki21iWd71wvMbpOtJrvkDTy+9nEI/rrOt6HEBaBCcN8iiNd5/bfQ53OTQNtvV3a5x7v64rGu+mZD9Ha0qkkHUul+6XvPjgDY7GJn4kHB5MsbB8+fISY46HOAoIY4F1ZIAlCgwlwVJ/GIwC1pEW+Wm+zgUqbbLHEg80pCssLJKLp/khHmWNRh2DhXikV2cBxyM/BKwjD4Bz41iAcqsBQxqUTcsANE/EYZ+mQRwC1oEuEYc0MIbIQ6+DlkXXAZaFRQW06p/l7HxlUlZeDvpd+EY4Tk1uFhtGNpxF4UKKB0qPQdlRZjgg+C04B34b1nW/nhvlwFJ/EwKML45HWgRNi/xQftxPvS+IxzVCnrjmiMexyE/Pg3U9P0B65It4xGEbAce79+NcWEcanDtcFJFpBzL5WmB/ETvYwSA+W+PIk5YX1xB543iUAUv9jQDbSIOyYb/7eiBe92u45JJL5PMfOF7jagK9Bn///TcdccQR8ro5zo14lTts49rAOUYcAq6jllPvj5YZ90GvlcZnZ+ewQ71O8sN+/E7nAeTIit4XvVY4FvcE6d0gL1xH5IF9eg7EqbONOKTT/XocgvseOmVw7heOU9nBEvGIQ74A6XEsygYQj6KFQkGKRB2nNB7lPMK4v1y+DEwHA8PD15CfDeIIcX44HkstB8C5EI/zYh/AfsTjtwGcD+XHfsRjGwHXAWncv1P3IZ0+h3D+YKjUGEr6OGTN+d0oP/LR+4pj3dceaVBG7MOx2Id1TYP0Gq9l1Th30PRY16Xmg6Wu636N03X3Uo/VbYDrMW7cOGrfvr2cH/uw9BL9TfjdPXr0oO+++062cb0QEA/9QYURZdb7j3uDY5EG8VhHhUSnBEJFBmm0QoN8VC6QXp+F2EYaLPW+43jnvju2CM9LgPR6j5GHO2i+uo5j9frpb3Qfp+XeQKb4VsQ5QN74MEpj+acAvrjilA3HqwxjHWXDcVhHJayoCDaV7WxBEf3y6xxq3LghbbPdDmJ3MwKcMacLhtLk3Hod9TogfyyxD9dDz6N2Sp8xao9wTvwuHIc4rKMsOEbzRl54rmgcnoFIp/nhfDhGnz2IwzYaWf788085B8aSojEB+WWwXcFUNlo25NeoUQPRL+QBu4g8kBaNDCg78sA6ZAPH6D1EuTU9yoN9ODeuI/JDwIfVUV4EyBCWyE+vOY7BkiPY0eV1/pM4fjYfetjhdOnll8k1kzg+yNHKBHrBsIThwAlRKPw4LHVd0yn4cYjXguh+dwEBToq0CtZxo5xCO0oNxws1SjyI9VicF/nhQgGUC8cA7Me5gS6RHvv1OFU2BXFIi4C8ANIjXo9DgLAAxOtv0HWUDUHjgKYB2Ldq1Qrqcd758hZYh4MOlO7IWBytQWxg/axsrFRyLjYwQM+PMuG6QOhxjfC7tZz4LRAsgPLrtcf5kBeEBQKE9FpOxLuvAeJ1HefTNHoevY4AxwGkQVq9bqpIuo7jUX4VZhyn50SaMBtSPE0wBQEGVWOgKFoS0KKBdDgWaXEOgG3ki9+H/LCOcmvZ3eVBGqxjH9JiHccjzVZbbSXKizhNUxPo70F5Zs+eLWXBOsDvRZnxm3C9cB0Rh7Lp70LQe6HXVfdrHEAesSjW8SCFTLHOSI2rVB/0Wuh10WN1qdcE2zgG5QaI12utIA9s67FY1+OxrmndvwW/Fdvu+6TyCTQd8kQa/BYQjzuyjeKMHzOBK4gr6aprL2c94t/pCxJX5DkPSVpyXs1H0XNonFyvRDlVPgGOA5oO2+7rrOXGcdBNBU5vjMsJOcZr/5wDV3hx3Z1rn1weN3pttYxIizj3ddF1lR3ND/FYIj2WGoeA4wDiktc1P03vBnG6TN4HME9bvXr1ZB/KgeAlWnYsZ82aJcYV4PxaBv1dWCKobiEO65AzxKtc63EK4pFG5UJ/O9YRsI78EA8dxBJoGiyByhH2I+AciEPAObCNtCpTWNc0mofGu8G5RU5RNt61as0qev7pp+mCc8+jnLx6nCJh4JOOQ75aFpTzm2++ofHjJ9COrXemX3+eQ7379aattm1Ffr7EsWJ2JlG2xCfEHB107CyOx7aeA2WBXcL1wjocIfwmbMO50d+DY9xLoPuQF9K7y4e8sMQ5AfYjPUAaPT/SYB/WkRZpsM8ZW875Ju4ztlDRx7Fy/RLpIL9oYNI8gd4fOY7jod9YhzML1GEH+D0oA/YDlAMB28gH+7Sssh8F4Twx7g6faCsqKqSddt6ZOhzYUfaDfzlimjkyQ6bJILmeIBVJ2f0rrR6v6crLCyAdAn6YHqNLjdM8NF633edR3OmV5OMqQqp8AOL1JiDXAn5wnHLksXTbsGG0X+dOrDLOce5jy8oLJO/TddwfrOt+LBEUlMEtEFhXkA7xqdD83edR3OfRc7njNE8tW1nncB+bCs1P92t64M5Tz10e7gdIKnn2EpQN+oRz6xJl0TKXVZ6yfpNeD11quo1dg4qSfL/c917BuZLLoaQqB9IgYF9lyqlp3b915O330JJFC+nu+4eTL8TXjp0dODwoJ/brubCd/Fv0/JrGjaZ1/15Nmwr3PiyxXQrWcQ6s/1s+k/PV45PTKanK8O9zlk9yes1T9TSZsvLXciLgmiGkOr46Ub0BOG+q8yWXVdNs7Hdgvztv4I5TkvXAfYzmA3A9sK3yiKDXCeuKO3+sa1rdTkbzUYfm76XL6LFHH6UBAwaIY4bKvT5LkFbvK9Zx/bB87/136fXXX6FLL72MK20h6nPF5fTG5Dcpu+lWFIohE64QcBFKJ26tHHoMzoUAUOZU6H5FywpQ9lTHaf7ue6HHIWDdnY+ixyFerwtIPoduq/8DkHZj5Uk+H9D07rJi/B3Q9BiaJMtEmf51BkTKDs5MT+ZG48sK2O8OiAPJ6RCw373PjTsNhEzX3Uug6xrc28C9z+sAcP5kglxLxlgWtFLghmhaJfk3lBcAbqaeR5fYp/m49+kxejzi9HqmCsmk2od1zVsD8kSc5o+l4k6HkHxscnDnoQHbCMmkOt4dUHPSdDUN7hPKrOXQdf39ZYF9yaE8UqUvL1SUVMcilEVF06ZKlxz0viuIQ9cKWp+05VzRtHqsyolua3Bfd3e84o5z54fgprw4NWR43uL+l8anDppGf0NySE6vJMeXF5LTK1jHOVLhTu8OSK9yjOA1qa5BqpB8vcpC07p/g8ZhqYbSjXs/goJ15KPndsdB3xE0XtMgaD7uvFLt0/2Idy+lmy0zM3Fu53ckAwOPgNaqhx56SFrk8Qm9ffbZl9LS0PKkDgf/Xj4ceWBGfS2Dm1T5lwfSV/YYve76G8tCyukqI5Z6D3Rb07jzKis+Gd2PoOn12E0Ch7tCcnn+VSJ3AYA7sR6s8RUN7mPdITkfPU/yuRRN415qmlRxisalCrrffezGgh5TVtgAli80aaJJUverM+ZO794uKyi6rvHusif/Dk2HeAQ37nSaNpnkfVjXc7iXuu4OyfFu3OncIRXueKxrnooeW1ZwK2pNgnPrMjlsrDyaTnGvp0LTVyTofUkOyaQ6FgFpsUxFclpNh6WeJ3m/OyTjjsvNzWEjku48yzQ9/iXW3SH5PMnnBu51oNup4vV4DRqvy00J7jyScadLTpNqX3JwU9Y2lvq73GmwXl6oCdznST6/Bi138roeo78t+feVlTYZ3e/OR0Mymp/mhaDHu/dpHEiOTw5usA1HrF79+rLtHoyuS+2uw3i6fv360c4770y9b7xRhmeIk8ihuNjpXpP84YvhXPhLnNP9G5O3k4PkkUDTuuOSceen6XTdvS85DdB1TefedgcF65oOv92dxn0Oxb0/OWharCvueA1KqjjFnacsE/EboIk0KLrujqss7jw0lEeqdMlx7n1Kchol1XZy3MYo6xiNc+/Dqt4IiXWlcYey2DCvDY/Z2D4NbsqKB5XZ597WOCVVHHCnT7UfJKdJFZLTlUdF0niFu4yVDUpF99UUei73ud1hU0mVpwbMuC9js/g0Gqckb5eFpqtM2lS480mVprx4N8npdDs5XilvXyqS07u33XFK8j437n2p9ntFVc5Z3jGp4t3pywqpqEyaZDZ2HHCnQYCjhfFKGKvGG0jhJEyANHDEnnrqKXrhhRfkG8ZHH320xEuvOdKwPcrMzJAljpd9WCu7GOWiZdOQKi45KOXtU1KlQXDvc68nh7L2VYRU6aqSj5J8rIaUjphRfeATElCceAyDH+OqC4ZhVJKiSNh5uYP/pGMFymQKZfyHgCOm474AWrU0DmPI5s+fT8OHD5fWryFDhtDWW2+d6BEIwgsQ3w3TwqRnOI6YqpAGo3YwR8xj4lzjkM9JsBEpEfXKOdGGYTC+tIDoEoiJEvlRn5dtw9jSUecLb8ULcKz4Dw4YHLE33niDHn/8cTr//PPp+OOPLxmSgTHK0gXG+oIx4ljPzsrmpY8rNJynqVCtY46Y5/ikBmKybhibBr6R57xOn4gwjP8g6JbEIHzYFkwivGTJEumCXLp0KfXt25d22GEHcbbguEnQBgCGfTdx3Nbw8erYGbWPOWIeA2EvjpTOl2QYRtUoKHTmLjJdMv6rQPb1jcgI25VPPv1E3oY88cQTZeJqTEKqg9J1bDLQlmNVHczhCD/MnLG6gTlinsP1EVYa9/wkhmFUHnzQ25m00TD+e2gLF/j999/pzjvupOmfTxdHTL92oBUVrCM4lRZ3xQUTXhdTYRFmtN/QWTNqD7sLHgMViLEzhjnzSpqINyNbAsVH7ctL9AHjftAYRjJ+dsJgV1CxSXwRrEZVSQdGb4zKyHNF0ymVTW9sXrjvra5rCxjA1xUWLV5E07+YQXu225N69uop31NW58txvNDy5Xa+cKx7olJMJi2KRH6cC6eLwxVwH2PUJOaIeQzXS5yJXBM1j81N1PEggFKrEdKHRFlomrJCMhVJYxgCvkMLYwN9SkTVhkKVJ6vl7dsYVT2uPDalPEbN437OIrjfkMT8Yc8++yyNnzBBll1PPLGkBay8IMgC23558zgthAH8vM158/8lf8bGcd8fvTebijliHgNhR5dKIJj6czY1RVWFBsfgYaBhYw6Z7kO65GPKQtMnp9P1VMciToPx30Amc4VxcRuMGrr9KmsVkWfdj0HRWE/GfSz2a55YlpUv4jWN88JCxX44jkHQ47F0B6NugQq7+17hfiMsXLiQbr75Zom77777aPvtt5exYJgsvCLdi3qrnTzxPceI45zVsu+F8mgoC92nS702FUHzdofyqGh6976y0lQGc8Q8BjcJD+TalHi3oKgAVUZ4NG3yMhXuhwKMpp4LylMW7iZ1PHTcuI2IBs1Tg/HfoFSP+J7XsDoly1lZcod4leWS1ogUIF2yrKu+JOOOwzoMcKp0qXDrD5Z6XEWPN2oW9/2BvGM5depU+a5k9+7d6YILLqDMzMyS5yxkxv38TEXyLgzUF2dexlvWsCKlQGWzPJAGqM5UVH6RToPmUR7u9OWB642QrFdVxRyxGkCagytQa/EKVVIIzfr162nNmjXylXwIjwinS4awWrLJK0iD4zFRIF6TTi3MiaOShHHtunWsOBH6888FJecrOYE7KaJ5H5ref//tt5J9iMNx+fn5MikuAtbxG7Bu/LdwjMfGH9rViktWIZ/Lly/f8Pyu/bqC/RjLs3r1allPkaQkDyxXLF8hMo31fxnUxMHYByOEKQqSHThFzpUIehxaD3Hdfv/j9w33J9IbdQu9J7jH6/j5ec8999BHH30kk7S2bdu25I1I7P+XrFQA5B8MBSkjI11jEktvwVnkpyWdDuWBrjiVrNQgDf5U7mEDUsmupEsERbdVv2KufSVwFKJxDoDzqL1y55UKmay9Auk2RuA2TEBieEaYBezFCU/RMcceTc22bcExqL04+7wGwgGhgpD//NNcuuuuO2nc2HH09FNP0dQPptL8BfNpl53bUFooRHEpFBs5/issLqKPp02jbZtvQ/4APH+iV15+iRYvXETt2u7JT/dSpxLnWLt+LX0w9V3aoeUOVMQP/alvT6bttm9FAwcPona7tqEnxj5JLZq3oMaNm9GSxUvordffoG+/+Za+/vY7mjHzS2retDFl5dajPzn/0ffcScd2PUFKEua8Lrv0Upr2wYc088uZ8kCaxuVCDXHu3LkbPJgQUJaqPJyMzYMZ/5tBxfkFdMhRh1GM7zvGX4LquuWoZCBMnjyZ3n33XZoxYwZ9//33NHf2HNq2ZUv6+Zef6bVn/o86dT6YE8dp5coV9OzTz9D06f/jtF/Qb7/9Qju32YllMkg//voTPf7og3TUYYdLWVnBRBe/ZDlev2oNNWrYUL66gQaJcWPGUjE/0FvvuCPLPaYliMiAbMh7GueVm51NUf7DlwX6X9+Ljjv2WArIGB+nG0t1/Mc5c+j+Bx6gqR9+QPN++ZV22XEnVtUgrS5aR3163UAnHteF/GlB1iwfvfXmJFq9chU1bdaMIrFoSUURvx956lJ1y/AOXGs4IwD3EffzN66Q3nLLLdSpUye67LLLKC8vT+43nnf6MfHK3RsnHdIvWbKY3nntNTq3e3cKZmZTgGWTfE4Fu7ruteQGOYpgytg4rSsqpFXLllNWRqbI+Lr89bRixSpKS8ug8ePH0tK/FtNOLK+xaJwicXTp81FoseN/cJ7mzJ1N0z//jFq23JYGDLyFDuncWYYqqKwirFq1St4mXbZsGf3zzz/0Ny/z2Tal5WTRzX370h677kq5DfKkcHoMQjwSo2KO/N+Mz/n432j53ytpxnsf0m5t92Dd4HtTHKY/5v1O383+nq8PUU4mPrPmo4KiMN3VfxC179CB0rMyJQ5U5Qpai5jn+Lj2keEMMq7SLao6KqSLFy2iG27gB/GJJ8kgz0mTJtG9990naW4dOFCWKkQANY7RD4+mMNcKUOZShY+T35VOH9TL/1lOL734Cq1bs56Ffzk98/RzFAlHaD3nAyUqZkGGUuLI//1vOr3GD4Ftt91Oxjm0adNGvvqveUUjxU7mjHNsMd10003yuY5hw4axM3kXjRgxQn4PmuhxnPHfoIgffJg7SfQoIYel0lg9QF9astO155570l577UW77bIrfTz1Q5rz3WwIJEUKipw3oLmCEkhLo/07dqCD2DHba++9aMyYMTTv11/ooYdG0wPsEK3DpJsb6As/7KdPp1mzvoR9kVo3auqr2YA4Rgc64qOZX8ykK6+6iub88APdeGMv+owdMuxDmvXr1olxcxtM6MAff/xBQ4cOpTPPPJOuvPJKWr16FT32yCM4TKYr4FQlxyBuLlfMFi1cKHHyqRvknwi4Bu78De+Bg6WOwfPPP0/333+/PPNOOukkGQeGeLfzVbn7U3qM3l84fKgciAYlFhI8IMqO/rzf5lGv668VW8Cnpy+++IKf48PlnEXhIiooxBczHBvx6muv0HHHHUMnntCVjj++K/3881z666+/6Icff2AnNULr1q2V3+AG29CBkSNHiu7de++9NOi226j3dTdQ0Oen9avXsN443+OAo4txdqeccgp16dKFzj3rbLZhK+iP+X/QAs4DoJUahYtx2R966CHq27cPTZk6lS6//HJ69ZWX+VHgVFT+nL+AbVYURd8kzBHzGAjIOn7Y1hY4/59/LqQdubaN2hVav1CjalC/PnXr1k26HOHwQEAhS/Iw5r9gMCRLlTCVM6mpJJRZQQvArFlf0ZWXX0N9et9M337zHd1z90iaOfMLZCgvKvgTDxoMFO18yCF0YKeOdEDHA6hjx47UtEmTxIPCX9okDMPEwCl85plnaOyYsTRu3Dh67LHHaOzYsfTSSy9Js7A+kHCMsWUjLQGJ1tjqvN8ib4kAYwdd6cC1XDhj+++/v3yvLzMDtW9nEk3oC84OuYYTk89yWFBQKA/4nNxcOvLII+nAAw90PsyM/FnuIfvQndmzUbOfLnGT33mHKxbDpYU3wseyMEvLyItsiIffOZx69epF944aRU+x/CN/iLoaY/fvx/bXX38tn7XZhWv9TZs2pfPOO4/enfwuDRwwkAYPGUxLlvxVamh5ic/kSKvB33/LkAMEGDt0fULnUF69Jkb1otfVfY2xvmLFChmQv2DBApkbbKuttiq5/rjvm4KeByAv2eY/FQkvUMnBaaEnv/46lx68fxSNGnU/P8vHc2SE4x1Z1hZBgFaps846g8aOG0MTJoyXLwWgoJgY3bEh/36pBb8J+gr78PDDD9Ojjz5KA24ZQPXr1aM40rOzhO/b+FgHkfaiiy6i0aNHS+UJ9nnW11/R77/Mo6A/QGE+TzE7qjjHnDlzpGV8woSJdOutAyU97NDaNWvkhzl2iwu3iRfSHDGv4RuETxxBeGoD1LRQW8cnMYYMHkyff/65OF+T3nqLevfuQ13wTbKEYqKMqL1gDBm6/v7ihzcMBOJDbARXrlzJClMkNQB1gABs4wEHdKCx45+gh0aPom23bUFHHHE4bbfddmKscHxxESsaHwID9B4biDfeeJP+jw3OB1M/FIPw/vvv0+R33xVji7KgxgGFQc3w5JNPFqftgAMcx02NpD6ckpXS2HJBTR73u7ruuMpOSb4cIFdwmFBrxvRKS//5m+o3aYynPb33wVQaff8DVLhuPX3/zbd0S9+baP7vf3Bl50+pLTfhSgWcHLSCq6HFEgHO0po1a6UL5QN2vjAb+q2DbuXa/3GOc8dpZFxZcZR2aNVKdKx5i23IF/CzI+Z8Y1Nq34xqnxoCGKv//W8GFbATBX37bd5vtNtuu0lN/vobrqdGjRpShI2d/sYddtievv3uO7rjjjvo7hEjxPDffvvtMhbpLX42aDrDG3Bt0doPucP9+vTTT/l53FtaaPr370/12IFIT08veSvS/bzdVHA+5IlKjdd3WOUTYZttt+JK+EHU+eDOtO++e1MoDQbBGWf1wAMP0t133y3Xg80l1W9Qj5o0bUSNGzeQ6TbQZYkrgLLLtUhxPfCbsL9nz55iwxYuWsjn3E6+p1nMdu2aa6+m1954Q659/fr1xdFFZWnNujX0yquv0IdTprLu8XOA80rjihdOsXr1GrkX0GdoXf369aSbWMac8TbuIV5+2FTMEfMYUTj2sP2QLicmsawZYADQCobm1XZ7taPp06fT+PHjad6v8+iqq66ii3pcxGmi7HAVS9GgCJ99+hmtWr2KPvnkExF+CH6U41/8vxekW3DFSjTblgJHbt5vv9Iddw6jEXffRbn1smjvffaiPNRGOE9WQ2kRA+npaWKstmYl2Kb5NtSocSN52OC8YXbW1q5Zh4smxgrGATUctIg999xzEl5++WXpXn3yiSfFiCAdjBgKKgpqbJGIU8D3F93RJVSTKkFH3E49ttFShIrHCpava2/sSXF2hgpZjzE+7Oorr6Ls9CyKFISp3a6702mnnELnnXeuOFSoVLzwwgtc0XidDUhQZBl5TvvoY/keYP9b+tOQYUNp1KhR9NLLL1EoEBSDK+n4/HiwB/hcGAIAvUSLQXpmhrS64RKUlFP+d8oL44OKCRyvPly5GjZ0GD36+ON03Q03UP2G9al+bj3p1kWNCS3ScPgOP/wIGU92332j6L5775MKDwK6dk499VTJV/M3Nh1cx+SA5xVeAHnwwQflg91wgg855BC5x9iXHKoKnyqBswJbhOcxS3pJHP738k6j9Fmsu7vtsTu1bdeWtm3Rgh0Y5/yY4um6666l66+/XmQf8ukMQcCBzn7Ev8TP/osvuYR++ukn3rdhaXF9oLfID627OH733Xejs88/V6ayjXEeN9zYiw4/8ki59tAZ8Oqrr1LXE06g0aMfpu4XXigfSEdvDFrEMFvhHlzeZUuX0gdcAVswfz698sqrlMdOXOPGTfhUfD69uJt48cwR8xh48jGuVvsI3RQ1e7khcDAoL774Ir3x5puUz0q/1TZb005tdqZttmpOi/9cRC++9Dy99PqLlJ+Pj8gSLV+2nF576VV6euIz9M7779OiRYsoygKXxmW/8qKLqf/AAVy7biRp9QHRpHFTGjDgNjr40EPp2GOOoVvY4IS4RrH7LruRPy2Tmm+1LWVlZ8sszhhs3XaPPahD+/3p0IMOYoetHQt2Qzr22KPpuGOOIH+MrxMbjIb1GtDAm/vTaaedRsd0OZaNXBdO04WOOupo6tr1RLr4oh40eNBtVK9hA4qjeVtKZGzJrC8skEG1LHTOQ7oaUcOIluA7ht1Ob785if5e8heNuudeGv3oIzTp1dfInx+mhnn1yZeWTjE2DDn18+j7ObM5/SAactsAum3QIPr++x/ohl430I1cK/f5ghRl2UQl5qcfvmeD+wDttvvutDUbobETJ9Aeu+8hD/DsjEzKy83l38XrvFxZsIbWrF/Nx8eosGA9rVyziuo1gM7BSPEzhZfOaBdHB9HqDeN94WWXclnupKuuuJoeeHg0Nd+GjV08SmnxAN0++A5Kz8rh0/lo7JNj6BJOe8VVV1KvXj3p2muuoWs4YNwlltdee610/eOaGNUPriucBgws79OnDzVs2FAqnaig4n6qI5bKIasqjsZAxrEepFA6V2jk8xR6j2Gbqp5/Ms5EsZBVdqT4pA1z8tj5y6ZBtw2jXn16cWX6OWq5dWveG+U0EUrLCFIwjZ/j/hjFInEZYyylw3AArpBEY8VsAw6nMU+OpRYttuHrV/qWJa4nenxu4UrO5VdcRt999w1dcsnFdGPvXvQgO1ifT/uEK/vp1GrHnSgnM1uuPa7tr7/+Kg5wx0M706g7h9Nzk16VljPoa7QYrdnE96aRjDebPPltuuvO2+WYO++6m9LSM/j3xSmUmB90U3WFr9cm5mCUCS7smrXr6dTDjqWHHn6I2uzfVuLdA969BF4/agfw+nGbJ06YQOecfQ75WXh++sEZANnp4PZSaz799LPkLZbrr71OBohivhoI6SOjH6JHxzxBH7/zPuVlZNEp3c/hnDd8UECwUZPHeebNmyfx+O0YhB/wBSg9LY0u6t6dsnKyxSmcNu0j6ndTP0ivjF1Zuexv6nTYIbTkn2U0nB26MU9PlOPRSoYuy3/+/ocNSmKMEOeNc738wgv0xBOPU+Otm/GJ/BTkAHfX2PKA7CKMvOc+WsnyPPjOIcRCRcE4ZhXnBJtw2/Xxp0voTMH6fMpfv54aNGhAgVBI8kctfebnM2jK5MnUf9hQx8iwMSgsyKfl/yylBlw5wcM5GEpj2fXTl7Nm0AvPP8dlvpdTQk/8Is8YczJlyhR5swvnasY16xO7niBvTPpDAYpyxqNGjuS8o9SjRw96++135A26AbcOkvGTV59/ET0+cRyFsrNE5lFu6B/yfueDd2n98lVSeRk24i466+Ru1LpNG3bMrqJBAwZQ821bSP7RcLFU0NCFio9Euw09yoT8oGsI6uQZVQPXUtF1LPFsxbMQLyLtuuuuco31earL6gKiLfIad5yXGf/7mvpddzW99f6blF6vEYXYUdcvHFXXM1T1CXIJGcJ2pKhYeloyWHbRi5IeDFEs6KeR942g7VtuR2ecdgbFWECHD7+DmjVrRmeffTanXy1vJ87+4Rua+cVn1LfXrdTzhmvpgQfup7y8xhvIP95ixjpa0PBjsMzO5goOgzFh6HrHC2IAeogxmHghYs+99qJlC5fQky9MoLYtW1OLVq3p249n0tV9b6CIDx2bMVq+dCnV58pQWrozqTTOg5fZzj/pNHriqfHUYKumhHFwoCpX0DTMY/BAxVtLNeV8uYHAoB8cb2Cdf955tP2221GPCy+i6667jo49rgvtv1976tnzRrqw+0WUyTWFX37+RcZjYaAvjsUYllsG3CKCheJjrIoj4P9+UGB77733psMPP5wOO+wwOoKXh3Y+lENnmvH557ScnSmMN9uzXTvaukVzeuGlF+nl116luT/9JH3u6KuPRGOUga4n6DDnB6OB8WyL/vxTunwwhxMGE+t8Zjino+7GfwHMS4d7jgdsdd13lWMsEWA00P2JNxD/5gqC6C0Cy/z2O7WmzocfJunZNeQ4vDkZon79+0stWroT0fXHtXi8DXw16x3sEfQFBuPHH3+UBz/0Ay0hCEcceQT169eXde9nkWlw6aWX0apVa1gPL6CffppLN1x/gzxHgGPgSnVPdIDj0NW0vmg9G7E76fyzz6RXX3mRwtEirgiupZkzZ9KixYvld+AcGAqALkgYI3SLQvfcS4yHgROm3TdG1cH1xnWUsUS8jjGAkK2vvvqKHn/8cXHCIHM15fSqPKI8GA/s1QNU9Qq/C+s4Z0FhgTg/aIjLSEtPdI/66KBOB9EubXaR1l64JO3a7UMzZsykYcPuoBHD76YxT46RF0iQF2QdHyzXYut5cO3QXfj559Ppgw+mUZMmTal+/YYl1xRd95BtHA8bgmECeAMfL+Og8tSKHbQWmF6Ka/zQ4RDrtb4whmOGjxguFSKcTwNeaLu65w2UU7+evIAqqat4Pc0RqwFQmy6h9BnqOSowkI4olyE3PYv8LDE+Fha8wYXPXPh9qK3AUBAdygbinHPOSRzjHH/wwQfLVBPw9p0Hs9OFo2mAbrdu3Zrat28vAQLeft99aT8OO7bekYoKi+SNFCjcgP630I09e1FPNjDnX9idDjzoIGl5iPHDYd3K1VIrQw1t5do19Nzzz7Mzd4g4hV27Hs+hK9f4u9Fjjz8mTfpQFndZjC0XfCoMBoRvuBNRTbdd5dcd0PqEF1PwEOZNmWevYdPGjiPGuoI0mAcszMZsXWG+1MiDidYz6EpOTg5tu912nLsjnzAG6NaAjuyyyy4yWBgtbnvssSftvNPOUrnASz1Im5tbjwYPHkqvvvoaG+1hVK9efY53Kj9wlrB0o9vorsSYz4cffpQOOrATBdmYoIsR53yCjT6m00A5EGCUMD5Jj8VS1/Fb1GEzNh29tnhZA+Og4Hzdeuut4vDrPtwTXUfwCsgzxgniDPoGsle4fw8CnulSscEzm/djSAmnYntxAO2+2x5cNqTzyzAUyPDtt99J9947inVhiPPyC9sfOFbJ10fyFj31Sa/OqlWrEcvbjoMLOcYLEHj7GXLduHFjmjhxIuveHrLtZOd4UOIUc3q5H4HEfeG/tWvW/uvc6PE57JgjKZCOVnCc0QlVwbomPQQXdtXqtXTCwUfS408+Sm3230tuVE21jjlK59RqMai915XX0OiHH6Hs+rn0ymtv0pzv51D/W/phSBZLAiadRIkdcYAA4thIcVhq/WNGP0qN6jegk88+Q2oCAEKpSgCBTo6DCCP+toG30iUXX0ItWm6LBLIf4EwxnDsSlXFoeIHgsXsfoPsffZiK/XFatW4t9Tj3fNqdnbeMnFwpD/JDiwNeRb6ox4WcZ0sueoACnGdttDoa3gNZQrjzzrto/T8raOiIYRQNBihEXNtGgmq875AvPPAxmWZRfgE14oc2nC0YEVRg8ILJRd0vlO591IIx2WO/fr0pk51ETE6Znp5BGVlZtH7dGsrJzqJrrrmOsrKyufx4A2u1tEShdRddL9CDlctX0HbbbitvXGZyejFOJQ0V+B+6hJE2cSoKh+nK7hfR4+PGUnpOFst8adckdOON99+hJ+9/iHZpvRN9MvN/4vDVq9eAhg0ZQs8/9zz9/scfNHjYUOnSxMsCb775plOZSVxfTCEAw3XsscfSFVdcISXQFgWjYuA6KljHfcF1xQtHeDOyb9++4hirUdeAba9AOaAhGC+Ix/QXM2axLbic3v3wHcps0CTRNcnl5nLgme0VkP+zzjyT2rHTlZGTTUWRYorh93MVYrdd2tCZZ5xdIm+ihxywjiv6xazp9OsvP9JJJ5xBl17ag5584gmWbWessto4XPqxY8ZxJf1xcbrQABJKc7pFkQY6vd9++8n1BlhiH8qAVrqp0z+izAhfJ7aF30yfRdfceJ2MYMMlufzSS2jJX0ulUQIVFSkXH5vDut27bx9q3qKFxOEyVuUSmiPmIbiwK9k773LwoTThmXHUes892YGAAjr7vUYFEAINMKCxXl49eajj4QCBwjgRpHM/GNxo7RhNw0jj/s6ZLlOBPJEXjkdNHF2OqM0n18JQFqRVY4KWiLzcPDFyMIjuOY20fAiIQ61emr6hAIl4Y8sD9x5hwIBbKMbO0bDhd1GcKwdB3gfTwTfeSVgNqKypAYXMIw6yhXjgvMruoGmx1HQqnwAyqkbWrUt4ZV9kPS+PcnNzHQME3UjxU5A3Ao7/5ZdfZJ4zpNeuGpwfoLx4rV71APuhc/pWMlrAMCYMeqvb7jIjHyxRZtFV6FUiGBVD5UCvJYZTYGxS8+bNZaJdvf56TWvi2sKR93EtAiLJxaNvvvmObrjsEpr0HhwxjBFjp8IPhwPa5F150JqNaSVwfSC/uFYA25BV2CLEq76obOJautfxtQt8VQUyqrqBeCxxDuhA8nXF8bj2OI+eA/khSCnwH18jTA8DhxENF5h+CflAV5AnljhOy4PzYRut3/I2N/JDXlXAHDEPwYXFvEFdDzuM7h/9ALXt0D7hiNWMw6DCoksFwqWCjSW23YLpBsKneQBNq+tlgWOQF47Xc+G45GOQDkEfXFjXLhE9r8a7y63HAcQjDsHY8tB7PXToYFq5eCnd88Aozx0xN5ArlU/dRlBZ1Ljk44DKJkAeijst1qVCkUiXDPa7y4V81KAgDkGNhKZxlwfHohy6rXqkcXpe3Y/83c8DpDMqBq4hrh+u7zfffCNTguDFJwzx0OeaXlO9vl7jdsT47PTll1/RtRdfRO9Nm5JoEWNZqQFHDDKqvxnXSOXQDfZBtoFey+R0iEecyjv2YYkAsA8BuI/TdS0D0mDpRu+dptF8Eaf5Ih7pgB7vPmdVMA3zGExompeXQ8WRIoonvudVk0CIILDuAFRw9IGeLJCKCiPSIagglpU+GaRH/uUJKfJ3C7QbPZ/G67aG8vI1tixCIUxtgjWWSaceW+2oTGkAbh1yyxvSKm4ZVtlEHIKiaXSp68gT6+XhPg56mJxe9dqdt5YVS41X3PuAHoPgNoTuY/6r4DoguA0+1mGM0aqpxhtLBLQ0oisSs7BjYD5eYHK3MOKaIo+aRE+H82JOLjhFGCsGNaqpoqgsoQx6Hdx6laxfmg5LpNXj3euKxmm+qXDv0/TJIA7lcKfDcWr7cJ8B1hG0jAibwqYdbWwU9Mvj+1rOK7WQ+JpTQLdQqbAgqMBrUKFLBfajJpecvrxjgO53nzvVMapkKFOyIiK+vFDRshhbBvjOHLrfvMQtXwhu2XXHufelSoPgfqAD3Xbrnz7gNwaO07R6LgXrCJqfbiOoXiFel5qH5uNeatDjEG84zykAQ4wARwZT9eAD8eqAIQ5TAl199dUl4wHl6yJ8Hd3XVu9NTZF8KrwUAjlAmbVCUxNWyX0N3NcBwR2vpNqXSi41nV5n3UZwH+sO2JeK5GOT81D9St7eVMwR8xwfFcZYSVl55Sv3NUxZQoJ4dygL3VeRtFUBwuw+R0Vxl0eDsWWTnpUhc9F5S4yNErrjnTEnaqGwLpsS4vJyCVI6O50FUDlUw423euVYLGWOb2Qgu0ryctYT6RLbbioi39AjRdMnh4pSmbT/Jdz3B98j7H/zTfT34iXkg3PG8jD1gw9kQDjmrIIzhrF2+nxzX9PK3o9NxSmyng/DRaLyghMXQl5ywtcbZO+/Ra9aQfZoT0KAKZTA183Zg2sLJ9fRu1R6AHiPpJZ1XsHbzGUVvixdctucZPTeuEMqyttXFcwR8xiIWYQFPe5jD5r/WAycHTWACooKTXJwkypOKSu+Imi+G8tf95WVxjB8IT8VhQvlCQxd8ubxhac7XCwYBOdhjhYQvFrvfPBeH/Cs04nkbtwPf5laRVY4cB6cg2w4eWCHkz6VwUiF6kmyviSv63Yy7v3lBXdaY8PrpvLw5Ngx9P6UKVSwdi3FiiM06oFR9NHHH8ln1w466CAx9m4nrKxQM+Bcjr44osa/A84XyoBt3sVr3mhTQr5VxvGLN/zVuJ7o2nUCtv8FR6F8KC+ygdOryeR+yAafQ/TUOZe2XAL39UaoCJou+VgNSvJ2VfHi2hsu0PwL5FaxvCTkxzCMSoK3ftfhY7t42Mpf9YKHPPKWyS4TXU1FxZg8Mkbz5v1Cfy9dRrO++JIWL1hIPnaytEsKb/fKMmEIcPzaNWvo7TffZKMRpwjy4yWmj/jhhx84/Ehzvv9R1jHJK76dh7co3cbDqDvgnrqXuG8jR9xN8WiEvv72G+rZ8wZqWL8BDRwwYIPPFCHUFbTs8BlQLoxjk/ktN92HKBOcE0HlWnVFnK7E+l9L/6IwV67+mP87rV/PTm3Meblrg+M4vYRIlNatXkNfz5zFhpX3cyjme7Bi+QpaxvngI98LFy6UD/BjuXjx4pLfXdcxR8xjnJoIUbHHY1sMY0snNyeX6tWrJ8aklOqzJOgawQBmzKKN19Wx/fATj9DylcvpueeepZ/n/kSffvwR/TLnR+mOwtciBg8dTLcOulUmjETAjOkYq7Jm1Wp65cWXZJJi8vuoKBKWubkmPjWR3n57Mr355iR6661JNGnSJHrvvffE6YPRMeom6lTAYcas7Mv/+UfiJ01+h9rstit1O+UUSk9LlzigLSXV0VqyqbjLgHX8DoxtAjp7vFeoM4UP6L/6yityvuJwMU0YN4GKi8I0ZMhttHjJIhox4i6av+APcbjmz/+Dnn32WXr66aflpYdneB2VGJR7yaLFNObhR9kJg7MWk4lWL7zoQpkiZPhdd8k3OxHQMvnQQw9tNjpljpjHQHhYHeuEQhrG5ooYwcICqVWzMiViqxt0N8ZlBvTZs2fTz7/8TDNmzqA169awgWCHiveFuGKFGf6h0wvmz6fvvpstnwzDRJ39+vWTWdPx8EeXTygQdFrtuLzFXO7CcBFdd+111LPn9XTTTX2pTx+EPvKhbcxNht8ov8+oc+DeIDz11FP07rvvUjAxaBxjxe4cfhd17NiR+t98s3wGB+nqLFy0ICZDDoWknM5LZN4Bu4cWOLy88Obrb9CK5ctp2ZK/aOqUKaInRUUFXAkp5jRIDacpzpWZr2WyYVS6UE58EB/Xmr04imPyb3bkpNufy44X4fDmKj5XNOr+++nBBx8UBwwBzpkctxlgjpjHQMD8iU8l1GH1NIw6iRo1faDjoSvb/OcFGH6CVrFPPvmM3n9vKs2d8zMNv3MEvfHmWxTKSKNiTEET9FOMT49WhYYNGojByMurzwajPjtUmZyLX2r2MCrilPFfgJ2y1ju0oWHDbqdbBvSn3n1uLPne5KBBg6SlpS51ZRmO7OH+4Ru5RWzwZ331lbS0YPJo7IuwMxAIhCgntx4dcshhdNDBB20w4XVdgd0Xx/ZwmfkXUWE0TPlF+SzrLMueVWoc9BpCf3/58Sdxlu4fNYp+/PpbGsHO06yvZ3EZ4qzX+B5zOoWCfP1YXzrusz91Of54OuW0bvJR/OaYKR/58aVFpQXzouEtavm6RCRGV1x5NV1z3TV06WWXccXoBrrwwouoV88b5HmhQw1QFn2e1DVM8z0Gzaf4DIoDC715Y4ZRYbQlGUs4OQEYOdYhbFe3M6bPaMx0f8kll9BVV15Jh3Y6hPrc0JtO7HICBdnoYj6oQKJbB29Ozp07l0bdO4oeeOABmjBxAv3xx3waO3YsPfroo1xMZ/4xfLNy7tyf6fLLrhADccopJ1O3bqfSySefRKeddhodzwZnwYIFYjTMGas7lBruuIypunvECHG+2+7Zlrocdzw7ZXfSh9Om0fTp0+nhRx6hLl2Olxn06yal2hJjJyY3L5ednlCpBmGletWpBFxD6GvHDgfQwEEDacjQobTrLrvSCSedSK13asX6xJWsANwvSUxxdpomT3qL7mOHbThf8zFPPklLFi+hV159ld55x5kuBImRL5xitIL17dtPvlxw4403Uo8eF9ONPW+kSy+9WL7qomWoy5jW1wDozy7pk6/jAmEYdRHozbp1ayk/v6DkIcz/J0L1gXwLCgqpb5++8kCfNeMLapBXj0L+AEWLwhTmfegOwbivQl7H4Ozzzj+PHawL2ME6ibbeeis6+ugj6djjjpHPpCA/lPm7776TLk8EjCP79ttvpfvzyy+/pC+++II+/vhj/n3r7PlQh9BKAATuk08/pZ123onGjhkrH1LHWD8YfnRFo0VUu5Tr/P3j8oXYFqFCg7LWRHlxHVHBmP/nAhozdhw9wpWUHK7s7LL7brTVVs2lxSw7K4MrLSheRCo6bdq0oSOOOIKd2y7UuXNnyszKpG222YYaNKgvrY44BuPOnn/+eXrjjTforbffkjBlyhQZc/nue+/SW5Mm0f/93//JSz51HXPEPMd5sKO2C7VGv7ZhGBVDjYUaDLQueznAGB+0f5Jr4CPvHUkPPfQgTXrnbWrUtAkd0PEAatKsKe2x557UfOvmXGt3KlfoJmnYqKEYiPr18ygtLcgGozm1bLkd5eRki87DUHfr1o0aNmwgvwOtZDAkWMcYGITu3bvLB7itRazuoDLH0kdHHXmkzJJ/2GGHygel8ZUH3CvcS8iBTnqN9VIHrm6gbWH4Ji8XTl4MgXMCGfQaXB9cl6222oqG33M3HXbE4XTcCcfToGFDeF+Qtm/VhjLS8ygvt6HoHkpbWFBAzVmH9mRdQ+vjzjvvLLrRoUMH2r99e8pHNz7n27hxY7r44ovpwAMPlHR77LEH611L2m3X3ahdu3bUvn0HuoKd5fr160s5pBW9jt0bxbTec3z8cA6x0NsgXMPYFPDR3mQnrDpdMn1Ew4H6YsYXdMuAgTRk2DC6sW8femfKezR24gR5S07GmyTOjOknJr/zDte8n6OHHx5Nd955Oy1f/rfscwOj05aNA4zJvvvuSwcccIAYkN12242Pe1g+hmxOWN1CW3IwE31IPlEEY+7MDYYuMexDUOOu63XV2AOnUsO/TWXNpUDVqUvqxOr1gKPaslUrWrh4EX344TR6+623aOz48ZSd1YDefGMyNW26DVdYGpGYSU6PrxZ8++03NO2jadIC+fJLL8sbknJtOW9MfQEw/gtfM0DrGJb/LF9OS5cuk+989u7TR2YrqOv3BJjme06AcnIzKD09gwUIl7s6xd0wtmzcD9FV69dRw+xciuJFKHbIqrthTGYYlwd9kA4+uDPdcccwuvXWgTT4ttto0K2DqC8/2OGkLV26lOJcw95x911l8HG9vHq0zTbbUefOh9L553enRo2acm5stPXxylkWxcI04p4RNGHCBOkuQXjhhRfkDTzU+DH2TI2XUTdQ2YPTFWQHDEvx1mWJFQdJo45NnaXUecF6wdp1FGGZjOL1Xo7GhMWJ6YernZLrGAzQLjvuRJ06dqT9Onagju05dNif9tqrHb3xxuu0cNEi0en2B3Sg3ffdm775+huaN/dnWrJsqYzHhDOH+cNknCbrH8A0M+jiR5f/T3Pm0o9z5tDcn+fIVBjkC4i1RctfTbT+bQo+Vn7Tfo/AhV2+ejUdefgBdP/do+iQQ45hX8wZuGgYRsVwavFxGnzvHVTw60Ia8uAoCvpDrEdokeCHfCJddaBdhliqcYW+Ig4tYSPvuYcO6tCROhxyMEXYiAXZgAVY0X0BJ60ev3D+Ahp0y0AaM24M+dJC9Pe6NdT1mGPp2YlPUbNmzTZIi/Ng3It2n+h4UsOoDmCHIGcUZYeEtz7+33S6/pIL6YMPP6D6zVqwDLPDAvFlRfLSnVRnSMriAts9e/akyy+/XCol4rSxTrjTwRGDM/zT7B/o8YcfoXtHP0iROOYcm089evSQAfs4DkMF8vPzpTsS2y1atJCl5ollXaSuu/GbPahlq/duGEbVwYMZXRHuB7R2EVYneFjDGcKDWx/eut6q1fbUsElj+UZfiGvc4jzhjS/edofs3Bw68OBO5Od8UN4MrsUfecQRMknl3XffLfMe6cSTCDAoeh7DqE5URxy9UXvkzJknnwsq2Vf9uuRGdQMyjjKobuHcTZs2lZYuoLqHNBrSgiHW/YhMHZORmy3Tw0g8H4MhC+jeRxg1apTo16233ioBrWWoQMlwAj6P8zvrHtYi5iG4sCvXrqFjjupED458kA444FBrETOMSqIP0NtG3k4rv/+V7nr8YUoPZbAp4Qc5+y38fyKld+D8eJijVo/enECQjRmcpoQuq/vkTofxbEEYGzYYxZisMnEs0GcA0sHoqFECWDeM6gKtYPgH2YPzNfPbb+jis06n995/lxpt05LS4iGKwS7VkC65gfwjoBULH0mHc5XcIqz6j08c4WUdfDYsg9MC6IxWzlR/dIk4oPkl61ldwjTeY9B9gjdsMJeQaINhGBVGH8K6joeus+Esaorkh7rM7J0oQ6qi4K0uGBV+AMjEmWhBwzaMAJYwCFhi3AvikD8cOMOodhICqk4PpklBT00oDW8pYjecGFmpcVQf0KqlLWFloWVG9yMKrA4VHDi0jEGXkteRp6bTZV3EHDGP8fliVJCPTzjgoYxm4LorDIZRV8FDFONE0jMzpNaObWhSTWkTDIQailB6GgVC/IBPjE9zP0RRLqTDJ3CCnAZzIiEEWf8RYCBgeNQZ03wRsK88Q2QYmwJkVWbTxzKQ6CZk5wvjw2pSl9yIHid0RnUiGSlnQk/weTHMg4ageuPWIawjaF7QKcSrbiGvuohpvccUR9BsWjrw1zCMyoMWo4L8AqnN89M0EVv7bNSAbTSBYXgMyx9avaA3aKnNzs6SaHwtwP2tSRPT2sO8A49BnRleOITeMIyqgwlRZcAuSHQVGoaxEVRVWGfwlRfYInSDY5wVtp19zsKoHcwR8xhtCg2GnP54q3UYRsWB/qgOoTUsNzePt2VTKjmmUYaxEVwqol12GLssYxJFmdzBqA3MEfOYKNdCCsNFFInh9dlEE7FhGJUGtffVie83mhoZRsUQ9wr6AqeL/8U5YCLUoqIw9jDYCctkSlVbmCPmIVCAONc8AiGfvEIcl1nzDMOoCpjZHB/f9sGSALMbhlEhZIwyq02EKzHFUecTXXihRL4WABILo3Ywz8BjYphLKIg3qJwPmhqGUTXw4ktmTpZTq0/EGYZRceB3YXoHzMmFqWCc7n2jtjFHzGP8AZ/M3VIcTsx/ZBhGlQiyASkoKiLU58UZk4m8zCUzjI2C7nwGDQNYxduS0cRUFsC0qHYxR8xr4j6uyccoEk287WUYRpWA4YDBwEBjVO2xbgbEMDZGaasXplIqLg5TRpbzbVNnXBj2l74UY9Q85oh5CmofEYqyI5Yh84jF5OvyZjwMo3LIrPrhItYlfKGCHbJEDd8wjPKBsyXawv+hEdnHulOwdj1FiospgsiEKiUWRi1gjpjH+FnyUc+Io2vSj04Vq3UYRkWBw4WA2npmRjqtWv4PEV67x8eKYVRMnwyjAjiaEvD7KRKOUJovQMG0EMVYrxBvWlS7mCPmMWoobGZ9w9g0oEuBYMixGoluFKvFG0bFQYUG84fBHgXYGXNalp2QaDczagHzDjwGA/Uh7GmJD6wahlFx3ONWVq1aSbk5OeKIyWv3rn2GYWwcfGsyLy+PIpEIhYvDjgqZGtU65oh5jD/gfGg0P78gEWMYRmVQZ6xBg4ZUUFAovZKGYVQefGuyoCC/pFXM2sDqBuaIeYyPL7HPF+A1DjoRpWEYFULHiIFoNEaZmdnk80OfgHarGIZRPqpDUdGjeCIETIXqBOaIeYpPmn9RA8EketYGbBhVA61i4XCxGBHHcJguGUZFSH6hpV69PEoLheQNSnRVOrqEVKZTtYU5Yh6TnpZOWVlZtHLlykSMYRhVAS1jGHPpDGwxDKOyyFuTkSiF2BHLzMwgH14iS7Q4G7WHOWIeI2+i8L/s7OxEjGEYlQVOGD7JkpOTY/V2w6g0PmlVhsuFekxhYZGNW65DmCPmIRB6dKUUF0dECQzDqBrQH78/wMYjv2TMmGEYlUOmgAkEKSMznYLBYCIW+mQ6VZuYI+YxoUCIMtKCFI6GyRdHrcRe+TKMiqIVGDhfDeo34u0oR2JKGMSbATGMiuG89BKNRamoqJBi8QgFQphSiV0AHz6/x3pkqlRrmCPmMXhLJRYrdvrj5Q+1EsMwKop0qbARKSgooPT0DV96MV0yjIrj9/lZh9IT0yo5cdZZU/uYI+Yx8oFiprCwUJZW7TCMiuPuhsQYMeetSdMhw6go7hnzfX50TQYkGHUHc8Q8JhAMcA0kREVFRVZ9N4xKol2TWGZlZVMoFMQGYiTeMIyK4OgLKjYyzjIWK2kkMGofuxMeE4uhazIub3tZa5hhVA4YDg0Y35KRmel83kh0yV3XNwyjbBKawnqEl16KisJUFC4SvUqoklGLmCPmMZg0LxoNUCCULhs+zLBvGEalkcknxW5AjwzDqAwxdrowb1gg4Ke0jAxKS0unQDzhAnDlxnyx2sMcMY9J9Kw4E1EahlEl0DWJufjWr19vumQYlcB5RYxBy3IsLhO6onUZLWNO179Va2obc8Q8Bm9NYpBx6ZwthmFUBu2aXLV6tcx/hDe/zBczjIqhHfhoDXMG6/tFh+CUSROzUeuYI+Yx/oCPMjIyxCEzDKPy+PEZFiYYQA0er91rDb6krm8YRrmU6kosGuMKTYa8SAZdKtEmU6Zawxwxj+G6B4WCwRJjYhhG5ZABxUxeTg4VFRdjsIv0pojdsAq9YVQc1he0kEWKo6xXMVnHiEuokalS7WHegYfAUPjQhxKNUkZauhNpGEaF0dYvLFcsXUJp2bkUjAfIH2DzIbV5q8YbRkWBs5WVmcVLPwd2xPA2GeuTUbuYI+YxMr6Fl3hjxTCMygH9UWesSZMmTuuYqZJhbBIYs4zxYk49Bv9ZhaY2MUfMY/CBVXRLhsNhWJVErGEYlQXjLKFPjs0wXTKMiqP6EqcYuiRRweE/M0l1A3PEaoBoJEoh+cCqYRiVQVvDAF67z8xI3yDOavKGUT7u7nusoWFAemrEGTPqAuaIeYhUNjCOxR+gSDTC286fYRiVJz2USdEoNCiG0S3WKGYYFUEcLkdZZIhM1Omp8bH5lyFi+I81yhSq9jBHzGPicZ8IfwDziHH1w0TdMKpGcWGEAj7Mx6daZPV5w9gYcMLEEWNrL5rD9qg4wt4Y2yYfB/7HiZzh+0btYI6Yx2AWcHSpbNidYhhGZYEG4Rt5jmkxDKMylIwLi8WdwfrSW5PYadQqdhs8Bp+RSEsLieFw3lIxh8wwKguMBiZG3kB9TJUMo3KwzqBzP4BZ9qFMVqOpE5gj5jGohaBVTD5YbBhGlcGnwmyMpWFUHThfaBzAcBn7ZmvdwRwxj/Gz4IdC6RTwBdgZ4whWAMMwKoa+3YUQCvgwzphdMT/5Y2gOM10yjI3jjBIDaBBgNaLM9DTpnpSGAsQnglE7mCPmMRBufNsrWlL7cBTCMIzKkZ6W5nTvsw75OUjXiqmTYZSP9Oc7Aa1gsgnXzFkRTI1qF3PEPAZztmy19VZUr149awwzjCqgBgNGpEGDBk5XvymTYVQa2CPoTyQadaaAYdWCE4AZLMwZqz18/ECzJ5pH4MJGojEKF+ZTRihAvkCI4v6gNA0bhlFx8JgqKigUI5KWlkb+oPN9PDhp7pq9YRhlg69TFBQU0Jzvv6a9996H9SiDAn62TRg3AzWy1yhrBXPEPAQXNsqOmLwsGY+wjAcpyvUPc8QMo2Lo4wnOVjyCOjxvJ5wvrJsjZhgVBxUZh2L2u3wUoyDbJ0zsao5Y7UH0/0pf/BBk3YO+AAAAAElFTkSuQmCC)"
      ],
      "metadata": {
        "id": "E59Pb9rBszzc"
      }
    },
    {
      "cell_type": "markdown",
      "source": [
        "두 벡터의 내적 계산\n",
        "\n",
        "![image.png](data:image/png;base64,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)"
      ],
      "metadata": {
        "id": "wZAkBwBJtLSG"
      }
    },
    {
      "cell_type": "markdown",
      "source": [
        "유사도 cosθ = 두 벡터의 내적 / 총 벡터 크기의 합\n",
        "\n",
        "![image.png](data:image/png;base64,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)"
      ],
      "metadata": {
        "id": "eSEQWYfxtcC2"
      }
    },
    {
      "cell_type": "markdown",
      "source": [
        "코사인 유사도가 문서 유사도 비교에 자주 사용되는 이유\n",
        "\n",
        "- 문서를 피처 벡터화 시 고차원 희소 행렬이 되기 쉬움. 이는 문서와 문서 벡터 간 크기에 기반한 유사도 지표(e.g. 유클리드 거리 기반 지표)는 정확도가 떨어지기 쉬움\n",
        "- 문서가 매우 긴 경우, 빈도수에만 기반해서는 공정한 비교 불가능 "
      ],
      "metadata": {
        "id": "u9Msax8ytqgC"
      }
    },
    {
      "cell_type": "code",
      "source": [
        "import numpy as np"
      ],
      "metadata": {
        "id": "iI8MwagQnOl0"
      },
      "execution_count": null,
      "outputs": []
    },
    {
      "cell_type": "code",
      "source": [
        "def cos_similarity(v1, v2):\n",
        "    dot_product = np.dot(v1, v2)\n",
        "    l2_norm = (np.sqrt(sum(np.square(v1))) * np.sqrt(sum(np.square(v2))))\n",
        "    similarity = dot_product / l2_norm\n",
        "\n",
        "    return similarity"
      ],
      "metadata": {
        "id": "8J93o2cUuICg"
      },
      "execution_count": 29,
      "outputs": []
    },
    {
      "cell_type": "code",
      "source": [
        "from sklearn.feature_extraction.text import TfidfVectorizer\n",
        "\n",
        "doc_list = ['if you take the blue pill, the story ends',\n",
        "            'if you take the red pill, you stay in Wonderland',\n",
        "            'if you take the red pill, I show you how deep the rabbit hole goes']\n",
        "\n",
        "tfidf_vect_simple = TfidfVectorizer()\n",
        "feature_vect_simple = tfidf_vect_simple.fit_transform(doc_list)\n",
        "print(feature_vect_simple.shape)"
      ],
      "metadata": {
        "colab": {
          "base_uri": "https://localhost:8080/"
        },
        "id": "C_ErA5iKuaNZ",
        "outputId": "598c10d9-81fc-4c00-cb2e-8cf8ebf1651e"
      },
      "execution_count": 25,
      "outputs": [
        {
          "output_type": "stream",
          "name": "stdout",
          "text": [
            "(3, 18)\n"
          ]
        }
      ]
    },
    {
      "cell_type": "code",
      "source": [
        "#TfidfVectorizer로 transform()한 결과는 희소 행렬이므로 밀집 행렬로 변환\n",
        "feature_vect_dense = feature_vect_simple.todense()\n",
        "\n",
        "#첫 번째 문장과 두 번째 문장의 피처 벡터 추출\n",
        "vect1 = np.array(feature_vect_dense[0]).reshape(-1, )\n",
        "vect2 = np.array(feature_vect_dense[1]).reshape(-1, )\n",
        "\n",
        "#첫 번째 문장과 두 번째 문장의 피처 벡터로 두 문장의 코사인 유사도 추출\n",
        "similarity_simple = cos_similarity(vect1, vect2)\n",
        "print('문장 1, 문장 2 Cosine 유사도: {0:.3f}'.format(similarity_simple))"
      ],
      "metadata": {
        "colab": {
          "base_uri": "https://localhost:8080/"
        },
        "id": "MHxzyMitu9Or",
        "outputId": "7c86fa03-2ab0-4aea-95f4-a7cc0edbaac1"
      },
      "execution_count": 30,
      "outputs": [
        {
          "output_type": "stream",
          "name": "stdout",
          "text": [
            "문장 1, 문장 2 Cosine 유사도: 0.402\n"
          ]
        }
      ]
    },
    {
      "cell_type": "code",
      "source": [
        "vect1 = np.array(feature_vect_dense[0]).reshape(-1,)\n",
        "vect3 = np.array(feature_vect_dense[2]).reshape(-1,)\n",
        "similarity_sample = cos_similarity(vect1, vect3)\n",
        "print('문장1, 문장 3 Cosine 유사도: {}'.format(similarity_sample))"
      ],
      "metadata": {
        "colab": {
          "base_uri": "https://localhost:8080/"
        },
        "id": "dpAexM-pvpPg",
        "outputId": "36e0b17a-cb10-40e4-ba18-3d80540c8e65"
      },
      "execution_count": 31,
      "outputs": [
        {
          "output_type": "stream",
          "name": "stdout",
          "text": [
            "문장1, 문장 3 Cosine 유사도: 0.4042504477594862\n"
          ]
        }
      ]
    },
    {
      "cell_type": "code",
      "source": [
        "vect2 = np.array(feature_vect_dense[1]).reshape(-1,)\n",
        "vect3 = np.array(feature_vect_dense[2]).reshape(-1,)\n",
        "similarity_sample = cos_similarity(vect2, vect3)\n",
        "print('문장2, 문장 3 Cosine 유사도: {}'.format(similarity_sample))"
      ],
      "metadata": {
        "colab": {
          "base_uri": "https://localhost:8080/"
        },
        "id": "RhR5xwHWvp8R",
        "outputId": "d0ac678b-9981-45a1-d4a0-1082f06cffbd"
      },
      "execution_count": 32,
      "outputs": [
        {
          "output_type": "stream",
          "name": "stdout",
          "text": [
            "문장2, 문장 3 Cosine 유사도: 0.45647296026166395\n"
          ]
        }
      ]
    },
    {
      "cell_type": "markdown",
      "source": [
        "사이킷런의 코사인 유사도 측정 cosine_similarity(param1, param2)\n",
        "\n",
        "* param1: 비교 기준이 되는 문서의 피처 행렬\n",
        "* param2: 비교되는 문서의 피처 행렬\n",
        "\n",
        "희소 행렬, 밀집 행렬, 배열 모두 가능"
      ],
      "metadata": {
        "id": "L-GZUUOVvxOg"
      }
    },
    {
      "cell_type": "code",
      "source": [
        "from sklearn.metrics.pairwise import cosine_similarity\n",
        "\n",
        "similarity_simple_pair = cosine_similarity(feature_vect_simple[0], feature_vect_simple[1:])\n",
        "print(similarity_simple_pair)"
      ],
      "metadata": {
        "colab": {
          "base_uri": "https://localhost:8080/"
        },
        "id": "mzaH-nPqvs6M",
        "outputId": "008c66ea-809e-494b-f417-3c67ed71c090"
      },
      "execution_count": 34,
      "outputs": [
        {
          "output_type": "stream",
          "name": "stdout",
          "text": [
            "[[0.40207758 0.40425045]]\n"
          ]
        }
      ]
    },
    {
      "cell_type": "code",
      "source": [
        "similarity_simple_pair = cosine_similarity(feature_vect_simple, feature_vect_simple)\n",
        "print(similarity_simple_pair)\n",
        "print('shape:', similarity_simple_pair.shape)"
      ],
      "metadata": {
        "colab": {
          "base_uri": "https://localhost:8080/"
        },
        "id": "w567jYQHwPdU",
        "outputId": "8c597da1-1fe2-4730-99d8-decbdf089518"
      },
      "execution_count": 35,
      "outputs": [
        {
          "output_type": "stream",
          "name": "stdout",
          "text": [
            "[[1.         0.40207758 0.40425045]\n",
            " [0.40207758 1.         0.45647296]\n",
            " [0.40425045 0.45647296 1.        ]]\n",
            "shape: (3, 3)\n"
          ]
        }
      ]
    },
    {
      "cell_type": "markdown",
      "source": [
        "###**Opinion Review 데이터 세트를 이용한 문서 유사도 측정**"
      ],
      "metadata": {
        "id": "KtzWgRmxwdWt"
      }
    },
    {
      "cell_type": "code",
      "source": [
        "import pandas as pd\n",
        "import glob, os\n",
        "from sklearn.feature_extraction.text import TfidfTransformer\n",
        "from sklearn.cluster import KMeans\n",
        "from google.colab import drive\n",
        "\n",
        "drive.mount('/content/drive')"
      ],
      "metadata": {
        "colab": {
          "base_uri": "https://localhost:8080/"
        },
        "id": "1IwL8otswmT-",
        "outputId": "53feeb4e-8f28-4c07-f2a7-8b2c195cbdc1"
      },
      "execution_count": 36,
      "outputs": [
        {
          "output_type": "stream",
          "name": "stdout",
          "text": [
            "Drive already mounted at /content/drive; to attempt to forcibly remount, call drive.mount(\"/content/drive\", force_remount=True).\n"
          ]
        }
      ]
    },
    {
      "cell_type": "code",
      "source": [
        "path = '/content/drive/MyDrive/ESAA/OpinosisDataset1.0/OpinosisDataset1.0/topics'\n",
        "#path 디렉터리 밑에 있는 모든 .data 파일의 파일명을 리스트화\n",
        "all_files = glob.glob(os.path.join(path, '*.data'))\n",
        "filename_list = []\n",
        "opinion_text = []\n",
        "\n",
        "#개별 파일의 파일명은 filenames_list로 취합\n",
        "#개별 파일의 파일 내용은 DataFrame 로딩 후 다시 string으로 변환해 opinion_text list로 취합\n",
        "for file_ in all_files:\n",
        "    #개별 파일을 읽어 df로 생성\n",
        "    df = pd.read_table(file_, index_col = None, header = 0, encoding = 'latin1')\n",
        "\n",
        "    #절대 경로로 주어진 파일명을 가공, 확장자 제거\n",
        "    filename_ = file_.split('/')[-1]\n",
        "    filename = filename_.split('.')[0]\n",
        "\n",
        "    #파일명 list와 파일 내용 list에 파일명과 파일 내용 추가\n",
        "    filename_list.append(filename)\n",
        "    opinion_text.append(df.to_string())\n",
        "\n",
        "#파일명 list와 파일 내용 list 객체를 df로 생성\n",
        "document_df = pd.DataFrame({'filename':filename_list, 'opinion_text':opinion_text})\n",
        "document_df.head()"
      ],
      "metadata": {
        "id": "sDUNXtEjoWyK",
        "colab": {
          "base_uri": "https://localhost:8080/",
          "height": 206
        },
        "outputId": "4c581b54-593b-47a8-d6c1-95a40b1580ab"
      },
      "execution_count": 37,
      "outputs": [
        {
          "output_type": "execute_result",
          "data": {
            "text/plain": [
              "                         filename  \\\n",
              "0      battery-life_amazon_kindle   \n",
              "1  bathroom_bestwestern_hotel_sfo   \n",
              "2      battery-life_ipod_nano_8gb   \n",
              "3     battery-life_netbook_1005ha   \n",
              "4       comfort_honda_accord_2008   \n",
              "\n",
              "                                        opinion_text  \n",
              "0                                                ...  \n",
              "1                                                ...  \n",
              "2                                                ...  \n",
              "3                                                ...  \n",
              "4                                                ...  "
            ],
            "text/html": [
              "\n",
              "  <div id=\"df-fc527ef4-e9c7-461c-8027-1b7fa530cfde\">\n",
              "    <div class=\"colab-df-container\">\n",
              "      <div>\n",
              "<style scoped>\n",
              "    .dataframe tbody tr th:only-of-type {\n",
              "        vertical-align: middle;\n",
              "    }\n",
              "\n",
              "    .dataframe tbody tr th {\n",
              "        vertical-align: top;\n",
              "    }\n",
              "\n",
              "    .dataframe thead th {\n",
              "        text-align: right;\n",
              "    }\n",
              "</style>\n",
              "<table border=\"1\" class=\"dataframe\">\n",
              "  <thead>\n",
              "    <tr style=\"text-align: right;\">\n",
              "      <th></th>\n",
              "      <th>filename</th>\n",
              "      <th>opinion_text</th>\n",
              "    </tr>\n",
              "  </thead>\n",
              "  <tbody>\n",
              "    <tr>\n",
              "      <th>0</th>\n",
              "      <td>battery-life_amazon_kindle</td>\n",
              "      <td>...</td>\n",
              "    </tr>\n",
              "    <tr>\n",
              "      <th>1</th>\n",
              "      <td>bathroom_bestwestern_hotel_sfo</td>\n",
              "      <td>...</td>\n",
              "    </tr>\n",
              "    <tr>\n",
              "      <th>2</th>\n",
              "      <td>battery-life_ipod_nano_8gb</td>\n",
              "      <td>...</td>\n",
              "    </tr>\n",
              "    <tr>\n",
              "      <th>3</th>\n",
              "      <td>battery-life_netbook_1005ha</td>\n",
              "      <td>...</td>\n",
              "    </tr>\n",
              "    <tr>\n",
              "      <th>4</th>\n",
              "      <td>comfort_honda_accord_2008</td>\n",
              "      <td>...</td>\n",
              "    </tr>\n",
              "  </tbody>\n",
              "</table>\n",
              "</div>\n",
              "      <button class=\"colab-df-convert\" onclick=\"convertToInteractive('df-fc527ef4-e9c7-461c-8027-1b7fa530cfde')\"\n",
              "              title=\"Convert this dataframe to an interactive table.\"\n",
              "              style=\"display:none;\">\n",
              "        \n",
              "  <svg xmlns=\"http://www.w3.org/2000/svg\" height=\"24px\"viewBox=\"0 0 24 24\"\n",
              "       width=\"24px\">\n",
              "    <path d=\"M0 0h24v24H0V0z\" fill=\"none\"/>\n",
              "    <path d=\"M18.56 5.44l.94 2.06.94-2.06 2.06-.94-2.06-.94-.94-2.06-.94 2.06-2.06.94zm-11 1L8.5 8.5l.94-2.06 2.06-.94-2.06-.94L8.5 2.5l-.94 2.06-2.06.94zm10 10l.94 2.06.94-2.06 2.06-.94-2.06-.94-.94-2.06-.94 2.06-2.06.94z\"/><path d=\"M17.41 7.96l-1.37-1.37c-.4-.4-.92-.59-1.43-.59-.52 0-1.04.2-1.43.59L10.3 9.45l-7.72 7.72c-.78.78-.78 2.05 0 2.83L4 21.41c.39.39.9.59 1.41.59.51 0 1.02-.2 1.41-.59l7.78-7.78 2.81-2.81c.8-.78.8-2.07 0-2.86zM5.41 20L4 18.59l7.72-7.72 1.47 1.35L5.41 20z\"/>\n",
              "  </svg>\n",
              "      </button>\n",
              "      \n",
              "  <style>\n",
              "    .colab-df-container {\n",
              "      display:flex;\n",
              "      flex-wrap:wrap;\n",
              "      gap: 12px;\n",
              "    }\n",
              "\n",
              "    .colab-df-convert {\n",
              "      background-color: #E8F0FE;\n",
              "      border: none;\n",
              "      border-radius: 50%;\n",
              "      cursor: pointer;\n",
              "      display: none;\n",
              "      fill: #1967D2;\n",
              "      height: 32px;\n",
              "      padding: 0 0 0 0;\n",
              "      width: 32px;\n",
              "    }\n",
              "\n",
              "    .colab-df-convert:hover {\n",
              "      background-color: #E2EBFA;\n",
              "      box-shadow: 0px 1px 2px rgba(60, 64, 67, 0.3), 0px 1px 3px 1px rgba(60, 64, 67, 0.15);\n",
              "      fill: #174EA6;\n",
              "    }\n",
              "\n",
              "    [theme=dark] .colab-df-convert {\n",
              "      background-color: #3B4455;\n",
              "      fill: #D2E3FC;\n",
              "    }\n",
              "\n",
              "    [theme=dark] .colab-df-convert:hover {\n",
              "      background-color: #434B5C;\n",
              "      box-shadow: 0px 1px 3px 1px rgba(0, 0, 0, 0.15);\n",
              "      filter: drop-shadow(0px 1px 2px rgba(0, 0, 0, 0.3));\n",
              "      fill: #FFFFFF;\n",
              "    }\n",
              "  </style>\n",
              "\n",
              "      <script>\n",
              "        const buttonEl =\n",
              "          document.querySelector('#df-fc527ef4-e9c7-461c-8027-1b7fa530cfde button.colab-df-convert');\n",
              "        buttonEl.style.display =\n",
              "          google.colab.kernel.accessAllowed ? 'block' : 'none';\n",
              "\n",
              "        async function convertToInteractive(key) {\n",
              "          const element = document.querySelector('#df-fc527ef4-e9c7-461c-8027-1b7fa530cfde');\n",
              "          const dataTable =\n",
              "            await google.colab.kernel.invokeFunction('convertToInteractive',\n",
              "                                                     [key], {});\n",
              "          if (!dataTable) return;\n",
              "\n",
              "          const docLinkHtml = 'Like what you see? Visit the ' +\n",
              "            '<a target=\"_blank\" href=https://colab.research.google.com/notebooks/data_table.ipynb>data table notebook</a>'\n",
              "            + ' to learn more about interactive tables.';\n",
              "          element.innerHTML = '';\n",
              "          dataTable['output_type'] = 'display_data';\n",
              "          await google.colab.output.renderOutput(dataTable, element);\n",
              "          const docLink = document.createElement('div');\n",
              "          docLink.innerHTML = docLinkHtml;\n",
              "          element.appendChild(docLink);\n",
              "        }\n",
              "      </script>\n",
              "    </div>\n",
              "  </div>\n",
              "  "
            ]
          },
          "metadata": {},
          "execution_count": 37
        }
      ]
    },
    {
      "cell_type": "code",
      "source": [
        "from nltk.stem import WordNetLemmatizer\n",
        "import nltk\n",
        "import string\n",
        "\n",
        "def LemTokens(tokens):\n",
        "    lemmer = nltk.stem.WordNetLemmatizer()\n",
        "    return [lemmer.lemmatize(token) for token in tokens]\n",
        "\n",
        "def LemNormalize(text):\n",
        "    remove_punct_dict = dict((ord(punct), None) for punct in string.punctuation)\n",
        "    return LemTokens(nltk.word_tokenize(text.lower().translate(remove_punct_dict)))"
      ],
      "metadata": {
        "id": "gevgKtv2sNEc"
      },
      "execution_count": 38,
      "outputs": []
    },
    {
      "cell_type": "code",
      "source": [
        "nltk.download('punkt')\n",
        "nltk.download('wordnet')"
      ],
      "metadata": {
        "colab": {
          "base_uri": "https://localhost:8080/"
        },
        "id": "ve_yuLe8xqmd",
        "outputId": "507494e6-6f7f-4bd9-c4a8-a048115af255"
      },
      "execution_count": 43,
      "outputs": [
        {
          "output_type": "stream",
          "name": "stdout",
          "text": [
            "[nltk_data] Downloading package punkt to /root/nltk_data...\n",
            "[nltk_data]   Package punkt is already up-to-date!\n",
            "[nltk_data] Downloading package wordnet to /root/nltk_data...\n",
            "[nltk_data]   Unzipping corpora/wordnet.zip.\n"
          ]
        },
        {
          "output_type": "execute_result",
          "data": {
            "text/plain": [
              "True"
            ]
          },
          "metadata": {},
          "execution_count": 43
        }
      ]
    },
    {
      "cell_type": "code",
      "source": [
        "tfidf_vect = TfidfVectorizer(tokenizer=LemNormalize, stop_words = 'english',\n",
        "                             ngram_range=(1, 2), min_df = 0.05, max_df = 0.85)\n",
        "feature_vect = tfidf_vect.fit_transform(document_df['opinion_text'])\n",
        "km_cluster = KMeans(n_clusters = 3, max_iter = 10000, random_state = 0)\n",
        "km_cluster.fit(feature_vect)\n",
        "cluster_label = km_cluster.labels_\n",
        "cluster_centers = km_cluster.cluster_centers_\n",
        "document_df['cluster_label'] = cluster_label"
      ],
      "metadata": {
        "colab": {
          "base_uri": "https://localhost:8080/"
        },
        "id": "8GWZPZbdw3gq",
        "outputId": "8a7e22ed-abcc-4ac9-d64b-71c48c898ac0"
      },
      "execution_count": 45,
      "outputs": [
        {
          "output_type": "stream",
          "name": "stderr",
          "text": [
            "/usr/local/lib/python3.7/dist-packages/sklearn/feature_extraction/text.py:401: UserWarning: Your stop_words may be inconsistent with your preprocessing. Tokenizing the stop words generated tokens ['ha', 'le', 'u', 'wa'] not in stop_words.\n",
            "  % sorted(inconsistent)\n"
          ]
        }
      ]
    },
    {
      "cell_type": "code",
      "source": [
        "from sklearn.metrics.pairwise import cosine_similarity\n",
        "\n",
        "#cluster_label=1인 데이터는 호텔로 군집화된 데이터임. DataFrame에서 해당 인덱스를 추출\n",
        "hotel_indexes = document_df[document_df['cluster_label']==1].index\n",
        "print('호텔로 군집화 된 문서들의 DataFrame Index:',hotel_indexes)\n",
        "\n",
        "#호텔로 군집화된 데이터 중 첫번째 문서를 추출해 파일명 표시\n",
        "comparison_docname = document_df.iloc[hotel_indexes[0]]['filename']\n",
        "print('####비교 기준 문서명', comparison_docname,' 와 타 문서 유사도 ####')\n",
        "\n",
        "'''document_df에서 추출한 Index 객체를 feature_vect로 입력해 호텔 군집화된 feature_vect 추출\n",
        "이를 이용해 호텔로 군집화된 문서 중 첫번째 문서와 다른 문서간의 코사인 유사도 측정.'''\n",
        "similarity_pair = cosine_similarity(feature_vect[hotel_indexes[0]], feature_vect[hotel_indexes])\n",
        "print(similarity_pair)"
      ],
      "metadata": {
        "colab": {
          "base_uri": "https://localhost:8080/"
        },
        "id": "-1bkY6nZyAPu",
        "outputId": "f2bcc821-dc69-4ca6-cbbc-424f90d1c040"
      },
      "execution_count": 46,
      "outputs": [
        {
          "output_type": "stream",
          "name": "stdout",
          "text": [
            "호텔로 군집화 된 문서들의 DataFrame Index: Int64Index([1, 12, 13, 14, 16, 18, 24, 27, 29, 30, 31, 35, 36, 38, 39, 41], dtype='int64')\n",
            "####비교 기준 문서명 bathroom_bestwestern_hotel_sfo  와 타 문서 유사도 ####\n",
            "[[1.         0.1386783  0.13989623 0.11282857 0.07049362 0.09518068\n",
            "  0.11742762 0.03638665 0.38038865 0.51442299 0.32619948 0.06193118\n",
            "  0.05846178 0.06189595 0.05221059 0.0430688 ]]\n"
          ]
        }
      ]
    },
    {
      "cell_type": "code",
      "source": [
        "#visualization\n",
        "import seaborn as sns\n",
        "import numpy as np\n",
        "import matplotlib.pyplot as plt\n",
        "%matplotlib inline\n",
        "\n",
        "#첫번째 문서와 타 문서 간 유사도가 큰 순으로 정렬한 인덱스를 추출하되 자기 자신은 제외\n",
        "sorted_index = similarity_pair.argsort()[:,::-1]\n",
        "sorted_index = sorted_index[:,1:]\n",
        "\n",
        "#유사도가 큰 순으로 hotel_indexes를 추출해 재정렬\n",
        "hotel_sorted_indexes = hotel_indexes[sorted_index.reshape(-1)]\n",
        "\n",
        "#유사도가 큰 순으로 유사도 값을 재정렬하되 자기 자신은 제외\n",
        "hotel_1_sim_value = np.sort(similarity_pair.reshape(-1))[::-1]\n",
        "hotel_1_sim_value = hotel_1_sim_value[1:]\n",
        "\n",
        "#유사도가 큰 순으로 정렬된 인덱스와 유사도 값을 이용해 파일명과 유사도 값을 막대 그래프로 시각화\n",
        "hotel_1_sim_df = pd.DataFrame()\n",
        "hotel_1_sim_df['filename'] = document_df.iloc[hotel_sorted_indexes]['filename']\n",
        "hotel_1_sim_df['similarity'] = hotel_1_sim_value\n",
        "\n",
        "sns.barplot(x='similarity', y='filename', data=hotel_1_sim_df)\n",
        "plt.title(comparison_docname)"
      ],
      "metadata": {
        "colab": {
          "base_uri": "https://localhost:8080/",
          "height": 313
        },
        "id": "fnU8VyKvyBKY",
        "outputId": "e456ddfa-c9c3-4fde-8e03-33a8b4a48825"
      },
      "execution_count": 47,
      "outputs": [
        {
          "output_type": "execute_result",
          "data": {
            "text/plain": [
              "Text(0.5, 1.0, 'bathroom_bestwestern_hotel_sfo')"
            ]
          },
          "metadata": {},
          "execution_count": 47
        },
        {
          "output_type": "display_data",
          "data": {
            "text/plain": [
              "<Figure size 432x288 with 1 Axes>"
            ],
            "image/png": "[encoded data removed]"
          },
          "metadata": {
            "needs_background": "light"
          }
        }
      ]
    },
    {
      "cell_type": "markdown",
      "source": [
        "##09 한글 텍스트 처리 - 네이버 영화 평점 감성 분석\n",
        "\n",
        "**한글 NLP 처리의 어려움** 1. 띄어쓰기 2. 다양한 조사"
      ],
      "metadata": {
        "id": "yJq7omQQyeoI"
      }
    },
    {
      "cell_type": "code",
      "source": [
        "%%bash\n",
        "apt-get update\n",
        "apt-get install g++ openjdk-8-jdk python-dev python3-dev\n",
        "pip3 install JPype1\n",
        "pip3 install konlpy"
      ],
      "metadata": {
        "id": "C33ph2buzWmu"
      },
      "execution_count": null,
      "outputs": []
    },
    {
      "cell_type": "code",
      "source": [
        "%env JAVA_HOME \"/usr/lib/jvm/java-8-openjdk-amd64\""
      ],
      "metadata": {
        "id": "yRLaLELHzX7K"
      },
      "execution_count": null,
      "outputs": []
    },
    {
      "cell_type": "code",
      "source": [
        "%%bash\n",
        "bash <(curl -s https://raw.githubusercontent.com/konlpy/konlpy/master/scripts/mecab.sh)\n",
        "pip3 install /tmp/mecab-python-0.996"
      ],
      "metadata": {
        "id": "OraX4jdTzZsJ"
      },
      "execution_count": null,
      "outputs": []
    },
    {
      "cell_type": "code",
      "source": [
        "import konlpy\n",
        "from konlpy.tag import Kkma, Komoran, Hannanum, Okt\n",
        "from konlpy.utils import pprint\n",
        "from konlpy.tag import Mecab"
      ],
      "metadata": {
        "id": "3l6joyj-zdmB"
      },
      "execution_count": 53,
      "outputs": []
    },
    {
      "cell_type": "code",
      "source": [
        "import pandas as pd\n",
        "train_df = pd.read_csv('/content/ratings_train.txt',sep='\\t')\n",
        "train_df.head(3)"
      ],
      "metadata": {
        "colab": {
          "base_uri": "https://localhost:8080/",
          "height": 143
        },
        "id": "Oc29Gz5_zfXg",
        "outputId": "907dc82f-53a8-4821-9f46-09c9b37122ce"
      },
      "execution_count": 55,
      "outputs": [
        {
          "output_type": "execute_result",
          "data": {
            "text/plain": [
              "         id                           document  label\n",
              "0   9976970                아 더빙.. 진짜 짜증나네요 목소리      0\n",
              "1   3819312  흠...포스터보고 초딩영화줄....오버연기조차 가볍지 않구나      1\n",
              "2  10265843                  너무재밓었다그래서보는것을추천한다      0"
            ],
            "text/html": [
              "\n",
              "  <div id=\"df-a834e812-b18c-4d12-926e-1260f6aeead6\">\n",
              "    <div class=\"colab-df-container\">\n",
              "      <div>\n",
              "<style scoped>\n",
              "    .dataframe tbody tr th:only-of-type {\n",
              "        vertical-align: middle;\n",
              "    }\n",
              "\n",
              "    .dataframe tbody tr th {\n",
              "        vertical-align: top;\n",
              "    }\n",
              "\n",
              "    .dataframe thead th {\n",
              "        text-align: right;\n",
              "    }\n",
              "</style>\n",
              "<table border=\"1\" class=\"dataframe\">\n",
              "  <thead>\n",
              "    <tr style=\"text-align: right;\">\n",
              "      <th></th>\n",
              "      <th>id</th>\n",
              "      <th>document</th>\n",
              "      <th>label</th>\n",
              "    </tr>\n",
              "  </thead>\n",
              "  <tbody>\n",
              "    <tr>\n",
              "      <th>0</th>\n",
              "      <td>9976970</td>\n",
              "      <td>아 더빙.. 진짜 짜증나네요 목소리</td>\n",
              "      <td>0</td>\n",
              "    </tr>\n",
              "    <tr>\n",
              "      <th>1</th>\n",
              "      <td>3819312</td>\n",
              "      <td>흠...포스터보고 초딩영화줄....오버연기조차 가볍지 않구나</td>\n",
              "      <td>1</td>\n",
              "    </tr>\n",
              "    <tr>\n",
              "      <th>2</th>\n",
              "      <td>10265843</td>\n",
              "      <td>너무재밓었다그래서보는것을추천한다</td>\n",
              "      <td>0</td>\n",
              "    </tr>\n",
              "  </tbody>\n",
              "</table>\n",
              "</div>\n",
              "      <button class=\"colab-df-convert\" onclick=\"convertToInteractive('df-a834e812-b18c-4d12-926e-1260f6aeead6')\"\n",
              "              title=\"Convert this dataframe to an interactive table.\"\n",
              "              style=\"display:none;\">\n",
              "        \n",
              "  <svg xmlns=\"http://www.w3.org/2000/svg\" height=\"24px\"viewBox=\"0 0 24 24\"\n",
              "       width=\"24px\">\n",
              "    <path d=\"M0 0h24v24H0V0z\" fill=\"none\"/>\n",
              "    <path d=\"M18.56 5.44l.94 2.06.94-2.06 2.06-.94-2.06-.94-.94-2.06-.94 2.06-2.06.94zm-11 1L8.5 8.5l.94-2.06 2.06-.94-2.06-.94L8.5 2.5l-.94 2.06-2.06.94zm10 10l.94 2.06.94-2.06 2.06-.94-2.06-.94-.94-2.06-.94 2.06-2.06.94z\"/><path d=\"M17.41 7.96l-1.37-1.37c-.4-.4-.92-.59-1.43-.59-.52 0-1.04.2-1.43.59L10.3 9.45l-7.72 7.72c-.78.78-.78 2.05 0 2.83L4 21.41c.39.39.9.59 1.41.59.51 0 1.02-.2 1.41-.59l7.78-7.78 2.81-2.81c.8-.78.8-2.07 0-2.86zM5.41 20L4 18.59l7.72-7.72 1.47 1.35L5.41 20z\"/>\n",
              "  </svg>\n",
              "      </button>\n",
              "      \n",
              "  <style>\n",
              "    .colab-df-container {\n",
              "      display:flex;\n",
              "      flex-wrap:wrap;\n",
              "      gap: 12px;\n",
              "    }\n",
              "\n",
              "    .colab-df-convert {\n",
              "      background-color: #E8F0FE;\n",
              "      border: none;\n",
              "      border-radius: 50%;\n",
              "      cursor: pointer;\n",
              "      display: none;\n",
              "      fill: #1967D2;\n",
              "      height: 32px;\n",
              "      padding: 0 0 0 0;\n",
              "      width: 32px;\n",
              "    }\n",
              "\n",
              "    .colab-df-convert:hover {\n",
              "      background-color: #E2EBFA;\n",
              "      box-shadow: 0px 1px 2px rgba(60, 64, 67, 0.3), 0px 1px 3px 1px rgba(60, 64, 67, 0.15);\n",
              "      fill: #174EA6;\n",
              "    }\n",
              "\n",
              "    [theme=dark] .colab-df-convert {\n",
              "      background-color: #3B4455;\n",
              "      fill: #D2E3FC;\n",
              "    }\n",
              "\n",
              "    [theme=dark] .colab-df-convert:hover {\n",
              "      background-color: #434B5C;\n",
              "      box-shadow: 0px 1px 3px 1px rgba(0, 0, 0, 0.15);\n",
              "      filter: drop-shadow(0px 1px 2px rgba(0, 0, 0, 0.3));\n",
              "      fill: #FFFFFF;\n",
              "    }\n",
              "  </style>\n",
              "\n",
              "      <script>\n",
              "        const buttonEl =\n",
              "          document.querySelector('#df-a834e812-b18c-4d12-926e-1260f6aeead6 button.colab-df-convert');\n",
              "        buttonEl.style.display =\n",
              "          google.colab.kernel.accessAllowed ? 'block' : 'none';\n",
              "\n",
              "        async function convertToInteractive(key) {\n",
              "          const element = document.querySelector('#df-a834e812-b18c-4d12-926e-1260f6aeead6');\n",
              "          const dataTable =\n",
              "            await google.colab.kernel.invokeFunction('convertToInteractive',\n",
              "                                                     [key], {});\n",
              "          if (!dataTable) return;\n",
              "\n",
              "          const docLinkHtml = 'Like what you see? Visit the ' +\n",
              "            '<a target=\"_blank\" href=https://colab.research.google.com/notebooks/data_table.ipynb>data table notebook</a>'\n",
              "            + ' to learn more about interactive tables.';\n",
              "          element.innerHTML = '';\n",
              "          dataTable['output_type'] = 'display_data';\n",
              "          await google.colab.output.renderOutput(dataTable, element);\n",
              "          const docLink = document.createElement('div');\n",
              "          docLink.innerHTML = docLinkHtml;\n",
              "          element.appendChild(docLink);\n",
              "        }\n",
              "      </script>\n",
              "    </div>\n",
              "  </div>\n",
              "  "
            ]
          },
          "metadata": {},
          "execution_count": 55
        }
      ]
    },
    {
      "cell_type": "code",
      "source": [
        "train_df['label'].value_counts() #1이 긍정, 0이 부정"
      ],
      "metadata": {
        "colab": {
          "base_uri": "https://localhost:8080/"
        },
        "id": "MGK7x0Duzh0I",
        "outputId": "6e5eefed-4c3c-477b-8b4f-cefa21221c67"
      },
      "execution_count": 56,
      "outputs": [
        {
          "output_type": "execute_result",
          "data": {
            "text/plain": [
              "0    75173\n",
              "1    74827\n",
              "Name: label, dtype: int64"
            ]
          },
          "metadata": {},
          "execution_count": 56
        }
      ]
    },
    {
      "cell_type": "code",
      "source": [
        "import re\n",
        "\n",
        "train_df = train_df.fillna(' ')\n",
        "#정규 표현식을 이용해 숫자를 공백으로 변경\n",
        "train_df['document'] = train_df['document'].apply(lambda x : re.sub(r'\\d+',' ',x))\n",
        "\n",
        "#테스트 데이터 세트를 로딩하고 동일하게 Null 및 숙자를 공백으로 변환\n",
        "test_df = pd.read_csv('/content/ratings_test.txt',sep='\\t')\n",
        "test_df = test_df.fillna(' ')\n",
        "test_df['document'] = test_df['document'].apply(lambda x : re.sub(r'\\d+',' ',x))\n",
        "\n",
        "#id 칼럼 삭제 수행\n",
        "train_df.drop('id', axis=1, inplace=True)\n",
        "test_df.drop('id', axis=1, inplace=True)"
      ],
      "metadata": {
        "id": "Gms0o3wlzkGb"
      },
      "execution_count": 57,
      "outputs": []
    },
    {
      "cell_type": "code",
      "source": [
        "from konlpy.tag import Okt\n",
        "okt = Okt()\n",
        "def tw_tokenizer(text):\n",
        "  #입력 인자로 들어온 텍스트를 형태소 단어로 토큰화해 리스트 형태로 반환\n",
        "  tokens_ko = okt.morphs(text)\n",
        "  return tokens_ko"
      ],
      "metadata": {
        "id": "PpO61h7azm_R"
      },
      "execution_count": null,
      "outputs": []
    },
    {
      "cell_type": "code",
      "source": [
        "#TF-IDF 피처 모델 생성\n",
        "from sklearn.feature_extraction.text import TfidfVectorizer\n",
        "from sklearn.linear_model import LogisticRegression\n",
        "from sklearn.model_selection import GridSearchCV\n",
        "\n",
        "#Twitter 객체의 morphs() 객체를 이용한 tokenizer를 사용. ngram_range는 (1,2)\n",
        "tfidf_vect = TfidfVectorizer(tokenizer= tw_tokenizer, ngram_range=(1,2), min_df=3, max_df=0.9)\n",
        "tfidf_vect.fit(train_df['document'])\n",
        "tfidf_matrix_train = tfidf_vect.transform(train_df['document'])"
      ],
      "metadata": {
        "colab": {
          "base_uri": "https://localhost:8080/"
        },
        "id": "onmCpsCHznuf",
        "outputId": "ee290f8f-c2b4-4126-f089-70acd789977c"
      },
      "execution_count": 60,
      "outputs": [
        {
          "output_type": "stream",
          "name": "stderr",
          "text": [
            "/usr/local/lib/python3.7/dist-packages/sklearn/feature_extraction/text.py:517: UserWarning: The parameter 'token_pattern' will not be used since 'tokenizer' is not None'\n",
            "  \"The parameter 'token_pattern' will not be used\"\n"
          ]
        }
      ]
    },
    {
      "cell_type": "code",
      "source": [
        "#로지스틱 회귀를 이용해 감성 분석 분류 수행\n",
        "lg_clf = LogisticRegression(random_state=0)\n",
        "\n",
        "#파라미터 C 최적화를 위해 GridSearchCV를 이용\n",
        "params = {'C':[1, 3.5, 4.5, 5.5, 10]}\n",
        "grid_cv = GridSearchCV(lg_clf, param_grid=params, cv=3, scoring='accuracy',verbose=1)\n",
        "grid_cv.fit(tfidf_matrix_train, train_df['label'])\n",
        "print(grid_cv.best_params_, round(grid_cv.best_score_, 4))"
      ],
      "metadata": {
        "colab": {
          "base_uri": "https://localhost:8080/"
        },
        "id": "jzJej2T9zphI",
        "outputId": "8f17b575-a597-44a3-83a0-3179524e381d"
      },
      "execution_count": 61,
      "outputs": [
        {
          "output_type": "stream",
          "name": "stdout",
          "text": [
            "Fitting 3 folds for each of 5 candidates, totalling 15 fits\n"
          ]
        },
        {
          "output_type": "stream",
          "name": "stderr",
          "text": [
            "/usr/local/lib/python3.7/dist-packages/sklearn/linear_model/_logistic.py:818: ConvergenceWarning: lbfgs failed to converge (status=1):\n",
            "STOP: TOTAL NO. of ITERATIONS REACHED LIMIT.\n",
            "\n",
            "Increase the number of iterations (max_iter) or scale the data as shown in:\n",
            "    https://scikit-learn.org/stable/modules/preprocessing.html\n",
            "Please also refer to the documentation for alternative solver options:\n",
            "    https://scikit-learn.org/stable/modules/linear_model.html#logistic-regression\n",
            "  extra_warning_msg=_LOGISTIC_SOLVER_CONVERGENCE_MSG,\n",
            "/usr/local/lib/python3.7/dist-packages/sklearn/linear_model/_logistic.py:818: ConvergenceWarning: lbfgs failed to converge (status=1):\n",
            "STOP: TOTAL NO. of ITERATIONS REACHED LIMIT.\n",
            "\n",
            "Increase the number of iterations (max_iter) or scale the data as shown in:\n",
            "    https://scikit-learn.org/stable/modules/preprocessing.html\n",
            "Please also refer to the documentation for alternative solver options:\n",
            "    https://scikit-learn.org/stable/modules/linear_model.html#logistic-regression\n",
            "  extra_warning_msg=_LOGISTIC_SOLVER_CONVERGENCE_MSG,\n",
            "/usr/local/lib/python3.7/dist-packages/sklearn/linear_model/_logistic.py:818: ConvergenceWarning: lbfgs failed to converge (status=1):\n",
            "STOP: TOTAL NO. of ITERATIONS REACHED LIMIT.\n",
            "\n",
            "Increase the number of iterations (max_iter) or scale the data as shown in:\n",
            "    https://scikit-learn.org/stable/modules/preprocessing.html\n",
            "Please also refer to the documentation for alternative solver options:\n",
            "    https://scikit-learn.org/stable/modules/linear_model.html#logistic-regression\n",
            "  extra_warning_msg=_LOGISTIC_SOLVER_CONVERGENCE_MSG,\n",
            "/usr/local/lib/python3.7/dist-packages/sklearn/linear_model/_logistic.py:818: ConvergenceWarning: lbfgs failed to converge (status=1):\n",
            "STOP: TOTAL NO. of ITERATIONS REACHED LIMIT.\n",
            "\n",
            "Increase the number of iterations (max_iter) or scale the data as shown in:\n",
            "    https://scikit-learn.org/stable/modules/preprocessing.html\n",
            "Please also refer to the documentation for alternative solver options:\n",
            "    https://scikit-learn.org/stable/modules/linear_model.html#logistic-regression\n",
            "  extra_warning_msg=_LOGISTIC_SOLVER_CONVERGENCE_MSG,\n",
            "/usr/local/lib/python3.7/dist-packages/sklearn/linear_model/_logistic.py:818: ConvergenceWarning: lbfgs failed to converge (status=1):\n",
            "STOP: TOTAL NO. of ITERATIONS REACHED LIMIT.\n",
            "\n",
            "Increase the number of iterations (max_iter) or scale the data as shown in:\n",
            "    https://scikit-learn.org/stable/modules/preprocessing.html\n",
            "Please also refer to the documentation for alternative solver options:\n",
            "    https://scikit-learn.org/stable/modules/linear_model.html#logistic-regression\n",
            "  extra_warning_msg=_LOGISTIC_SOLVER_CONVERGENCE_MSG,\n",
            "/usr/local/lib/python3.7/dist-packages/sklearn/linear_model/_logistic.py:818: ConvergenceWarning: lbfgs failed to converge (status=1):\n",
            "STOP: TOTAL NO. of ITERATIONS REACHED LIMIT.\n",
            "\n",
            "Increase the number of iterations (max_iter) or scale the data as shown in:\n",
            "    https://scikit-learn.org/stable/modules/preprocessing.html\n",
            "Please also refer to the documentation for alternative solver options:\n",
            "    https://scikit-learn.org/stable/modules/linear_model.html#logistic-regression\n",
            "  extra_warning_msg=_LOGISTIC_SOLVER_CONVERGENCE_MSG,\n",
            "/usr/local/lib/python3.7/dist-packages/sklearn/linear_model/_logistic.py:818: ConvergenceWarning: lbfgs failed to converge (status=1):\n",
            "STOP: TOTAL NO. of ITERATIONS REACHED LIMIT.\n",
            "\n",
            "Increase the number of iterations (max_iter) or scale the data as shown in:\n",
            "    https://scikit-learn.org/stable/modules/preprocessing.html\n",
            "Please also refer to the documentation for alternative solver options:\n",
            "    https://scikit-learn.org/stable/modules/linear_model.html#logistic-regression\n",
            "  extra_warning_msg=_LOGISTIC_SOLVER_CONVERGENCE_MSG,\n",
            "/usr/local/lib/python3.7/dist-packages/sklearn/linear_model/_logistic.py:818: ConvergenceWarning: lbfgs failed to converge (status=1):\n",
            "STOP: TOTAL NO. of ITERATIONS REACHED LIMIT.\n",
            "\n",
            "Increase the number of iterations (max_iter) or scale the data as shown in:\n",
            "    https://scikit-learn.org/stable/modules/preprocessing.html\n",
            "Please also refer to the documentation for alternative solver options:\n",
            "    https://scikit-learn.org/stable/modules/linear_model.html#logistic-regression\n",
            "  extra_warning_msg=_LOGISTIC_SOLVER_CONVERGENCE_MSG,\n",
            "/usr/local/lib/python3.7/dist-packages/sklearn/linear_model/_logistic.py:818: ConvergenceWarning: lbfgs failed to converge (status=1):\n",
            "STOP: TOTAL NO. of ITERATIONS REACHED LIMIT.\n",
            "\n",
            "Increase the number of iterations (max_iter) or scale the data as shown in:\n",
            "    https://scikit-learn.org/stable/modules/preprocessing.html\n",
            "Please also refer to the documentation for alternative solver options:\n",
            "    https://scikit-learn.org/stable/modules/linear_model.html#logistic-regression\n",
            "  extra_warning_msg=_LOGISTIC_SOLVER_CONVERGENCE_MSG,\n",
            "/usr/local/lib/python3.7/dist-packages/sklearn/linear_model/_logistic.py:818: ConvergenceWarning: lbfgs failed to converge (status=1):\n",
            "STOP: TOTAL NO. of ITERATIONS REACHED LIMIT.\n",
            "\n",
            "Increase the number of iterations (max_iter) or scale the data as shown in:\n",
            "    https://scikit-learn.org/stable/modules/preprocessing.html\n",
            "Please also refer to the documentation for alternative solver options:\n",
            "    https://scikit-learn.org/stable/modules/linear_model.html#logistic-regression\n",
            "  extra_warning_msg=_LOGISTIC_SOLVER_CONVERGENCE_MSG,\n",
            "/usr/local/lib/python3.7/dist-packages/sklearn/linear_model/_logistic.py:818: ConvergenceWarning: lbfgs failed to converge (status=1):\n",
            "STOP: TOTAL NO. of ITERATIONS REACHED LIMIT.\n",
            "\n",
            "Increase the number of iterations (max_iter) or scale the data as shown in:\n",
            "    https://scikit-learn.org/stable/modules/preprocessing.html\n",
            "Please also refer to the documentation for alternative solver options:\n",
            "    https://scikit-learn.org/stable/modules/linear_model.html#logistic-regression\n",
            "  extra_warning_msg=_LOGISTIC_SOLVER_CONVERGENCE_MSG,\n",
            "/usr/local/lib/python3.7/dist-packages/sklearn/linear_model/_logistic.py:818: ConvergenceWarning: lbfgs failed to converge (status=1):\n",
            "STOP: TOTAL NO. of ITERATIONS REACHED LIMIT.\n",
            "\n",
            "Increase the number of iterations (max_iter) or scale the data as shown in:\n",
            "    https://scikit-learn.org/stable/modules/preprocessing.html\n",
            "Please also refer to the documentation for alternative solver options:\n",
            "    https://scikit-learn.org/stable/modules/linear_model.html#logistic-regression\n",
            "  extra_warning_msg=_LOGISTIC_SOLVER_CONVERGENCE_MSG,\n"
          ]
        },
        {
          "output_type": "stream",
          "name": "stdout",
          "text": [
            "{'C': 3.5} 0.8593\n"
          ]
        },
        {
          "output_type": "stream",
          "name": "stderr",
          "text": [
            "/usr/local/lib/python3.7/dist-packages/sklearn/linear_model/_logistic.py:818: ConvergenceWarning: lbfgs failed to converge (status=1):\n",
            "STOP: TOTAL NO. of ITERATIONS REACHED LIMIT.\n",
            "\n",
            "Increase the number of iterations (max_iter) or scale the data as shown in:\n",
            "    https://scikit-learn.org/stable/modules/preprocessing.html\n",
            "Please also refer to the documentation for alternative solver options:\n",
            "    https://scikit-learn.org/stable/modules/linear_model.html#logistic-regression\n",
            "  extra_warning_msg=_LOGISTIC_SOLVER_CONVERGENCE_MSG,\n"
          ]
        }
      ]
    },
    {
      "cell_type": "code",
      "source": [
        "from sklearn.metrics import accuracy_score\n",
        "\n",
        "#학습 데이터를 적용한 TfidfVectorizer를 이용해 테스트 데이터를 TF-IDF 값으로 피처 변환함\n",
        "tfidf_matrix_test = tfidf_vect.transform(test_df['document'])\n",
        "\n",
        "#classifier는 GridSearchCV에서 최적 파라미터로 학습된 classifier를 그대로 사용\n",
        "best_estimator = grid_cv.best_estimator_\n",
        "preds = best_estimator.predict(tfidf_matrix_test)\n",
        "\n",
        "print('Logistic Regression 정확도: ', accuracy_score(test_df['label'], preds) )"
      ],
      "metadata": {
        "colab": {
          "base_uri": "https://localhost:8080/"
        },
        "id": "Ets_nJa1ztix",
        "outputId": "78019fe9-1993-40ab-e2ce-20baa3d23c78"
      },
      "execution_count": 62,
      "outputs": [
        {
          "output_type": "stream",
          "name": "stdout",
          "text": [
            "Logistic Regression 정확도:  0.86186\n"
          ]
        }
      ]
    }
  ]
}