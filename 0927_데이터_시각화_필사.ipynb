{
  "nbformat": 4,
  "nbformat_minor": 0,
  "metadata": {
    "colab": {
      "name": "0927 데이터 시각화 필사",
      "private_outputs": true,
      "provenance": [],
      "authorship_tag": "ABX9TyOKq5jTzMkmbv6RLURm0Qo+",
      "include_colab_link": true
    },
    "kernelspec": {
      "name": "python3",
      "display_name": "Python 3"
    },
    "language_info": {
      "name": "python"
    }
  },
  "cells": [
    {
      "cell_type": "markdown",
      "metadata": {
        "id": "view-in-github",
        "colab_type": "text"
      },
      "source": [
        "<a href=\"https://colab.research.google.com/github/sbbwoy/ESAA/blob/main/0927_%EB%8D%B0%EC%9D%B4%ED%84%B0_%EC%8B%9C%EA%B0%81%ED%99%94_%ED%95%84%EC%82%AC.ipynb\" target=\"_parent\"><img src=\"https://colab.research.google.com/assets/colab-badge.svg\" alt=\"Open In Colab\"/></a>"
      ]
    },
    {
      "cell_type": "code",
      "metadata": {
        "id": "qthARSEykQ6O"
      },
      "source": [
        "import seaborn as sns"
      ],
      "execution_count": null,
      "outputs": []
    },
    {
      "cell_type": "code",
      "metadata": {
        "id": "y9pH8nvOkYW7"
      },
      "source": [
        "anscombe=sns.load_dataset(\"anscombe\")\n",
        "print(anscombe)\n",
        "print(type(anscombe))"
      ],
      "execution_count": null,
      "outputs": []
    },
    {
      "cell_type": "code",
      "metadata": {
        "id": "vfpu4KqqkcDA"
      },
      "source": [
        "%matplotlib notebook\n",
        "import matplotlib.pyplot as plt"
      ],
      "execution_count": null,
      "outputs": []
    },
    {
      "cell_type": "code",
      "metadata": {
        "id": "vgXZtPSukdJO"
      },
      "source": [
        "dataset_1=anscombe[anscombe['dataset']=='I']"
      ],
      "execution_count": null,
      "outputs": []
    },
    {
      "cell_type": "code",
      "metadata": {
        "id": "zgT-bIpQkeFh"
      },
      "source": [
        "plt.plot(dataset_1['x'],dataset_1['y'])"
      ],
      "execution_count": null,
      "outputs": []
    },
    {
      "cell_type": "code",
      "metadata": {
        "id": "45gVGIQWkgIK"
      },
      "source": [
        "plt.plot(dataset_1['x'],dataset_1['y'],'o')"
      ],
      "execution_count": null,
      "outputs": []
    },
    {
      "cell_type": "code",
      "metadata": {
        "id": "sp_eLTtHkhPx"
      },
      "source": [
        "dataset_2=anscombe[anscombe['dataset']=='II']\n",
        "dataset_3=anscombe[anscombe['dataset']=='III']\n",
        "dataset_4=anscombe[anscombe['dataset']=='IV']"
      ],
      "execution_count": null,
      "outputs": []
    },
    {
      "cell_type": "code",
      "metadata": {
        "id": "UOFkobPgkiCl"
      },
      "source": [
        "fig=plt.figure()\n",
        "axes1=fig.add_subplot(2,2,1)\n",
        "axes2=fig.add_subplot(2,2,2)\n",
        "axes3=fig.add_subplot(2,2,3)\n",
        "axes4=fig.add_subplot(2,2,4)"
      ],
      "execution_count": null,
      "outputs": []
    },
    {
      "cell_type": "code",
      "metadata": {
        "id": "Mhc3GXlFkjgM"
      },
      "source": [
        "axes1.plot(dataset_1['x'],dataset_1['y'],'o')\n",
        "axes2.plot(dataset_2['x'],dataset_2['y'],'o')\n",
        "axes3.plot(dataset_3['x'],dataset_3['y'],'o')\n",
        "axes4.plot(dataset_4['x'],dataset_4['y'],'o')"
      ],
      "execution_count": null,
      "outputs": []
    },
    {
      "cell_type": "code",
      "metadata": {
        "id": "nEB-BlnRkk-x"
      },
      "source": [
        "axes1.set_title(\"dataset_1\")\n",
        "axes2.set_title(\"dataset_2\")\n",
        "axes3.set_title(\"dataset_3\")\n",
        "axes4.set_title(\"dataset_4\")"
      ],
      "execution_count": null,
      "outputs": []
    },
    {
      "cell_type": "code",
      "metadata": {
        "id": "YXTo-p97km5y"
      },
      "source": [
        "fig.suptitle(\"Anscombe Data\")"
      ],
      "execution_count": null,
      "outputs": []
    },
    {
      "cell_type": "code",
      "metadata": {
        "id": "6v3duCWGkoAS"
      },
      "source": [
        "fig.tight_layout()"
      ],
      "execution_count": null,
      "outputs": []
    }
  ]
}